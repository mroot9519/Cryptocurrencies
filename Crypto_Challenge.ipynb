{
 "cells": [
  {
   "cell_type": "code",
   "execution_count": 34,
   "metadata": {},
   "outputs": [],
   "source": [
    "import pandas as pd\n",
    "from sklearn.preprocessing import StandardScaler\n",
    "from sklearn.decomposition import PCA\n",
    "from sklearn.cluster import KMeans\n",
    "import hvplot.pandas\n",
    "import plotly.express as px"
   ]
  },
  {
   "cell_type": "code",
   "execution_count": 35,
   "metadata": {},
   "outputs": [
    {
     "data": {
      "text/html": [
       "<div>\n",
       "<style scoped>\n",
       "    .dataframe tbody tr th:only-of-type {\n",
       "        vertical-align: middle;\n",
       "    }\n",
       "\n",
       "    .dataframe tbody tr th {\n",
       "        vertical-align: top;\n",
       "    }\n",
       "\n",
       "    .dataframe thead th {\n",
       "        text-align: right;\n",
       "    }\n",
       "</style>\n",
       "<table border=\"1\" class=\"dataframe\">\n",
       "  <thead>\n",
       "    <tr style=\"text-align: right;\">\n",
       "      <th></th>\n",
       "      <th>CoinName</th>\n",
       "      <th>Algorithm</th>\n",
       "      <th>IsTrading</th>\n",
       "      <th>ProofType</th>\n",
       "      <th>TotalCoinsMined</th>\n",
       "      <th>TotalCoinSupply</th>\n",
       "    </tr>\n",
       "    <tr>\n",
       "      <th>Unnamed: 0</th>\n",
       "      <th></th>\n",
       "      <th></th>\n",
       "      <th></th>\n",
       "      <th></th>\n",
       "      <th></th>\n",
       "      <th></th>\n",
       "    </tr>\n",
       "  </thead>\n",
       "  <tbody>\n",
       "    <tr>\n",
       "      <th>42</th>\n",
       "      <td>42 Coin</td>\n",
       "      <td>Scrypt</td>\n",
       "      <td>True</td>\n",
       "      <td>PoW/PoS</td>\n",
       "      <td>4.199995e+01</td>\n",
       "      <td>42</td>\n",
       "    </tr>\n",
       "    <tr>\n",
       "      <th>365</th>\n",
       "      <td>365Coin</td>\n",
       "      <td>X11</td>\n",
       "      <td>True</td>\n",
       "      <td>PoW/PoS</td>\n",
       "      <td>NaN</td>\n",
       "      <td>2300000000</td>\n",
       "    </tr>\n",
       "    <tr>\n",
       "      <th>404</th>\n",
       "      <td>404Coin</td>\n",
       "      <td>Scrypt</td>\n",
       "      <td>True</td>\n",
       "      <td>PoW/PoS</td>\n",
       "      <td>1.055185e+09</td>\n",
       "      <td>532000000</td>\n",
       "    </tr>\n",
       "    <tr>\n",
       "      <th>611</th>\n",
       "      <td>SixEleven</td>\n",
       "      <td>SHA-256</td>\n",
       "      <td>True</td>\n",
       "      <td>PoW</td>\n",
       "      <td>NaN</td>\n",
       "      <td>611000</td>\n",
       "    </tr>\n",
       "    <tr>\n",
       "      <th>808</th>\n",
       "      <td>808</td>\n",
       "      <td>SHA-256</td>\n",
       "      <td>True</td>\n",
       "      <td>PoW/PoS</td>\n",
       "      <td>0.000000e+00</td>\n",
       "      <td>0</td>\n",
       "    </tr>\n",
       "  </tbody>\n",
       "</table>\n",
       "</div>"
      ],
      "text/plain": [
       "             CoinName Algorithm  IsTrading ProofType  TotalCoinsMined  \\\n",
       "Unnamed: 0                                                              \n",
       "42            42 Coin    Scrypt       True   PoW/PoS     4.199995e+01   \n",
       "365           365Coin       X11       True   PoW/PoS              NaN   \n",
       "404           404Coin    Scrypt       True   PoW/PoS     1.055185e+09   \n",
       "611         SixEleven   SHA-256       True       PoW              NaN   \n",
       "808               808   SHA-256       True   PoW/PoS     0.000000e+00   \n",
       "\n",
       "           TotalCoinSupply  \n",
       "Unnamed: 0                  \n",
       "42                      42  \n",
       "365             2300000000  \n",
       "404              532000000  \n",
       "611                 611000  \n",
       "808                      0  "
      ]
     },
     "execution_count": 35,
     "metadata": {},
     "output_type": "execute_result"
    }
   ],
   "source": [
    "# Loading data\n",
    "file_path = \"crypto_data.csv\"\n",
    "crypto_df = pd.read_csv(file_path)\n",
    "crypto_df = crypto_df.set_index(['Unnamed: 0'])\n",
    "crypto_df.head()"
   ]
  },
  {
   "cell_type": "code",
   "execution_count": 36,
   "metadata": {},
   "outputs": [],
   "source": [
    "#Remove all crypto that isnt trading\n",
    "crypto_df = crypto_df.loc[crypto_df.IsTrading, :]"
   ]
  },
  {
   "cell_type": "code",
   "execution_count": 37,
   "metadata": {},
   "outputs": [],
   "source": [
    "#Remove all crypto withput an algo defined\n",
    "crypto_df = crypto_df.dropna(subset=['Algorithm'])"
   ]
  },
  {
   "cell_type": "code",
   "execution_count": 38,
   "metadata": {},
   "outputs": [],
   "source": [
    "#Remove IsTrading Columns\n",
    "crypto_df = crypto_df.drop(['IsTrading'], axis=1)"
   ]
  },
  {
   "cell_type": "code",
   "execution_count": 39,
   "metadata": {},
   "outputs": [],
   "source": [
    "#Remove all rows with at least one element missing\n",
    "crypto_df = crypto_df.dropna()"
   ]
  },
  {
   "cell_type": "code",
   "execution_count": 40,
   "metadata": {},
   "outputs": [],
   "source": [
    "crypto_df['TotalCoinSupply'] = crypto_df['TotalCoinSupply'].astype(float)"
   ]
  },
  {
   "cell_type": "code",
   "execution_count": 41,
   "metadata": {},
   "outputs": [],
   "source": [
    "#Remove all currencies without coins mined\n",
    "crypto_df = crypto_df.loc[crypto_df.TotalCoinSupply>0, :]"
   ]
  },
  {
   "cell_type": "code",
   "execution_count": 42,
   "metadata": {},
   "outputs": [
    {
     "data": {
      "text/html": [
       "<div>\n",
       "<style scoped>\n",
       "    .dataframe tbody tr th:only-of-type {\n",
       "        vertical-align: middle;\n",
       "    }\n",
       "\n",
       "    .dataframe tbody tr th {\n",
       "        vertical-align: top;\n",
       "    }\n",
       "\n",
       "    .dataframe thead th {\n",
       "        text-align: right;\n",
       "    }\n",
       "</style>\n",
       "<table border=\"1\" class=\"dataframe\">\n",
       "  <thead>\n",
       "    <tr style=\"text-align: right;\">\n",
       "      <th></th>\n",
       "      <th>CoinName</th>\n",
       "    </tr>\n",
       "    <tr>\n",
       "      <th>Unnamed: 0</th>\n",
       "      <th></th>\n",
       "    </tr>\n",
       "  </thead>\n",
       "  <tbody>\n",
       "    <tr>\n",
       "      <th>42</th>\n",
       "      <td>42 Coin</td>\n",
       "    </tr>\n",
       "    <tr>\n",
       "      <th>404</th>\n",
       "      <td>404Coin</td>\n",
       "    </tr>\n",
       "    <tr>\n",
       "      <th>1337</th>\n",
       "      <td>EliteCoin</td>\n",
       "    </tr>\n",
       "    <tr>\n",
       "      <th>BTC</th>\n",
       "      <td>Bitcoin</td>\n",
       "    </tr>\n",
       "    <tr>\n",
       "      <th>LTC</th>\n",
       "      <td>Litecoin</td>\n",
       "    </tr>\n",
       "  </tbody>\n",
       "</table>\n",
       "</div>"
      ],
      "text/plain": [
       "             CoinName\n",
       "Unnamed: 0           \n",
       "42            42 Coin\n",
       "404           404Coin\n",
       "1337        EliteCoin\n",
       "BTC           Bitcoin\n",
       "LTC          Litecoin"
      ]
     },
     "execution_count": 42,
     "metadata": {},
     "output_type": "execute_result"
    }
   ],
   "source": [
    "#Create df with just coin names\n",
    "coins_name = pd.DataFrame(crypto_df['CoinName'])\n",
    "coins_name = coins_name.set_index(crypto_df.index)\n",
    "coins_name.head()"
   ]
  },
  {
   "cell_type": "code",
   "execution_count": 43,
   "metadata": {},
   "outputs": [
    {
     "data": {
      "text/html": [
       "<div>\n",
       "<style scoped>\n",
       "    .dataframe tbody tr th:only-of-type {\n",
       "        vertical-align: middle;\n",
       "    }\n",
       "\n",
       "    .dataframe tbody tr th {\n",
       "        vertical-align: top;\n",
       "    }\n",
       "\n",
       "    .dataframe thead th {\n",
       "        text-align: right;\n",
       "    }\n",
       "</style>\n",
       "<table border=\"1\" class=\"dataframe\">\n",
       "  <thead>\n",
       "    <tr style=\"text-align: right;\">\n",
       "      <th></th>\n",
       "      <th>Algorithm</th>\n",
       "      <th>ProofType</th>\n",
       "      <th>TotalCoinsMined</th>\n",
       "      <th>TotalCoinSupply</th>\n",
       "    </tr>\n",
       "    <tr>\n",
       "      <th>Unnamed: 0</th>\n",
       "      <th></th>\n",
       "      <th></th>\n",
       "      <th></th>\n",
       "      <th></th>\n",
       "    </tr>\n",
       "  </thead>\n",
       "  <tbody>\n",
       "    <tr>\n",
       "      <th>42</th>\n",
       "      <td>Scrypt</td>\n",
       "      <td>PoW/PoS</td>\n",
       "      <td>4.199995e+01</td>\n",
       "      <td>4.200000e+01</td>\n",
       "    </tr>\n",
       "    <tr>\n",
       "      <th>404</th>\n",
       "      <td>Scrypt</td>\n",
       "      <td>PoW/PoS</td>\n",
       "      <td>1.055185e+09</td>\n",
       "      <td>5.320000e+08</td>\n",
       "    </tr>\n",
       "    <tr>\n",
       "      <th>1337</th>\n",
       "      <td>X13</td>\n",
       "      <td>PoW/PoS</td>\n",
       "      <td>2.927942e+10</td>\n",
       "      <td>3.141593e+11</td>\n",
       "    </tr>\n",
       "    <tr>\n",
       "      <th>BTC</th>\n",
       "      <td>SHA-256</td>\n",
       "      <td>PoW</td>\n",
       "      <td>1.792718e+07</td>\n",
       "      <td>2.100000e+07</td>\n",
       "    </tr>\n",
       "    <tr>\n",
       "      <th>LTC</th>\n",
       "      <td>Scrypt</td>\n",
       "      <td>PoW</td>\n",
       "      <td>6.303924e+07</td>\n",
       "      <td>8.400000e+07</td>\n",
       "    </tr>\n",
       "  </tbody>\n",
       "</table>\n",
       "</div>"
      ],
      "text/plain": [
       "           Algorithm ProofType  TotalCoinsMined  TotalCoinSupply\n",
       "Unnamed: 0                                                      \n",
       "42            Scrypt   PoW/PoS     4.199995e+01     4.200000e+01\n",
       "404           Scrypt   PoW/PoS     1.055185e+09     5.320000e+08\n",
       "1337             X13   PoW/PoS     2.927942e+10     3.141593e+11\n",
       "BTC          SHA-256       PoW     1.792718e+07     2.100000e+07\n",
       "LTC           Scrypt       PoW     6.303924e+07     8.400000e+07"
      ]
     },
     "execution_count": 43,
     "metadata": {},
     "output_type": "execute_result"
    }
   ],
   "source": [
    "#Drop CoinName\n",
    "crypto_df = crypto_df.drop(['CoinName'], axis=1)\n",
    "crypto_df2 = crypto_df.copy()\n",
    "crypto_df2.head()"
   ]
  },
  {
   "cell_type": "code",
   "execution_count": 44,
   "metadata": {},
   "outputs": [
    {
     "data": {
      "text/html": [
       "<div>\n",
       "<style scoped>\n",
       "    .dataframe tbody tr th:only-of-type {\n",
       "        vertical-align: middle;\n",
       "    }\n",
       "\n",
       "    .dataframe tbody tr th {\n",
       "        vertical-align: top;\n",
       "    }\n",
       "\n",
       "    .dataframe thead th {\n",
       "        text-align: right;\n",
       "    }\n",
       "</style>\n",
       "<table border=\"1\" class=\"dataframe\">\n",
       "  <thead>\n",
       "    <tr style=\"text-align: right;\">\n",
       "      <th></th>\n",
       "      <th>Algorithm</th>\n",
       "      <th>ProofType</th>\n",
       "      <th>TotalCoinsMined</th>\n",
       "      <th>TotalCoinSupply</th>\n",
       "    </tr>\n",
       "    <tr>\n",
       "      <th>Unnamed: 0</th>\n",
       "      <th></th>\n",
       "      <th></th>\n",
       "      <th></th>\n",
       "      <th></th>\n",
       "    </tr>\n",
       "  </thead>\n",
       "  <tbody>\n",
       "    <tr>\n",
       "      <th>42</th>\n",
       "      <td>Scrypt</td>\n",
       "      <td>PoW/PoS</td>\n",
       "      <td>4.199995e+01</td>\n",
       "      <td>4.200000e+01</td>\n",
       "    </tr>\n",
       "    <tr>\n",
       "      <th>404</th>\n",
       "      <td>Scrypt</td>\n",
       "      <td>PoW/PoS</td>\n",
       "      <td>1.055185e+09</td>\n",
       "      <td>5.320000e+08</td>\n",
       "    </tr>\n",
       "    <tr>\n",
       "      <th>1337</th>\n",
       "      <td>X13</td>\n",
       "      <td>PoW/PoS</td>\n",
       "      <td>2.927942e+10</td>\n",
       "      <td>3.141593e+11</td>\n",
       "    </tr>\n",
       "    <tr>\n",
       "      <th>BTC</th>\n",
       "      <td>SHA-256</td>\n",
       "      <td>PoW</td>\n",
       "      <td>1.792718e+07</td>\n",
       "      <td>2.100000e+07</td>\n",
       "    </tr>\n",
       "    <tr>\n",
       "      <th>LTC</th>\n",
       "      <td>Scrypt</td>\n",
       "      <td>PoW</td>\n",
       "      <td>6.303924e+07</td>\n",
       "      <td>8.400000e+07</td>\n",
       "    </tr>\n",
       "  </tbody>\n",
       "</table>\n",
       "</div>"
      ],
      "text/plain": [
       "           Algorithm ProofType  TotalCoinsMined  TotalCoinSupply\n",
       "Unnamed: 0                                                      \n",
       "42            Scrypt   PoW/PoS     4.199995e+01     4.200000e+01\n",
       "404           Scrypt   PoW/PoS     1.055185e+09     5.320000e+08\n",
       "1337             X13   PoW/PoS     2.927942e+10     3.141593e+11\n",
       "BTC          SHA-256       PoW     1.792718e+07     2.100000e+07\n",
       "LTC           Scrypt       PoW     6.303924e+07     8.400000e+07"
      ]
     },
     "execution_count": 44,
     "metadata": {},
     "output_type": "execute_result"
    }
   ],
   "source": [
    "crypto_df.head()"
   ]
  },
  {
   "cell_type": "code",
   "execution_count": 45,
   "metadata": {},
   "outputs": [
    {
     "data": {
      "text/plain": [
       "Algorithm           object\n",
       "ProofType           object\n",
       "TotalCoinsMined    float64\n",
       "TotalCoinSupply    float64\n",
       "dtype: object"
      ]
     },
     "execution_count": 45,
     "metadata": {},
     "output_type": "execute_result"
    }
   ],
   "source": [
    "crypto_df.dtypes"
   ]
  },
  {
   "cell_type": "code",
   "execution_count": 46,
   "metadata": {},
   "outputs": [
    {
     "data": {
      "text/html": [
       "<div>\n",
       "<style scoped>\n",
       "    .dataframe tbody tr th:only-of-type {\n",
       "        vertical-align: middle;\n",
       "    }\n",
       "\n",
       "    .dataframe tbody tr th {\n",
       "        vertical-align: top;\n",
       "    }\n",
       "\n",
       "    .dataframe thead th {\n",
       "        text-align: right;\n",
       "    }\n",
       "</style>\n",
       "<table border=\"1\" class=\"dataframe\">\n",
       "  <thead>\n",
       "    <tr style=\"text-align: right;\">\n",
       "      <th></th>\n",
       "      <th>Algorithm</th>\n",
       "      <th>ProofType</th>\n",
       "      <th>TotalCoinsMined</th>\n",
       "      <th>TotalCoinSupply</th>\n",
       "    </tr>\n",
       "    <tr>\n",
       "      <th>Unnamed: 0</th>\n",
       "      <th></th>\n",
       "      <th></th>\n",
       "      <th></th>\n",
       "      <th></th>\n",
       "    </tr>\n",
       "  </thead>\n",
       "  <tbody>\n",
       "    <tr>\n",
       "      <th>42</th>\n",
       "      <td>57</td>\n",
       "      <td>15</td>\n",
       "      <td>4.199995e+01</td>\n",
       "      <td>4.200000e+01</td>\n",
       "    </tr>\n",
       "    <tr>\n",
       "      <th>404</th>\n",
       "      <td>57</td>\n",
       "      <td>15</td>\n",
       "      <td>1.055185e+09</td>\n",
       "      <td>5.320000e+08</td>\n",
       "    </tr>\n",
       "    <tr>\n",
       "      <th>1337</th>\n",
       "      <td>72</td>\n",
       "      <td>15</td>\n",
       "      <td>2.927942e+10</td>\n",
       "      <td>3.141593e+11</td>\n",
       "    </tr>\n",
       "    <tr>\n",
       "      <th>BTC</th>\n",
       "      <td>51</td>\n",
       "      <td>12</td>\n",
       "      <td>1.792718e+07</td>\n",
       "      <td>2.100000e+07</td>\n",
       "    </tr>\n",
       "    <tr>\n",
       "      <th>LTC</th>\n",
       "      <td>57</td>\n",
       "      <td>12</td>\n",
       "      <td>6.303924e+07</td>\n",
       "      <td>8.400000e+07</td>\n",
       "    </tr>\n",
       "  </tbody>\n",
       "</table>\n",
       "</div>"
      ],
      "text/plain": [
       "            Algorithm  ProofType  TotalCoinsMined  TotalCoinSupply\n",
       "Unnamed: 0                                                        \n",
       "42                 57         15     4.199995e+01     4.200000e+01\n",
       "404                57         15     1.055185e+09     5.320000e+08\n",
       "1337               72         15     2.927942e+10     3.141593e+11\n",
       "BTC                51         12     1.792718e+07     2.100000e+07\n",
       "LTC                57         12     6.303924e+07     8.400000e+07"
      ]
     },
     "execution_count": 46,
     "metadata": {},
     "output_type": "execute_result"
    }
   ],
   "source": [
    "#Get dummies for text\n",
    "from sklearn.preprocessing import LabelEncoder\n",
    "le = LabelEncoder()\n",
    "crypto_df['Algorithm'] = le.fit_transform(crypto_df['Algorithm']) \n",
    "crypto_df['ProofType'] = le.fit_transform(crypto_df['ProofType']) \n",
    "crypto_df.head()"
   ]
  },
  {
   "cell_type": "markdown",
   "metadata": {},
   "source": [
    "PCA"
   ]
  },
  {
   "cell_type": "code",
   "execution_count": 47,
   "metadata": {},
   "outputs": [
    {
     "name": "stdout",
     "output_type": "stream",
     "text": [
      "[[ 0.35856665  0.95311726 -0.09782131 -0.03965512]\n",
      " [ 0.35856665  0.95311726 -0.07228807 -0.03965497]\n",
      " [ 1.19974129  0.95311726  0.61067897 -0.03956909]\n",
      " [ 0.02209679 -0.15682002 -0.09738751 -0.03965511]\n",
      " [ 0.35856665 -0.15682002 -0.0962959  -0.0396551 ]]\n"
     ]
    }
   ],
   "source": [
    "# Standardize data with StandardScaler\n",
    "crypto_scaled = StandardScaler().fit_transform(crypto_df)\n",
    "print(crypto_scaled[0:5])"
   ]
  },
  {
   "cell_type": "code",
   "execution_count": 48,
   "metadata": {},
   "outputs": [],
   "source": [
    "# Initialize PCA model\n",
    "pca = PCA(n_components=3)"
   ]
  },
  {
   "cell_type": "code",
   "execution_count": 49,
   "metadata": {},
   "outputs": [],
   "source": [
    "## Get three principal components for the crypto data.\n",
    "crypto_pca = pca.fit_transform(crypto_scaled)"
   ]
  },
  {
   "cell_type": "code",
   "execution_count": 50,
   "metadata": {},
   "outputs": [
    {
     "data": {
      "text/html": [
       "<div>\n",
       "<style scoped>\n",
       "    .dataframe tbody tr th:only-of-type {\n",
       "        vertical-align: middle;\n",
       "    }\n",
       "\n",
       "    .dataframe tbody tr th {\n",
       "        vertical-align: top;\n",
       "    }\n",
       "\n",
       "    .dataframe thead th {\n",
       "        text-align: right;\n",
       "    }\n",
       "</style>\n",
       "<table border=\"1\" class=\"dataframe\">\n",
       "  <thead>\n",
       "    <tr style=\"text-align: right;\">\n",
       "      <th></th>\n",
       "      <th>PC1</th>\n",
       "      <th>PC2</th>\n",
       "      <th>PC3</th>\n",
       "    </tr>\n",
       "    <tr>\n",
       "      <th>Unnamed: 0</th>\n",
       "      <th></th>\n",
       "      <th></th>\n",
       "      <th></th>\n",
       "    </tr>\n",
       "  </thead>\n",
       "  <tbody>\n",
       "    <tr>\n",
       "      <th>42</th>\n",
       "      <td>-0.908774</td>\n",
       "      <td>0.061375</td>\n",
       "      <td>-0.181022</td>\n",
       "    </tr>\n",
       "    <tr>\n",
       "      <th>404</th>\n",
       "      <td>-0.898369</td>\n",
       "      <td>0.081164</td>\n",
       "      <td>-0.186761</td>\n",
       "    </tr>\n",
       "    <tr>\n",
       "      <th>1337</th>\n",
       "      <td>-1.090641</td>\n",
       "      <td>1.035990</td>\n",
       "      <td>-0.625648</td>\n",
       "    </tr>\n",
       "    <tr>\n",
       "      <th>BTC</th>\n",
       "      <td>0.064587</td>\n",
       "      <td>-0.074469</td>\n",
       "      <td>-0.014353</td>\n",
       "    </tr>\n",
       "    <tr>\n",
       "      <th>LTC</th>\n",
       "      <td>-0.123194</td>\n",
       "      <td>0.096566</td>\n",
       "      <td>-0.128783</td>\n",
       "    </tr>\n",
       "  </tbody>\n",
       "</table>\n",
       "</div>"
      ],
      "text/plain": [
       "                 PC1       PC2       PC3\n",
       "Unnamed: 0                              \n",
       "42         -0.908774  0.061375 -0.181022\n",
       "404        -0.898369  0.081164 -0.186761\n",
       "1337       -1.090641  1.035990 -0.625648\n",
       "BTC         0.064587 -0.074469 -0.014353\n",
       "LTC        -0.123194  0.096566 -0.128783"
      ]
     },
     "execution_count": 50,
     "metadata": {},
     "output_type": "execute_result"
    }
   ],
   "source": [
    "#Transform PCA data in a DataFrame\n",
    "pca_df = pd.DataFrame(\n",
    "    data=crypto_pca, columns=['PC1', 'PC2', 'PC3']\n",
    ")\n",
    "pca_df = pca_df.set_index(crypto_df.index)\n",
    "pca_df.head()"
   ]
  },
  {
   "cell_type": "markdown",
   "metadata": {},
   "source": [
    "KMean and Elbow Curve"
   ]
  },
  {
   "cell_type": "code",
   "execution_count": 51,
   "metadata": {},
   "outputs": [],
   "source": [
    "inertia = []\n",
    "k = list(range(1, 11))"
   ]
  },
  {
   "cell_type": "code",
   "execution_count": 52,
   "metadata": {},
   "outputs": [],
   "source": [
    "# Looking for the best K\n",
    "for i in k:\n",
    "    km = KMeans(n_clusters=i, random_state=0)\n",
    "    km.fit(pca_df)\n",
    "    inertia.append(km.inertia_)"
   ]
  },
  {
   "cell_type": "code",
   "execution_count": 53,
   "metadata": {},
   "outputs": [
    {
     "name": "stderr",
     "output_type": "stream",
     "text": [
      "WARNING:param.CurvePlot02951: title_format is deprecated. Please use title instead\n",
      "WARNING:param.CurvePlot02951: title_format is deprecated. Please use title instead\n"
     ]
    },
    {
     "data": {},
     "metadata": {},
     "output_type": "display_data"
    },
    {
     "data": {
      "application/vnd.holoviews_exec.v0+json": "",
      "text/html": [
       "<div id='1594'>\n",
       "\n",
       "\n",
       "\n",
       "\n",
       "\n",
       "  <div class=\"bk-root\" id=\"6067b014-10dc-42ba-88db-f641e1ebaa30\" data-root-id=\"1594\"></div>\n",
       "</div>\n",
       "<script type=\"application/javascript\">(function(root) {\n",
       "  function embed_document(root) {\n",
       "  var docs_json = {\"52697152-738b-4c98-a54c-16ed1d45d7d0\":{\"roots\":{\"references\":[{\"attributes\":{\"children\":[{\"id\":\"1595\"},{\"id\":\"1599\"},{\"id\":\"1651\"}],\"margin\":[0,0,0,0],\"name\":\"Row02922\",\"tags\":[\"embedded\"]},\"id\":\"1594\",\"type\":\"Row\"},{\"attributes\":{\"data_source\":{\"id\":\"1629\"},\"glyph\":{\"id\":\"1632\"},\"hover_glyph\":null,\"muted_glyph\":{\"id\":\"1634\"},\"nonselection_glyph\":{\"id\":\"1633\"},\"selection_glyph\":null,\"view\":{\"id\":\"1636\"}},\"id\":\"1635\",\"type\":\"GlyphRenderer\"},{\"attributes\":{\"axis_label\":\"inertia\",\"bounds\":\"auto\",\"formatter\":{\"id\":\"1643\"},\"major_label_orientation\":\"horizontal\",\"ticker\":{\"id\":\"1613\"}},\"id\":\"1612\",\"type\":\"LinearAxis\"},{\"attributes\":{},\"id\":\"1613\",\"type\":\"BasicTicker\"},{\"attributes\":{},\"id\":\"1617\",\"type\":\"PanTool\"},{\"attributes\":{},\"id\":\"1616\",\"type\":\"SaveTool\"},{\"attributes\":{\"line_alpha\":0.1,\"line_color\":\"#1f77b3\",\"line_width\":2,\"x\":{\"field\":\"k\"},\"y\":{\"field\":\"inertia\"}},\"id\":\"1633\",\"type\":\"Line\"},{\"attributes\":{\"line_alpha\":0.2,\"line_color\":\"#1f77b3\",\"line_width\":2,\"x\":{\"field\":\"k\"},\"y\":{\"field\":\"inertia\"}},\"id\":\"1634\",\"type\":\"Line\"},{\"attributes\":{\"line_color\":\"#1f77b3\",\"line_width\":2,\"x\":{\"field\":\"k\"},\"y\":{\"field\":\"inertia\"}},\"id\":\"1632\",\"type\":\"Line\"},{\"attributes\":{},\"id\":\"1630\",\"type\":\"Selection\"},{\"attributes\":{\"ticks\":[1,2,3,4,5,6,7,8,9,10]},\"id\":\"1637\",\"type\":\"FixedTicker\"},{\"attributes\":{\"margin\":[5,5,5,5],\"name\":\"HSpacer02926\",\"sizing_mode\":\"stretch_width\"},\"id\":\"1595\",\"type\":\"Spacer\"},{\"attributes\":{},\"id\":\"1620\",\"type\":\"ResetTool\"},{\"attributes\":{},\"id\":\"1604\",\"type\":\"LinearScale\"},{\"attributes\":{\"end\":2269.805509803556,\"reset_end\":2269.805509803556,\"reset_start\":-103.8389253677554,\"start\":-103.8389253677554,\"tags\":[[[\"inertia\",\"inertia\",null]]]},\"id\":\"1597\",\"type\":\"Range1d\"},{\"attributes\":{\"data\":{\"inertia\":{\"__ndarray__\":\"kZXU7AAwoEDsZE8xPm6WQNxJ89lIG4xAugj2gtrcd0AQgoClNTdwQPLTHmhBZWlA8sUkLy/QY0BjQF/csOtfQAA1OgkIulpAcnNk6r59V0A=\",\"dtype\":\"float64\",\"shape\":[10]},\"k\":[1,2,3,4,5,6,7,8,9,10]},\"selected\":{\"id\":\"1630\"},\"selection_policy\":{\"id\":\"1649\"}},\"id\":\"1629\",\"type\":\"ColumnDataSource\"},{\"attributes\":{\"overlay\":{\"id\":\"1621\"}},\"id\":\"1619\",\"type\":\"BoxZoomTool\"},{\"attributes\":{},\"id\":\"1639\",\"type\":\"BasicTickFormatter\"},{\"attributes\":{\"axis_label\":\"k\",\"bounds\":\"auto\",\"formatter\":{\"id\":\"1639\"},\"major_label_orientation\":\"horizontal\",\"ticker\":{\"id\":\"1637\"}},\"id\":\"1608\",\"type\":\"LinearAxis\"},{\"attributes\":{},\"id\":\"1649\",\"type\":\"UnionRenderers\"},{\"attributes\":{\"bottom_units\":\"screen\",\"fill_alpha\":0.5,\"fill_color\":\"lightgrey\",\"left_units\":\"screen\",\"level\":\"overlay\",\"line_alpha\":1.0,\"line_color\":\"black\",\"line_dash\":[4,4],\"line_width\":2,\"render_mode\":\"css\",\"right_units\":\"screen\",\"top_units\":\"screen\"},\"id\":\"1621\",\"type\":\"BoxAnnotation\"},{\"attributes\":{\"end\":10.0,\"reset_end\":10.0,\"reset_start\":1.0,\"start\":1.0,\"tags\":[[[\"k\",\"k\",null]]]},\"id\":\"1596\",\"type\":\"Range1d\"},{\"attributes\":{},\"id\":\"1643\",\"type\":\"BasicTickFormatter\"},{\"attributes\":{\"axis\":{\"id\":\"1608\"},\"grid_line_color\":null,\"ticker\":null},\"id\":\"1611\",\"type\":\"Grid\"},{\"attributes\":{\"margin\":[5,5,5,5],\"name\":\"HSpacer02927\",\"sizing_mode\":\"stretch_width\"},\"id\":\"1651\",\"type\":\"Spacer\"},{\"attributes\":{\"callback\":null,\"renderers\":[{\"id\":\"1635\"}],\"tags\":[\"hv_created\"],\"tooltips\":[[\"k\",\"@{k}\"],[\"inertia\",\"@{inertia}\"]]},\"id\":\"1598\",\"type\":\"HoverTool\"},{\"attributes\":{\"active_drag\":\"auto\",\"active_inspect\":\"auto\",\"active_multi\":null,\"active_scroll\":\"auto\",\"active_tap\":\"auto\",\"tools\":[{\"id\":\"1598\"},{\"id\":\"1616\"},{\"id\":\"1617\"},{\"id\":\"1618\"},{\"id\":\"1619\"},{\"id\":\"1620\"}]},\"id\":\"1622\",\"type\":\"Toolbar\"},{\"attributes\":{\"text\":\"Elbow Curve\",\"text_color\":{\"value\":\"black\"},\"text_font_size\":{\"value\":\"12pt\"}},\"id\":\"1600\",\"type\":\"Title\"},{\"attributes\":{\"source\":{\"id\":\"1629\"}},\"id\":\"1636\",\"type\":\"CDSView\"},{\"attributes\":{\"align\":null,\"below\":[{\"id\":\"1608\"}],\"center\":[{\"id\":\"1611\"},{\"id\":\"1615\"}],\"left\":[{\"id\":\"1612\"}],\"margin\":null,\"min_border_bottom\":10,\"min_border_left\":10,\"min_border_right\":10,\"min_border_top\":10,\"plot_height\":300,\"plot_width\":700,\"renderers\":[{\"id\":\"1635\"}],\"sizing_mode\":\"fixed\",\"title\":{\"id\":\"1600\"},\"toolbar\":{\"id\":\"1622\"},\"x_range\":{\"id\":\"1596\"},\"x_scale\":{\"id\":\"1604\"},\"y_range\":{\"id\":\"1597\"},\"y_scale\":{\"id\":\"1606\"}},\"id\":\"1599\",\"subtype\":\"Figure\",\"type\":\"Plot\"},{\"attributes\":{},\"id\":\"1618\",\"type\":\"WheelZoomTool\"},{\"attributes\":{},\"id\":\"1606\",\"type\":\"LinearScale\"},{\"attributes\":{\"axis\":{\"id\":\"1612\"},\"dimension\":1,\"grid_line_color\":null,\"ticker\":null},\"id\":\"1615\",\"type\":\"Grid\"}],\"root_ids\":[\"1594\"]},\"title\":\"Bokeh Application\",\"version\":\"2.0.1\"}};\n",
       "  var render_items = [{\"docid\":\"52697152-738b-4c98-a54c-16ed1d45d7d0\",\"root_ids\":[\"1594\"],\"roots\":{\"1594\":\"6067b014-10dc-42ba-88db-f641e1ebaa30\"}}];\n",
       "  root.Bokeh.embed.embed_items_notebook(docs_json, render_items);\n",
       "  }\n",
       "if (root.Bokeh !== undefined) {\n",
       "    embed_document(root);\n",
       "  } else {\n",
       "    var attempts = 0;\n",
       "    var timer = setInterval(function(root) {\n",
       "      if (root.Bokeh !== undefined) {\n",
       "        clearInterval(timer);\n",
       "        embed_document(root);\n",
       "      } else if (document.readyState == \"complete\") {\n",
       "        attempts++;\n",
       "        if (attempts > 100) {\n",
       "          clearInterval(timer);\n",
       "          console.log(\"Bokeh: ERROR: Unable to run BokehJS code because BokehJS library is missing\");\n",
       "        }\n",
       "      }\n",
       "    }, 10, root)\n",
       "  }\n",
       "})(window);</script>"
      ],
      "text/plain": [
       ":Curve   [k]   (inertia)"
      ]
     },
     "execution_count": 53,
     "metadata": {
      "application/vnd.holoviews_exec.v0+json": {
       "id": "1594"
      }
     },
     "output_type": "execute_result"
    }
   ],
   "source": [
    "# Define a DataFrame to plot the Elbow Curve using hvPlot\n",
    "elbow_data = {\"k\": k, \"inertia\": inertia}\n",
    "df_elbow = pd.DataFrame(elbow_data)\n",
    "df_elbow.hvplot.line(x=\"k\", y=\"inertia\", title=\"Elbow Curve\", xticks=k)"
   ]
  },
  {
   "cell_type": "code",
   "execution_count": 54,
   "metadata": {},
   "outputs": [
    {
     "data": {
      "text/plain": [
       "KMeans(algorithm='auto', copy_x=True, init='k-means++', max_iter=300,\n",
       "       n_clusters=5, n_init=10, n_jobs=None, precompute_distances='auto',\n",
       "       random_state=5, tol=0.0001, verbose=0)"
      ]
     },
     "execution_count": 54,
     "metadata": {},
     "output_type": "execute_result"
    }
   ],
   "source": [
    "# Initializing model w K=3 for 3 classes of iris plants\n",
    "model = KMeans(n_clusters=5, random_state=5)\n",
    "model"
   ]
  },
  {
   "cell_type": "code",
   "execution_count": 55,
   "metadata": {},
   "outputs": [
    {
     "data": {
      "text/plain": [
       "KMeans(algorithm='auto', copy_x=True, init='k-means++', max_iter=300,\n",
       "       n_clusters=5, n_init=10, n_jobs=None, precompute_distances='auto',\n",
       "       random_state=5, tol=0.0001, verbose=0)"
      ]
     },
     "execution_count": 55,
     "metadata": {},
     "output_type": "execute_result"
    }
   ],
   "source": [
    "# Fitting model\n",
    "model.fit(pca_df)"
   ]
  },
  {
   "cell_type": "code",
   "execution_count": 56,
   "metadata": {},
   "outputs": [
    {
     "name": "stdout",
     "output_type": "stream",
     "text": [
      "[4 4 4 0 0 4 3 3 0 0 4 4 0 0 4 4 0 0 4 0 0 4 0 0 0 0 0 0 0 3 0 4 4 0 4 0 4\n",
      " 0 0 0 4 0 0 0 4 0 0 0 0 0 0 0 0 0 0 0 0 0 0 0 0 4 4 0 0 4 0 4 4 0 0 0 0 4\n",
      " 4 0 3 0 4 0 0 0 0 0 0 4 4 0 0 0 4 4 0 0 0 4 0 3 0 3 4 0 0 0 0 4 4 0 3 0 4\n",
      " 4 0 4 4 3 3 0 3 0 4 0 0 0 0 4 0 0 0 0 4 4 0 4 0 0 0 0 4 0 0 0 4 0 0 0 4 4\n",
      " 4 3 0 4 4 0 0 0 3 0 4 4 0 4 4 0 3 0 0 3 4 4 0 3 4 4 0 3 4 4 0 4 0 0 4 0 3\n",
      " 0 4 3 4 4 0 0 4 0 3 0 4 4 4 4 3 4 0 4 0 4 4 0 4 4 0 3 4 4 4 0 4 0 4 4 0 4\n",
      " 3 4 0 4 4 0 0 4 0 4 0 4 3 0 4 0 0 0 3 0 0 4 3 4 3 0 3 3 4 4 0 3 4 4 4 3 4\n",
      " 4 4 4 4 3 4 4 4 4 4 4 4 3 4 0 4 4 0 4 0 3 4 3 4 3 4 4 4 4 4 4 4 4 0 3 0 4\n",
      " 3 0 0 4 3 4 0 3 3 4 0 3 4 3 4 0 0 3 4 0 3 4 4 4 4 0 0 4 0 0 0 0 3 4 4 4 0\n",
      " 0 3 3 3 3 3 3 0 4 0 4 0 4 0 4 4 4 4 3 4 4 0 3 0 4 4 0 4 0 0 4 0 3 0 0 0 0\n",
      " 0 4 4 3 0 3 4 3 0 4 4 0 3 3 4 4 0 0 3 4 4 0 3 4 4 4 0 0 4 0 0 3 0 0 3 4 3\n",
      " 0 4 0 4 3 3 3 3 0 4 0 3 4 4 0 4 4 3 4 4 0 0 0 0 4 4 0 4 0 3 4 1 3 3 4 3 0\n",
      " 4 3 3 0 0 3 3 0 3 0 0 0 0 0 3 4 3 3 4 4 0 0 3 4 3 0 0 3 0 3 4 4 3 3 0 0 3\n",
      " 3 3 4 4 3 4 4 4 3 3 0 4 0 3 4 4 0 0 3 3 3 4 0 3 4 3 4 0 3 0 0 3 4 3 4 4 0\n",
      " 4 0 4 0 0 0 4 3 3 4 4 3 0 4 0 3 3 0 0 0 0 0 4 4 4 4 4 3 0 3 0 0 3 0 3 0 4\n",
      " 3 3 3 0 4 3 3 3 0 3 3 0 4 3 4 3 0 4 0 0 4 3 4 4 4 0 0 4 0 4 3 0 4 4 0 0 4\n",
      " 3 4 0 4 3 0 4 4 4 0 4 3 0 4 4 3 4 4 3 0 0 4 4 3 0 4 0 0 4 3 0 4 3 3 3 0 3\n",
      " 3 2 0 3 4 3 3 0]\n"
     ]
    }
   ],
   "source": [
    "#Get predictions\n",
    "predictions = model.predict(pca_df)\n",
    "print(predictions)"
   ]
  },
  {
   "cell_type": "code",
   "execution_count": 57,
   "metadata": {},
   "outputs": [
    {
     "data": {
      "text/html": [
       "<div>\n",
       "<style scoped>\n",
       "    .dataframe tbody tr th:only-of-type {\n",
       "        vertical-align: middle;\n",
       "    }\n",
       "\n",
       "    .dataframe tbody tr th {\n",
       "        vertical-align: top;\n",
       "    }\n",
       "\n",
       "    .dataframe thead th {\n",
       "        text-align: right;\n",
       "    }\n",
       "</style>\n",
       "<table border=\"1\" class=\"dataframe\">\n",
       "  <thead>\n",
       "    <tr style=\"text-align: right;\">\n",
       "      <th></th>\n",
       "      <th>PC1</th>\n",
       "      <th>PC2</th>\n",
       "      <th>PC3</th>\n",
       "      <th>class</th>\n",
       "    </tr>\n",
       "    <tr>\n",
       "      <th>Unnamed: 0</th>\n",
       "      <th></th>\n",
       "      <th></th>\n",
       "      <th></th>\n",
       "      <th></th>\n",
       "    </tr>\n",
       "  </thead>\n",
       "  <tbody>\n",
       "    <tr>\n",
       "      <th>42</th>\n",
       "      <td>-0.908774</td>\n",
       "      <td>0.061375</td>\n",
       "      <td>-0.181022</td>\n",
       "      <td>4</td>\n",
       "    </tr>\n",
       "    <tr>\n",
       "      <th>404</th>\n",
       "      <td>-0.898369</td>\n",
       "      <td>0.081164</td>\n",
       "      <td>-0.186761</td>\n",
       "      <td>4</td>\n",
       "    </tr>\n",
       "    <tr>\n",
       "      <th>1337</th>\n",
       "      <td>-1.090641</td>\n",
       "      <td>1.035990</td>\n",
       "      <td>-0.625648</td>\n",
       "      <td>4</td>\n",
       "    </tr>\n",
       "    <tr>\n",
       "      <th>BTC</th>\n",
       "      <td>0.064587</td>\n",
       "      <td>-0.074469</td>\n",
       "      <td>-0.014353</td>\n",
       "      <td>0</td>\n",
       "    </tr>\n",
       "    <tr>\n",
       "      <th>LTC</th>\n",
       "      <td>-0.123194</td>\n",
       "      <td>0.096566</td>\n",
       "      <td>-0.128783</td>\n",
       "      <td>0</td>\n",
       "    </tr>\n",
       "  </tbody>\n",
       "</table>\n",
       "</div>"
      ],
      "text/plain": [
       "                 PC1       PC2       PC3  class\n",
       "Unnamed: 0                                     \n",
       "42         -0.908774  0.061375 -0.181022      4\n",
       "404        -0.898369  0.081164 -0.186761      4\n",
       "1337       -1.090641  1.035990 -0.625648      4\n",
       "BTC         0.064587 -0.074469 -0.014353      0\n",
       "LTC        -0.123194  0.096566 -0.128783      0"
      ]
     },
     "execution_count": 57,
     "metadata": {},
     "output_type": "execute_result"
    }
   ],
   "source": [
    "# Add a new class column to the df_iris\n",
    "pca_df[\"class\"] = model.labels_\n",
    "pca_df.head()"
   ]
  },
  {
   "cell_type": "code",
   "execution_count": 58,
   "metadata": {},
   "outputs": [
    {
     "data": {
      "text/html": [
       "<div>\n",
       "<style scoped>\n",
       "    .dataframe tbody tr th:only-of-type {\n",
       "        vertical-align: middle;\n",
       "    }\n",
       "\n",
       "    .dataframe tbody tr th {\n",
       "        vertical-align: top;\n",
       "    }\n",
       "\n",
       "    .dataframe thead th {\n",
       "        text-align: right;\n",
       "    }\n",
       "</style>\n",
       "<table border=\"1\" class=\"dataframe\">\n",
       "  <thead>\n",
       "    <tr style=\"text-align: right;\">\n",
       "      <th></th>\n",
       "      <th>Algorithm</th>\n",
       "      <th>ProofType</th>\n",
       "      <th>TotalCoinsMined</th>\n",
       "      <th>TotalCoinSupply</th>\n",
       "    </tr>\n",
       "    <tr>\n",
       "      <th>Unnamed: 0</th>\n",
       "      <th></th>\n",
       "      <th></th>\n",
       "      <th></th>\n",
       "      <th></th>\n",
       "    </tr>\n",
       "  </thead>\n",
       "  <tbody>\n",
       "    <tr>\n",
       "      <th>42</th>\n",
       "      <td>Scrypt</td>\n",
       "      <td>PoW/PoS</td>\n",
       "      <td>4.199995e+01</td>\n",
       "      <td>4.200000e+01</td>\n",
       "    </tr>\n",
       "    <tr>\n",
       "      <th>404</th>\n",
       "      <td>Scrypt</td>\n",
       "      <td>PoW/PoS</td>\n",
       "      <td>1.055185e+09</td>\n",
       "      <td>5.320000e+08</td>\n",
       "    </tr>\n",
       "    <tr>\n",
       "      <th>1337</th>\n",
       "      <td>X13</td>\n",
       "      <td>PoW/PoS</td>\n",
       "      <td>2.927942e+10</td>\n",
       "      <td>3.141593e+11</td>\n",
       "    </tr>\n",
       "    <tr>\n",
       "      <th>BTC</th>\n",
       "      <td>SHA-256</td>\n",
       "      <td>PoW</td>\n",
       "      <td>1.792718e+07</td>\n",
       "      <td>2.100000e+07</td>\n",
       "    </tr>\n",
       "    <tr>\n",
       "      <th>LTC</th>\n",
       "      <td>Scrypt</td>\n",
       "      <td>PoW</td>\n",
       "      <td>6.303924e+07</td>\n",
       "      <td>8.400000e+07</td>\n",
       "    </tr>\n",
       "  </tbody>\n",
       "</table>\n",
       "</div>"
      ],
      "text/plain": [
       "           Algorithm ProofType  TotalCoinsMined  TotalCoinSupply\n",
       "Unnamed: 0                                                      \n",
       "42            Scrypt   PoW/PoS     4.199995e+01     4.200000e+01\n",
       "404           Scrypt   PoW/PoS     1.055185e+09     5.320000e+08\n",
       "1337             X13   PoW/PoS     2.927942e+10     3.141593e+11\n",
       "BTC          SHA-256       PoW     1.792718e+07     2.100000e+07\n",
       "LTC           Scrypt       PoW     6.303924e+07     8.400000e+07"
      ]
     },
     "execution_count": 58,
     "metadata": {},
     "output_type": "execute_result"
    }
   ],
   "source": [
    "crypto_df2.head()"
   ]
  },
  {
   "cell_type": "code",
   "execution_count": 59,
   "metadata": {},
   "outputs": [],
   "source": [
    "#Create clustered df data table\n",
    "clustered_df = pd.merge(crypto_df2, pca_df, left_index=True, right_index=True)\n",
    "clustered_df = pd.merge(clustered_df, coins_name, left_index=True, right_index=True)"
   ]
  },
  {
   "cell_type": "code",
   "execution_count": 60,
   "metadata": {},
   "outputs": [
    {
     "data": {
      "text/html": [
       "<div>\n",
       "<style scoped>\n",
       "    .dataframe tbody tr th:only-of-type {\n",
       "        vertical-align: middle;\n",
       "    }\n",
       "\n",
       "    .dataframe tbody tr th {\n",
       "        vertical-align: top;\n",
       "    }\n",
       "\n",
       "    .dataframe thead th {\n",
       "        text-align: right;\n",
       "    }\n",
       "</style>\n",
       "<table border=\"1\" class=\"dataframe\">\n",
       "  <thead>\n",
       "    <tr style=\"text-align: right;\">\n",
       "      <th></th>\n",
       "      <th>Algorithm</th>\n",
       "      <th>ProofType</th>\n",
       "      <th>TotalCoinsMined</th>\n",
       "      <th>TotalCoinSupply</th>\n",
       "      <th>PC1</th>\n",
       "      <th>PC2</th>\n",
       "      <th>PC3</th>\n",
       "      <th>class</th>\n",
       "      <th>CoinName</th>\n",
       "    </tr>\n",
       "    <tr>\n",
       "      <th>Unnamed: 0</th>\n",
       "      <th></th>\n",
       "      <th></th>\n",
       "      <th></th>\n",
       "      <th></th>\n",
       "      <th></th>\n",
       "      <th></th>\n",
       "      <th></th>\n",
       "      <th></th>\n",
       "      <th></th>\n",
       "    </tr>\n",
       "  </thead>\n",
       "  <tbody>\n",
       "    <tr>\n",
       "      <th>42</th>\n",
       "      <td>Scrypt</td>\n",
       "      <td>PoW/PoS</td>\n",
       "      <td>4.199995e+01</td>\n",
       "      <td>4.200000e+01</td>\n",
       "      <td>-0.908774</td>\n",
       "      <td>0.061375</td>\n",
       "      <td>-0.181022</td>\n",
       "      <td>4</td>\n",
       "      <td>42 Coin</td>\n",
       "    </tr>\n",
       "    <tr>\n",
       "      <th>404</th>\n",
       "      <td>Scrypt</td>\n",
       "      <td>PoW/PoS</td>\n",
       "      <td>1.055185e+09</td>\n",
       "      <td>5.320000e+08</td>\n",
       "      <td>-0.898369</td>\n",
       "      <td>0.081164</td>\n",
       "      <td>-0.186761</td>\n",
       "      <td>4</td>\n",
       "      <td>404Coin</td>\n",
       "    </tr>\n",
       "    <tr>\n",
       "      <th>1337</th>\n",
       "      <td>X13</td>\n",
       "      <td>PoW/PoS</td>\n",
       "      <td>2.927942e+10</td>\n",
       "      <td>3.141593e+11</td>\n",
       "      <td>-1.090641</td>\n",
       "      <td>1.035990</td>\n",
       "      <td>-0.625648</td>\n",
       "      <td>4</td>\n",
       "      <td>EliteCoin</td>\n",
       "    </tr>\n",
       "    <tr>\n",
       "      <th>BTC</th>\n",
       "      <td>SHA-256</td>\n",
       "      <td>PoW</td>\n",
       "      <td>1.792718e+07</td>\n",
       "      <td>2.100000e+07</td>\n",
       "      <td>0.064587</td>\n",
       "      <td>-0.074469</td>\n",
       "      <td>-0.014353</td>\n",
       "      <td>0</td>\n",
       "      <td>Bitcoin</td>\n",
       "    </tr>\n",
       "    <tr>\n",
       "      <th>LTC</th>\n",
       "      <td>Scrypt</td>\n",
       "      <td>PoW</td>\n",
       "      <td>6.303924e+07</td>\n",
       "      <td>8.400000e+07</td>\n",
       "      <td>-0.123194</td>\n",
       "      <td>0.096566</td>\n",
       "      <td>-0.128783</td>\n",
       "      <td>0</td>\n",
       "      <td>Litecoin</td>\n",
       "    </tr>\n",
       "  </tbody>\n",
       "</table>\n",
       "</div>"
      ],
      "text/plain": [
       "           Algorithm ProofType  TotalCoinsMined  TotalCoinSupply       PC1  \\\n",
       "Unnamed: 0                                                                   \n",
       "42            Scrypt   PoW/PoS     4.199995e+01     4.200000e+01 -0.908774   \n",
       "404           Scrypt   PoW/PoS     1.055185e+09     5.320000e+08 -0.898369   \n",
       "1337             X13   PoW/PoS     2.927942e+10     3.141593e+11 -1.090641   \n",
       "BTC          SHA-256       PoW     1.792718e+07     2.100000e+07  0.064587   \n",
       "LTC           Scrypt       PoW     6.303924e+07     8.400000e+07 -0.123194   \n",
       "\n",
       "                 PC2       PC3  class   CoinName  \n",
       "Unnamed: 0                                        \n",
       "42          0.061375 -0.181022      4    42 Coin  \n",
       "404         0.081164 -0.186761      4    404Coin  \n",
       "1337        1.035990 -0.625648      4  EliteCoin  \n",
       "BTC        -0.074469 -0.014353      0    Bitcoin  \n",
       "LTC         0.096566 -0.128783      0   Litecoin  "
      ]
     },
     "execution_count": 60,
     "metadata": {},
     "output_type": "execute_result"
    }
   ],
   "source": [
    "clustered_df.head()"
   ]
  },
  {
   "cell_type": "markdown",
   "metadata": {},
   "source": [
    "Visualizing Results"
   ]
  },
  {
   "cell_type": "code",
   "execution_count": 66,
   "metadata": {},
   "outputs": [
    {
     "data": {
      "application/vnd.plotly.v1+json": {
       "config": {
        "plotlyServerURL": "https://plot.ly"
       },
       "data": [
        {
         "customdata": [
          [
           "Scrypt"
          ],
          [
           "Scrypt"
          ],
          [
           "X13"
          ],
          [
           "SHA-256"
          ],
          [
           "Scrypt"
          ],
          [
           "X11"
          ],
          [
           "Ethash"
          ],
          [
           "Equihash"
          ],
          [
           "SHA-512"
          ],
          [
           "Multiple"
          ],
          [
           "SHA-256"
          ],
          [
           "X11"
          ],
          [
           "SHA-256"
          ],
          [
           "Scrypt"
          ],
          [
           "X15"
          ],
          [
           "X11"
          ],
          [
           "SHA-256"
          ],
          [
           "X13"
          ],
          [
           "X13"
          ],
          [
           "Scrypt"
          ],
          [
           "Scrypt"
          ],
          [
           "Scrypt"
          ],
          [
           "SHA-256"
          ],
          [
           "Multiple"
          ],
          [
           "Scrypt"
          ],
          [
           "SHA-256"
          ],
          [
           "Scrypt"
          ],
          [
           "Scrypt"
          ],
          [
           "Quark"
          ],
          [
           "Groestl"
          ],
          [
           "Scrypt"
          ],
          [
           "X11"
          ],
          [
           "Scrypt"
          ],
          [
           "Scrypt"
          ],
          [
           "Scrypt"
          ],
          [
           "Scrypt"
          ],
          [
           "Scrypt"
          ],
          [
           "Scrypt"
          ],
          [
           "Multiple"
          ],
          [
           "Scrypt"
          ],
          [
           "X11"
          ],
          [
           "Scrypt"
          ],
          [
           "Groestl"
          ],
          [
           "Multiple"
          ],
          [
           "X11"
          ],
          [
           "Scrypt"
          ],
          [
           "SHA-256"
          ],
          [
           "Scrypt"
          ],
          [
           "Scrypt"
          ],
          [
           "Scrypt"
          ],
          [
           "Scrypt"
          ],
          [
           "Scrypt"
          ],
          [
           "Scrypt"
          ],
          [
           "X11"
          ],
          [
           "NIST5"
          ],
          [
           "SHA-256"
          ],
          [
           "Scrypt"
          ],
          [
           "NeoScrypt"
          ],
          [
           "Scrypt"
          ],
          [
           "Scrypt"
          ],
          [
           "Scrypt"
          ],
          [
           "X11"
          ],
          [
           "Scrypt"
          ],
          [
           "Multiple"
          ],
          [
           "Scrypt"
          ],
          [
           "X11"
          ],
          [
           "SHA-256"
          ],
          [
           "X11"
          ],
          [
           "X13"
          ],
          [
           "Scrypt"
          ],
          [
           "Scrypt"
          ],
          [
           "Scrypt"
          ],
          [
           "Scrypt"
          ],
          [
           "X11"
          ],
          [
           "SHA3"
          ],
          [
           "Scrypt"
          ],
          [
           "HybridScryptHash256"
          ],
          [
           "Scrypt"
          ],
          [
           "SHA-256"
          ],
          [
           "Scrypt"
          ],
          [
           "SHA-256"
          ],
          [
           "Scrypt"
          ],
          [
           "SHA-256"
          ],
          [
           "Scrypt"
          ],
          [
           "NeoScrypt"
          ],
          [
           "Scrypt"
          ],
          [
           "Scrypt"
          ],
          [
           "Scrypt"
          ],
          [
           "Scrypt"
          ],
          [
           "Scrypt"
          ],
          [
           "X15"
          ],
          [
           "Scrypt"
          ],
          [
           "Scrypt"
          ],
          [
           "Scrypt-n"
          ],
          [
           "Scrypt"
          ],
          [
           "X11"
          ],
          [
           "SHA-256"
          ],
          [
           "Multiple"
          ],
          [
           "SHA-256"
          ],
          [
           "PHI1612"
          ],
          [
           "X11"
          ],
          [
           "SHA-256"
          ],
          [
           "SHA-256"
          ],
          [
           "SHA-256"
          ],
          [
           "SHA-256"
          ],
          [
           "Scrypt"
          ],
          [
           "Scrypt"
          ],
          [
           "Scrypt"
          ],
          [
           "Lyra2REv2"
          ],
          [
           "Scrypt"
          ],
          [
           "Scrypt"
          ],
          [
           "X11"
          ],
          [
           "SHA-256"
          ],
          [
           "Scrypt"
          ],
          [
           "Scrypt"
          ],
          [
           "CryptoNight"
          ],
          [
           "CryptoNight"
          ],
          [
           "Shabal256"
          ],
          [
           "Counterparty"
          ],
          [
           "Scrypt"
          ],
          [
           "SHA-256"
          ],
          [
           "SHA-256"
          ],
          [
           "Scrypt"
          ],
          [
           "Scrypt"
          ],
          [
           "Scrypt"
          ],
          [
           "X13"
          ],
          [
           "Scrypt"
          ],
          [
           "Scrypt"
          ],
          [
           "Scrypt"
          ],
          [
           "SHA-256"
          ],
          [
           "X13"
          ],
          [
           "X13"
          ],
          [
           "Scrypt"
          ],
          [
           "X11"
          ],
          [
           "Momentum"
          ],
          [
           "Stanford Folding"
          ],
          [
           "X11"
          ],
          [
           "Scrypt"
          ],
          [
           "Scrypt"
          ],
          [
           "Scrypt"
          ],
          [
           "M7 POW"
          ],
          [
           "Scrypt"
          ],
          [
           "X11"
          ],
          [
           "Scrypt"
          ],
          [
           "SHA-256"
          ],
          [
           "Scrypt"
          ],
          [
           "X11"
          ],
          [
           "SHA3"
          ],
          [
           "X11"
          ],
          [
           "Lyra2RE"
          ],
          [
           "SHA-256"
          ],
          [
           "QUAIT"
          ],
          [
           "X11"
          ],
          [
           "Scrypt"
          ],
          [
           "Scrypt"
          ],
          [
           "Scrypt"
          ],
          [
           "Ethash"
          ],
          [
           "X11"
          ],
          [
           "X13"
          ],
          [
           "SHA-256"
          ],
          [
           "X13"
          ],
          [
           "X15"
          ],
          [
           "X11"
          ],
          [
           "SHA-256"
          ],
          [
           "BLAKE256"
          ],
          [
           "Scrypt"
          ],
          [
           "Scrypt"
          ],
          [
           "1GB AES Pattern Search"
          ],
          [
           "SHA-256"
          ],
          [
           "X11"
          ],
          [
           "Scrypt"
          ],
          [
           "CryptoNight"
          ],
          [
           "SHA-256"
          ],
          [
           "Quark"
          ],
          [
           "SHA-256"
          ],
          [
           "Blake"
          ],
          [
           "Scrypt"
          ],
          [
           "Scrypt"
          ],
          [
           "SHA-256"
          ],
          [
           "X11"
          ],
          [
           "Scrypt"
          ],
          [
           "Scrypt-n"
          ],
          [
           "X11"
          ],
          [
           "Scrypt"
          ],
          [
           "Dagger"
          ],
          [
           "Scrypt"
          ],
          [
           "SHA-256"
          ],
          [
           "CryptoNight-Lite"
          ],
          [
           "X11GOST"
          ],
          [
           "X11"
          ],
          [
           "SHA-256"
          ],
          [
           "Scrypt"
          ],
          [
           "SHA-256"
          ],
          [
           "Scrypt"
          ],
          [
           "PoS"
          ],
          [
           "Scrypt"
          ],
          [
           "X11"
          ],
          [
           "X11"
          ],
          [
           "X11"
          ],
          [
           "X11"
          ],
          [
           "PoS"
          ],
          [
           "SHA-256"
          ],
          [
           "SHA-256"
          ],
          [
           "SHA-256"
          ],
          [
           "NIST5"
          ],
          [
           "X15"
          ],
          [
           "X11"
          ],
          [
           "NIST5"
          ],
          [
           "Scrypt"
          ],
          [
           "Scrypt"
          ],
          [
           "Scrypt"
          ],
          [
           "POS 3.0"
          ],
          [
           "Scrypt"
          ],
          [
           "Scrypt"
          ],
          [
           "Scrypt"
          ],
          [
           "X13"
          ],
          [
           "X11"
          ],
          [
           "X11"
          ],
          [
           "Equihash"
          ],
          [
           "X11"
          ],
          [
           "X11"
          ],
          [
           "Scrypt"
          ],
          [
           "CryptoNight"
          ],
          [
           "SHA-256"
          ],
          [
           "SHA-256"
          ],
          [
           "X11"
          ],
          [
           "Scrypt"
          ],
          [
           "Multiple"
          ],
          [
           "Scrypt"
          ],
          [
           "X11"
          ],
          [
           "SHA-256"
          ],
          [
           "Scrypt"
          ],
          [
           "Scrypt"
          ],
          [
           "SHA-256D"
          ],
          [
           "PoS"
          ],
          [
           "Scrypt"
          ],
          [
           "X11"
          ],
          [
           "Scrypt-n"
          ],
          [
           "Lyra2Z"
          ],
          [
           "SHA-256"
          ],
          [
           "PoS"
          ],
          [
           "X13"
          ],
          [
           "Quark"
          ],
          [
           "X14"
          ],
          [
           "PoS"
          ],
          [
           "SHA-256D"
          ],
          [
           "Ethash"
          ],
          [
           "SHA-256"
          ],
          [
           "Equihash"
          ],
          [
           "DPoS"
          ],
          [
           "X11"
          ],
          [
           "Scrypt"
          ],
          [
           "Scrypt"
          ],
          [
           "Equihash"
          ],
          [
           "X11"
          ],
          [
           "X13"
          ],
          [
           "X11"
          ],
          [
           "PoS"
          ],
          [
           "SHA-256D"
          ],
          [
           "Scrypt"
          ],
          [
           "Scrypt"
          ],
          [
           "Scrypt"
          ],
          [
           "X11"
          ],
          [
           "PoS"
          ],
          [
           "X11"
          ],
          [
           "SHA-256"
          ],
          [
           "Scrypt"
          ],
          [
           "X11"
          ],
          [
           "Scrypt"
          ],
          [
           "Scrypt"
          ],
          [
           "X11"
          ],
          [
           "CryptoNight"
          ],
          [
           "Scrypt"
          ],
          [
           "Scrypt"
          ],
          [
           "Scrypt"
          ],
          [
           "Scrypt"
          ],
          [
           "Quark"
          ],
          [
           "QuBit"
          ],
          [
           "Scrypt"
          ],
          [
           "CryptoNight"
          ],
          [
           "X11"
          ],
          [
           "Lyra2RE"
          ],
          [
           "X13"
          ],
          [
           "PoS"
          ],
          [
           "Scrypt"
          ],
          [
           "SHA-256"
          ],
          [
           "X11"
          ],
          [
           "X11"
          ],
          [
           "X11"
          ],
          [
           "Scrypt"
          ],
          [
           "X11"
          ],
          [
           "Scrypt"
          ],
          [
           "Scrypt"
          ],
          [
           "CryptoNight-V7"
          ],
          [
           "Scrypt"
          ],
          [
           "Scrypt"
          ],
          [
           "Keccak"
          ],
          [
           "Scrypt"
          ],
          [
           "X13"
          ],
          [
           "X11"
          ],
          [
           "Equihash"
          ],
          [
           "Scrypt"
          ],
          [
           "Scrypt"
          ],
          [
           "Lyra2RE"
          ],
          [
           "Ethash"
          ],
          [
           "X11"
          ],
          [
           "Scrypt"
          ],
          [
           "Dagger-Hashimoto"
          ],
          [
           "X11"
          ],
          [
           "Blake2S"
          ],
          [
           "X11"
          ],
          [
           "Scrypt"
          ],
          [
           "Scrypt"
          ],
          [
           "PoS"
          ],
          [
           "X11"
          ],
          [
           "NIST5"
          ],
          [
           "PoS"
          ],
          [
           "X11"
          ],
          [
           "Scrypt"
          ],
          [
           "Scrypt"
          ],
          [
           "Scrypt"
          ],
          [
           "Scrypt"
          ],
          [
           "SHA-256"
          ],
          [
           "X11"
          ],
          [
           "Scrypt"
          ],
          [
           "Scrypt"
          ],
          [
           "Scrypt"
          ],
          [
           "SHA-256"
          ],
          [
           "PoS"
          ],
          [
           "Scrypt"
          ],
          [
           "X11"
          ],
          [
           "X15"
          ],
          [
           "SHA-256"
          ],
          [
           "Scrypt"
          ],
          [
           "POS 3.0"
          ],
          [
           "CryptoNight-V7"
          ],
          [
           "536"
          ],
          [
           "Blake2b"
          ],
          [
           "Cloverhash"
          ],
          [
           "CryptoNight"
          ],
          [
           "NIST5"
          ],
          [
           "X11"
          ],
          [
           "NIST5"
          ],
          [
           "Skein"
          ],
          [
           "Scrypt"
          ],
          [
           "X13"
          ],
          [
           "Scrypt"
          ],
          [
           "X11"
          ],
          [
           "X11"
          ],
          [
           "X11"
          ],
          [
           "Scrypt"
          ],
          [
           "CryptoNight"
          ],
          [
           "X13"
          ],
          [
           "Time Travel"
          ],
          [
           "Scrypt"
          ],
          [
           "Keccak"
          ],
          [
           "SkunkHash v2 Raptor"
          ],
          [
           "X11"
          ],
          [
           "Skein"
          ],
          [
           "SHA-256"
          ],
          [
           "X11"
          ],
          [
           "Scrypt"
          ],
          [
           "Scrypt"
          ],
          [
           "VeChainThor Authority"
          ],
          [
           "Scrypt"
          ],
          [
           "PoS"
          ],
          [
           "Scrypt"
          ],
          [
           "Scrypt"
          ],
          [
           "Scrypt"
          ],
          [
           "Scrypt"
          ],
          [
           "Scrypt"
          ],
          [
           "Scrypt"
          ],
          [
           "Scrypt"
          ],
          [
           "CryptoNight"
          ],
          [
           "SHA-512"
          ],
          [
           "Ouroboros"
          ],
          [
           "X11"
          ],
          [
           "Equihash"
          ],
          [
           "NeoScrypt"
          ],
          [
           "X11"
          ],
          [
           "Scrypt"
          ],
          [
           "NeoScrypt"
          ],
          [
           "Lyra2REv2"
          ],
          [
           "Equihash"
          ],
          [
           "Scrypt"
          ],
          [
           "SHA-256"
          ],
          [
           "NIST5"
          ],
          [
           "PHI1612"
          ],
          [
           "Dagger"
          ],
          [
           "Scrypt"
          ],
          [
           "Quark"
          ],
          [
           "Scrypt"
          ],
          [
           "POS 2.0"
          ],
          [
           "Scrypt"
          ],
          [
           "SkunkHash"
          ],
          [
           "X11"
          ],
          [
           "Quark"
          ],
          [
           "SHA-256"
          ],
          [
           "X11"
          ],
          [
           "NeoScrypt"
          ],
          [
           "Scrypt"
          ],
          [
           "Ethash"
          ],
          [
           "Scrypt"
          ],
          [
           "NeoScrypt"
          ],
          [
           "Quark"
          ],
          [
           "X11"
          ],
          [
           "DPoS"
          ],
          [
           "NIST5"
          ],
          [
           "X13"
          ],
          [
           "Multiple"
          ],
          [
           "Scrypt"
          ],
          [
           "CryptoNight"
          ],
          [
           "CryptoNight"
          ],
          [
           "Ethash"
          ],
          [
           "NIST5"
          ],
          [
           "Quark"
          ],
          [
           "X11"
          ],
          [
           "SHA-256"
          ],
          [
           "CryptoNight-V7"
          ],
          [
           "Scrypt"
          ],
          [
           "Scrypt"
          ],
          [
           "Scrypt"
          ],
          [
           "X11"
          ],
          [
           "SHA-256"
          ],
          [
           "BLAKE256"
          ],
          [
           "X11"
          ],
          [
           "Scrypt"
          ],
          [
           "NeoScrypt"
          ],
          [
           "Quark"
          ],
          [
           "NeoScrypt"
          ],
          [
           "Scrypt"
          ],
          [
           "Scrypt"
          ],
          [
           "Scrypt"
          ],
          [
           "X11"
          ],
          [
           "X11"
          ],
          [
           "SHA-256"
          ],
          [
           "C11"
          ],
          [
           "Scrypt"
          ],
          [
           "Scrypt"
          ],
          [
           "POS 3.0"
          ],
          [
           "Ethash"
          ],
          [
           "Scrypt"
          ],
          [
           "CryptoNight"
          ],
          [
           "SkunkHash"
          ],
          [
           "Scrypt"
          ],
          [
           "CryptoNight"
          ],
          [
           "Equihash"
          ],
          [
           "Skein"
          ],
          [
           "Scrypt"
          ],
          [
           "Dagger"
          ],
          [
           "Lyra2REv2"
          ],
          [
           "X13"
          ],
          [
           "Proof-of-BibleHash"
          ],
          [
           "SHA-256 + Hive"
          ],
          [
           "Scrypt"
          ],
          [
           "Scrypt"
          ],
          [
           "Scrypt"
          ],
          [
           "NeoScrypt"
          ],
          [
           "Equihash"
          ],
          [
           "X11"
          ],
          [
           "C11"
          ],
          [
           "Proof-of-Authority"
          ],
          [
           "X11"
          ],
          [
           "XEVAN"
          ],
          [
           "Scrypt"
          ],
          [
           "VBFT"
          ],
          [
           "Ethash"
          ],
          [
           "X11"
          ],
          [
           "CryptoNight"
          ],
          [
           "NeoScrypt"
          ],
          [
           "Scrypt"
          ],
          [
           "IMesh"
          ],
          [
           "NIST5"
          ],
          [
           "Equihash"
          ],
          [
           "Scrypt"
          ],
          [
           "Scrypt"
          ],
          [
           "Equihash"
          ],
          [
           "Equihash"
          ],
          [
           "Scrypt"
          ],
          [
           "Lyra2Z"
          ],
          [
           "Equihash"
          ],
          [
           "Green Protocol"
          ],
          [
           "PoS"
          ],
          [
           "Scrypt"
          ],
          [
           "Scrypt"
          ],
          [
           "Semux BFT consensus"
          ],
          [
           "Scrypt"
          ],
          [
           "X11"
          ],
          [
           "Quark"
          ],
          [
           "PoS"
          ],
          [
           "CryptoNight"
          ],
          [
           "X16R"
          ],
          [
           "Scrypt"
          ],
          [
           "NIST5"
          ],
          [
           "Lyra2RE"
          ],
          [
           "XEVAN"
          ],
          [
           "Tribus"
          ],
          [
           "Scrypt"
          ],
          [
           "Lyra2Z"
          ],
          [
           "CryptoNight"
          ],
          [
           "CryptoNight Heavy"
          ],
          [
           "CryptoNight"
          ],
          [
           "Scrypt"
          ],
          [
           "Scrypt"
          ],
          [
           "Jump Consistent Hash"
          ],
          [
           "SHA-256D"
          ],
          [
           "CryptoNight"
          ],
          [
           "Scrypt"
          ],
          [
           "X15"
          ],
          [
           "Scrypt"
          ],
          [
           "Quark"
          ],
          [
           "SHA-256"
          ],
          [
           "DPoS"
          ],
          [
           "X16R"
          ],
          [
           "HMQ1725"
          ],
          [
           "X11"
          ],
          [
           "X16R"
          ],
          [
           "Quark"
          ],
          [
           "Quark"
          ],
          [
           "Scrypt"
          ],
          [
           "Zhash"
          ],
          [
           "Lyra2REv2"
          ],
          [
           "Quark"
          ],
          [
           "Scrypt"
          ],
          [
           "Scrypt"
          ],
          [
           "CryptoNight-V7"
          ],
          [
           "Cryptonight-GPU"
          ],
          [
           "Scrypt"
          ],
          [
           "XEVAN"
          ],
          [
           "CryptoNight Heavy"
          ],
          [
           "X11"
          ],
          [
           "X11"
          ],
          [
           "Scrypt"
          ],
          [
           "PoS"
          ],
          [
           "Lyra2REv2"
          ],
          [
           "Scrypt"
          ],
          [
           "SHA-256"
          ],
          [
           "Scrypt"
          ],
          [
           "Keccak"
          ],
          [
           "X11"
          ],
          [
           "X11"
          ],
          [
           "Quark"
          ],
          [
           "Scrypt"
          ],
          [
           "SHA-512"
          ],
          [
           "X16R"
          ],
          [
           "ECC 256K1"
          ],
          [
           "NeoScrypt"
          ],
          [
           "Equihash"
          ],
          [
           "XEVAN"
          ],
          [
           "Quark"
          ],
          [
           "CryptoNight Heavy X"
          ],
          [
           "Lyra2Z"
          ],
          [
           "Ethash"
          ],
          [
           "SHA-256"
          ],
          [
           "XEVAN"
          ],
          [
           "Ethash"
          ],
          [
           "CryptoNight"
          ],
          [
           "Quark"
          ],
          [
           "SkunkHash"
          ],
          [
           "Quark"
          ],
          [
           "Argon2"
          ],
          [
           "Blake"
          ],
          [
           "Blake"
          ],
          [
           "SHA-256"
          ],
          [
           "Equihash"
          ],
          [
           "Exosis"
          ],
          [
           "Scrypt"
          ],
          [
           "Scrypt"
          ],
          [
           "Equihash"
          ],
          [
           "Quark"
          ],
          [
           "Equihash"
          ],
          [
           "Quark"
          ],
          [
           "Scrypt"
          ],
          [
           "QuBit"
          ],
          [
           "X11"
          ],
          [
           "Scrypt"
          ],
          [
           "Equihash1927"
          ],
          [
           "XEVAN"
          ],
          [
           "SHA-256D"
          ],
          [
           "X11"
          ],
          [
           "SHA-256"
          ],
          [
           "SHA-256"
          ],
          [
           "X13"
          ],
          [
           "SHA-256"
          ],
          [
           "X11"
          ],
          [
           "DPoS"
          ],
          [
           "X11"
          ],
          [
           "Scrypt"
          ],
          [
           "X11"
          ],
          [
           "Scrypt"
          ],
          [
           "NeoScrypt"
          ],
          [
           "Scrypt"
          ],
          [
           "Blake"
          ],
          [
           "Scrypt"
          ],
          [
           "SHA-256"
          ],
          [
           "X11"
          ],
          [
           "CryptoNight"
          ],
          [
           "Scrypt"
          ],
          [
           "Scrypt"
          ],
          [
           "SHA-256"
          ],
          [
           "X11"
          ],
          [
           "SHA-256"
          ],
          [
           "Scrypt"
          ],
          [
           "CryptoNight"
          ],
          [
           "Scrypt"
          ],
          [
           "SHA-256"
          ],
          [
           "Scrypt"
          ],
          [
           "Groestl"
          ],
          [
           "X11"
          ],
          [
           "Scrypt"
          ],
          [
           "PoS"
          ],
          [
           "Scrypt"
          ],
          [
           "Scrypt"
          ],
          [
           "X11"
          ],
          [
           "SHA-256"
          ],
          [
           "DPoS"
          ],
          [
           "Scrypt"
          ],
          [
           "Scrypt"
          ],
          [
           "Scrypt"
          ],
          [
           "NeoScrypt"
          ],
          [
           "Scrypt"
          ],
          [
           "SHA3-256"
          ],
          [
           "Multiple"
          ],
          [
           "X13"
          ],
          [
           "Equihash+Scrypt"
          ],
          [
           "Ethash"
          ],
          [
           "Ethash"
          ],
          [
           "SHA-256"
          ],
          [
           "Leased POS"
          ],
          [
           "PoS"
          ],
          [
           "TRC10"
          ],
          [
           "PoS"
          ],
          [
           "SHA-256"
          ],
          [
           "Scrypt"
          ],
          [
           "CryptoNight"
          ],
          [
           "Equihash"
          ],
          [
           "Scrypt"
          ]
         ],
         "hovertemplate": "<b>%{hovertext}</b><br><br>PC1=%{x}<br>PC2=%{y}<br>PC3=%{z}<br>Algorithm=%{customdata[0]}<br>class=%{marker.color}<extra></extra>",
         "hovertext": [
          "42 Coin",
          "404Coin",
          "EliteCoin",
          "Bitcoin",
          "Litecoin",
          "Dash",
          "Ethereum Classic",
          "ZCash",
          "Bitshares",
          "DigiByte",
          "BitcoinDark",
          "Bitstake",
          "PayCoin",
          "ProsperCoin",
          "KoboCoin",
          "Spreadcoin",
          "ACoin",
          "Aero Coin",
          "ApexCoin",
          "ArchCoin",
          "Argentum",
          "Aurora Coin",
          "BetaCoin",
          "MyriadCoin",
          "MoonCoin",
          "ZetaCoin",
          "SexCoin",
          "Quatloo",
          "QuarkCoin",
          "Riecoin",
          "Digitalcoin ",
          "LimeCoinX",
          "BitBar",
          "BitMark",
          "CashCoin",
          "Catcoin",
          "CryptoBullion",
          "CannaCoin",
          "CinderCoin",
          "CoolCoin",
          "CryptCoin",
          "CasinoCoin",
          "Diamond",
          "Verge",
          "DarkCash",
          "DarkShibe",
          "DevCoin",
          "EarthCoin",
          "E-Gulden",
          "Elacoin",
          "Einsteinium",
          "Emerald",
          "Flappy Coin",
          "Fuel2Coin",
          "FIBRE",
          "FireRoosterCoin",
          "Franko",
          "FeatherCoin",
          "GrandCoin",
          "GlobalCoin",
          "GoldCoin",
          "GlyphCoin",
          "HoboNickels",
          "HunterCoin",
          "Infinite Coin",
          "IOCoin",
          "IXcoin",
          "JumBucks Coin",
          "JudgeCoin",
          "KrugerCoin",
          "LuckyCoin",
          "Litebar ",
          "LitecoinDark",
          "LibrexCoin",
          "MaxCoin",
          "MegaCoin",
          "MediterraneanCoin",
          "MinCoin",
          "MazaCoin",
          "Nautilus Coin",
          "NoirBits",
          "NobleCoin",
          "Namecoin",
          "NyanCoin",
          "Orbitcoin",
          "PotCoin",
          "PhoenixCoin",
          "RipOffCoin",
          "RonPaulCoin",
          "StableCoin",
          "ShieldCoin",
          "SilkCoin",
          "SmartCoin",
          "SpainCoin",
          "SecureCoin",
          "SyncCoin",
          "SysCoin",
          "TeslaCoin",
          "TigerCoin",
          "TittieCoin",
          "TorCoin",
          "TerraCoin",
          "Umbrella",
          "UnbreakableCoin",
          "Unobtanium",
          "UnitaryStatus Dollar",
          "UltraCoin",
          "ViaCoin",
          "Vertcoin",
          "WorldCoin",
          "SocialXbotCoin",
          "X11 Coin",
          "JouleCoin",
          "XXXCoin",
          "ZCC Coin",
          "ByteCoin",
          "DigitalNote ",
          "BurstCoin",
          "StorjCoin",
          "MonaCoin",
          "Neutron",
          "Sling Coin",
          "KryptCoin",
          "Gulden",
          "PesetaCoin",
          "Kore",
          "Wild Beast Coin",
          "Dnotes",
          "Flo",
          "MaieutiCoin",
          "Sativa Coin",
          "AeroMe",
          "ArtByte",
          "MasterTraderCoin",
          "BitCredit",
          "Folding Coin",
          "Ucoin",
          "OmniCron",
          "Vtorrent",
          "GreenCoin",
          "Cryptonite",
          "Gridmaster",
          "ConSpiracy Coin ",
          "MasterCoin",
          "SoonCoin",
          "1Credit",
          "Quicksilver coin",
          "Nexus",
          "MarsCoin ",
          "Crypto",
          "Anarchists Prime",
          "Droidz",
          "BowsCoin",
          "Song Coin",
          "BitZeny",
          "Diggits",
          "Expanse",
          "MapCoin",
          "Paycon",
          "Emercoin",
          "BlitzCoin",
          "EverGreenCoin",
          "MindCoin",
          "I0coin",
          "Decred",
          "DogeCoinDark",
          "Revolution VR",
          "HOdlcoin",
          "EDRCoin",
          "Hitcoin",
          "Gamecredits",
          "Dashcoin",
          "DubaiCoin",
          "BiosCrypto",
          "CarpeDiemCoin",
          "TrumpCoin",
          "BillaryCoin",
          "EthereumScrypt",
          "Phalanx",
          "SunShotCoin",
          "GPU Coin",
          "HempCoin",
          "Adzcoin",
          "VirtaCoin",
          "SoilCoin",
          "YoCoin",
          "Universal Currency",
          "AEON",
          "SibCoin",
          "EuropeCoin",
          "Anti Bitcoin",
          "ZeitCoin",
          "SwingCoin",
          "SafeExchangeCoin",
          "Nebuchadnezzar",
          "Francs",
          "BolivarCoin",
          "GIZMOcoin",
          "SecretCoin",
          "Ratecoin",
          "Digital Bullion Gold",
          "Revenu",
          "Clinton",
          "Clockcoin",
          "VIP Tokens",
          "OrlyCoin",
          "BitSend",
          "16BitCoin",
          "ChessCoin",
          "ReeCoin",
          "Omni",
          "Let it Ride",
          "PutinCoin",
          "iBankCoin",
          "Frankywillcoin",
          "MudraCoin",
          "PizzaCoin",
          "Lutetium Coin",
          "Komodo",
          "GoldBlocks",
          "WayCoin",
          "CarterCoin",
          "Karbo",
          "BitTokens",
          "ZayedCoin",
          "MustangCoin",
          "ZoneCoin",
          "Circuits of Value",
          "DopeCoin",
          "PROUD Money",
          "DollarCoin",
          "Swiscoin",
          "Shilling",
          "BuzzCoin",
          "Opair",
          "GBR Coin",
          "Halloween Coin",
          "FujiCoin",
          "ZCoin",
          "LeaCoin",
          "CoffeeCoin",
          "RoyalCoin",
          "Zurcoin",
          "GanjaCoin V2",
          "TeamUP",
          "LanaCoin",
          "Elementrem",
          "CashOut",
          "ZClassic",
          "ARK",
          "InsaneCoin",
          "LuckChain",
          "KiloCoin",
          "Hush",
          "ArtexCoin",
          "EmberCoin",
          "XenixCoin",
          "FreeCoin",
          "NPCcoin",
          "PLNCoin",
          "Icobid",
          "AquariusCoin",
          "Kurrent",
          "Creatio",
          "Eternity",
          "Eurocoin",
          "BitcoinFast",
          "Stakenet",
          "BitConnect Coin",
          "MoneyCoin",
          "Enigma",
          "Cannabis Industry Coin",
          "Russiacoin",
          "PandaCoin",
          "GameUnits",
          "GAKHcoin",
          "Allsafe",
          "LiteCreed",
          "OsmiumCoin",
          "Bikercoins",
          "NeptuneClassic",
          "HexxCoin",
          "GoldenBird",
          "Ride My Car",
          "Klingon Empire Darsek",
          "Internet of People",
          "KushCoin",
          "Eryllium",
          "MarxCoin",
          "Printerium",
          "PacCoin",
          "Impeach",
          "Solarflarecoin",
          "Citadel",
          "Zilbercoin",
          "FirstCoin",
          "CreativeChain",
          "BeaverCoin",
          "FindCoin",
          "VaultCoin",
          "Zero",
          "OpenChat",
          "Canada eCoin",
          "Zoin",
          "Musicoin",
          "BnrtxCoin",
          "RenosCoin",
          "DubaiCoin",
          "VirtacoinPlus",
          "TajCoin",
          "Impact",
          "EB3coin",
          "Universe",
          "Atmos",
          "HappyCoin",
          "Coinonat",
          "MacronCoin",
          "Condensate",
          "Independent Money System",
          "ArgusCoin",
          "LomoCoin",
          "Bitcoin Scrypt",
          "ProCurrency",
          "GoldReserve",
          "BenjiRolls",
          "ParallelCoin",
          "GrowthCoin",
          "ILCoin",
          "Phreak",
          "Degas Coin",
          "ZSEcoin",
          "HTML5 Coin",
          "Ultimate Secure Cash",
          "EquiTrader",
          "QTUM",
          "Quantum Resistant Ledger",
          "Espers",
          "Nano",
          "ChanCoin",
          "Dinastycoin",
          "Denarius",
          "DigitalPrice",
          "Virta Unique Coin",
          "Bitcoin Planet",
          "Unify",
          "BritCoin",
          "SocialCoin",
          "Octanox",
          "ArcticCoin",
          "DAS",
          "Linda",
          "LeviarCoin",
          "DeepOnion",
          "Bitcore",
          "gCn Coin",
          "SmartCash",
          "Signatum",
          "Onix",
          "Cream",
          "Bitcoin Cash",
          "Monoeci",
          "CampusCoin",
          "Draftcoin",
          "Vechain",
          "Sojourn Coin",
          "Stakecoin",
          "LiteBitcoin",
          "FrazCoin",
          "Kronecoin",
          "AdCoin",
          "Linx",
          "CoinonatX",
          "Ethereum Dark",
          "Sumokoin",
          "Obsidian",
          "Cardano",
          "Regalcoin",
          "BitcoinZ",
          "TrezarCoin",
          "Elements",
          "TerraNovaCoin",
          "VIVO Coin",
          "Rupee",
          "Bitcoin Gold",
          "WomenCoin",
          "Theresa May Coin",
          "NamoCoin",
          "LUXCoin",
          "Pirl",
          "Xios",
          "Bitcloud 2.0",
          "eBoost",
          "KekCoin",
          "BlackholeCoin",
          "AltCommunity Coin",
          "Pure",
          "Rupaya",
          "Infinity Economics",
          "Pura",
          "Innova",
          "Bitdeal",
          "Ellaism",
          "Sakuracoin",
          "GoByte",
          "Castle",
          "Magnet",
          "Lamden Tau",
          "Electra",
          "Bitcoin Diamond",
          "SHIELD",
          "Cash & Back Coin",
          "UltraNote",
          "BitCoal",
          "DaxxCoin",
          "Bulwark",
          "Kalkulus",
          "AC3",
          "CHIPS",
          "Lethean",
          "GermanCoin",
          "LiteCoin Ultra",
          "PopularCoin",
          "PhantomX",
          "HTML Coin",
          "Photon",
          "Sucre",
          "Fantasy Cash",
          "SparksPay",
          "Digiwage",
          "GunCoin",
          "IrishCoin",
          "Trollcoin",
          "Litecoin Plus",
          "Monkey Project",
          "Pioneer Coin",
          "UnitedBitcoin",
          "Interzone",
          "OP Coin",
          "Valorbit",
          "TokenPay",
          "1717 Masonic Commemorative Token",
          "My Big Coin",
          "TurtleCoin",
          "MUNcoin",
          "Unified Society USDEX",
          "Niobio Cash",
          "Bitcoin Private",
          "Skeincoin",
          "ShareChain",
          "Travelflex",
          "KREDS",
          "Tokyo Coin",
          "BiblePay",
          "LitecoinCash",
          "BitFlip",
          "LottoCoin",
          "LeafCoin",
          "Cerberus",
          "Bitcoin Hush",
          "Crypto Improvement Fund",
          "Stipend",
          "Poa Network",
          "Pushi",
          "Ellerium",
          "Velox",
          "Ontology",
          "Callisto Network",
          "Curium",
          "BitTube",
          "Dinero",
          "Poseidon",
          "Aidos Kuneen",
          "Bitspace",
          "Snowgem",
          "Briacoin",
          "Ignition",
          "Bitrolium",
          "Bitcoin Interest",
          "MedicCoin",
          "Alpenschillling",
          "Zelcash",
          "Bitcoin Green",
          "Deviant Coin",
          "Abjcoin",
          "Profit Hunters Coin",
          "Semux",
          "BitBlocks",
          "FuturoCoin",
          "Carebit",
          "Zealium",
          "Monero Classic",
          "Proton",
          "iDealCash",
          "Jumpcoin",
          "Infinex",
          "Bitcoin Incognito",
          "KEYCO",
          "HollyWoodCoin",
          "GINcoin",
          "PlatinCoin",
          "Loki",
          "Newton Coin",
          "Swisscoin",
          "Xt3ch",
          "MassGrid",
          "TheVig",
          "PluraCoin",
          "EmaratCoin",
          "Dekado",
          "Lynx",
          "Poseidon Quark",
          "BitcoinWSpectrum",
          "Muse",
          "Motion",
          "PlusOneCoin",
          "Axe",
          "Trivechain",
          "Dystem",
          "Giant",
          "Peony Coin",
          "SafeCoin",
          "Absolute Coin",
          "Vitae",
          "HexCoin",
          "TPCash",
          "Webchain",
          "Ryo",
          "MUSDcoin",
          "Urals Coin",
          "Qwertycoin",
          "ARENON",
          "EUNO",
          "MMOCoin",
          "Ketan",
          "NIX",
          "Safe Trade Coin",
          "Project Pai",
          "Mont Blanc",
          "XDNA",
          "PAXEX",
          "Azart",
          "Apollon",
          "ThunderStake",
          "Kcash",
          "Xchange",
          "Acute Angle Cloud",
          "Traid",
          "CrypticCoin",
          "Bettex coin",
          "ZestCoin",
          "X-CASH",
          "Actinium",
          "ETHER-1",
          "Bitcoin SV",
          "BitMoney",
          "Bitcoiin2Gen",
          "FREDEnergy",
          "Zenad",
          "C25 Coin",
          "HerbCoin",
          "Aquachain",
          "Universal Molecule",
          "Lithium",
          "Smart Bitcoin",
          "PirateCash",
          "Exosis",
          "Block-Logic",
          "Oduwa",
          "Beam",
          "Galilel",
          "Bithereum",
          "Crypto Sports",
          "Credit",
          "SLICE",
          "Dash Platinum",
          "Nasdacoin",
          "Vidulum",
          "Beetle Coin",
          "Titan Coin",
          "Award",
          "BlockStamp",
          "BLAST",
          "Bitcoin Rhodium",
          "GlobalToken",
          "Insane Coin",
          "ALAX",
          "The Freedom Coin",
          "LiteDoge",
          "Boolberry",
          "SolarCoin",
          "UFO Coin",
          "OrangeCoin",
          "BlakeCoin",
          "BitstarCoin",
          "NeosCoin",
          "PinkCoin",
          "FantomCoin ",
          "Crypto Escudo",
          "AudioCoin",
          "IncaKoin",
          "Piggy Coin",
          "Crown Coin",
          "Genstake",
          "Quazar Coin",
          "SmileyCoin",
          "ParkByte",
          "XiaoMiCoin",
          "Groestlcoin",
          "CapriCoin",
          " ClubCoin",
          "Radium",
          "Bata",
          "Pakcoin",
          "Creditbit ",
          "OKCash",
          "Lisk",
          "HiCoin",
          "WhiteCoin",
          "Dotcoin",
          "FriendshipCoin",
          "The Hempcoin",
          "Fiii",
          "JoinCoin",
          "Triangles Coin",
          "Vollar",
          "Reality Clash",
          "iOlite",
          "TigerCash",
          "Waves",
          "Particl",
          "BitTorrent",
          "Nxt",
          "ZEPHYR",
          "Gapcoin",
          "Beldex",
          "Horizen",
          "BitcoinPlus"
         ],
         "legendgroup": "",
         "marker": {
          "color": [
           4,
           4,
           4,
           0,
           0,
           4,
           3,
           3,
           0,
           0,
           4,
           4,
           0,
           0,
           4,
           4,
           0,
           0,
           4,
           0,
           0,
           4,
           0,
           0,
           0,
           0,
           0,
           0,
           0,
           3,
           0,
           4,
           4,
           0,
           4,
           0,
           4,
           0,
           0,
           0,
           4,
           0,
           0,
           0,
           4,
           0,
           0,
           0,
           0,
           0,
           0,
           0,
           0,
           0,
           0,
           0,
           0,
           0,
           0,
           0,
           0,
           4,
           4,
           0,
           0,
           4,
           0,
           4,
           4,
           0,
           0,
           0,
           0,
           4,
           4,
           0,
           3,
           0,
           4,
           0,
           0,
           0,
           0,
           0,
           0,
           4,
           4,
           0,
           0,
           0,
           4,
           4,
           0,
           0,
           0,
           4,
           0,
           3,
           0,
           3,
           4,
           0,
           0,
           0,
           0,
           4,
           4,
           0,
           3,
           0,
           4,
           4,
           0,
           4,
           4,
           3,
           3,
           0,
           3,
           0,
           4,
           0,
           0,
           0,
           0,
           4,
           0,
           0,
           0,
           0,
           4,
           4,
           0,
           4,
           0,
           0,
           0,
           0,
           4,
           0,
           0,
           0,
           4,
           0,
           0,
           0,
           4,
           4,
           4,
           3,
           0,
           4,
           4,
           0,
           0,
           0,
           3,
           0,
           4,
           4,
           0,
           4,
           4,
           0,
           3,
           0,
           0,
           3,
           4,
           4,
           0,
           3,
           4,
           4,
           0,
           3,
           4,
           4,
           0,
           4,
           0,
           0,
           4,
           0,
           3,
           0,
           4,
           3,
           4,
           4,
           0,
           0,
           4,
           0,
           3,
           0,
           4,
           4,
           4,
           4,
           3,
           4,
           0,
           4,
           0,
           4,
           4,
           0,
           4,
           4,
           0,
           3,
           4,
           4,
           4,
           0,
           4,
           0,
           4,
           4,
           0,
           4,
           3,
           4,
           0,
           4,
           4,
           0,
           0,
           4,
           0,
           4,
           0,
           4,
           3,
           0,
           4,
           0,
           0,
           0,
           3,
           0,
           0,
           4,
           3,
           4,
           3,
           0,
           3,
           3,
           4,
           4,
           0,
           3,
           4,
           4,
           4,
           3,
           4,
           4,
           4,
           4,
           4,
           3,
           4,
           4,
           4,
           4,
           4,
           4,
           4,
           3,
           4,
           0,
           4,
           4,
           0,
           4,
           0,
           3,
           4,
           3,
           4,
           3,
           4,
           4,
           4,
           4,
           4,
           4,
           4,
           4,
           0,
           3,
           0,
           4,
           3,
           0,
           0,
           4,
           3,
           4,
           0,
           3,
           3,
           4,
           0,
           3,
           4,
           3,
           4,
           0,
           0,
           3,
           4,
           0,
           3,
           4,
           4,
           4,
           4,
           0,
           0,
           4,
           0,
           0,
           0,
           0,
           3,
           4,
           4,
           4,
           0,
           0,
           3,
           3,
           3,
           3,
           3,
           3,
           0,
           4,
           0,
           4,
           0,
           4,
           0,
           4,
           4,
           4,
           4,
           3,
           4,
           4,
           0,
           3,
           0,
           4,
           4,
           0,
           4,
           0,
           0,
           4,
           0,
           3,
           0,
           0,
           0,
           0,
           0,
           4,
           4,
           3,
           0,
           3,
           4,
           3,
           0,
           4,
           4,
           0,
           3,
           3,
           4,
           4,
           0,
           0,
           3,
           4,
           4,
           0,
           3,
           4,
           4,
           4,
           0,
           0,
           4,
           0,
           0,
           3,
           0,
           0,
           3,
           4,
           3,
           0,
           4,
           0,
           4,
           3,
           3,
           3,
           3,
           0,
           4,
           0,
           3,
           4,
           4,
           0,
           4,
           4,
           3,
           4,
           4,
           0,
           0,
           0,
           0,
           4,
           4,
           0,
           4,
           0,
           3,
           4,
           1,
           3,
           3,
           4,
           3,
           0,
           4,
           3,
           3,
           0,
           0,
           3,
           3,
           0,
           3,
           0,
           0,
           0,
           0,
           0,
           3,
           4,
           3,
           3,
           4,
           4,
           0,
           0,
           3,
           4,
           3,
           0,
           0,
           3,
           0,
           3,
           4,
           4,
           3,
           3,
           0,
           0,
           3,
           3,
           3,
           4,
           4,
           3,
           4,
           4,
           4,
           3,
           3,
           0,
           4,
           0,
           3,
           4,
           4,
           0,
           0,
           3,
           3,
           3,
           4,
           0,
           3,
           4,
           3,
           4,
           0,
           3,
           0,
           0,
           3,
           4,
           3,
           4,
           4,
           0,
           4,
           0,
           4,
           0,
           0,
           0,
           4,
           3,
           3,
           4,
           4,
           3,
           0,
           4,
           0,
           3,
           3,
           0,
           0,
           0,
           0,
           0,
           4,
           4,
           4,
           4,
           4,
           3,
           0,
           3,
           0,
           0,
           3,
           0,
           3,
           0,
           4,
           3,
           3,
           3,
           0,
           4,
           3,
           3,
           3,
           0,
           3,
           3,
           0,
           4,
           3,
           4,
           3,
           0,
           4,
           0,
           0,
           4,
           3,
           4,
           4,
           4,
           0,
           0,
           4,
           0,
           4,
           3,
           0,
           4,
           4,
           0,
           0,
           4,
           3,
           4,
           0,
           4,
           3,
           0,
           4,
           4,
           4,
           0,
           4,
           3,
           0,
           4,
           4,
           3,
           4,
           4,
           3,
           0,
           0,
           4,
           4,
           3,
           0,
           4,
           0,
           0,
           4,
           3,
           0,
           4,
           3,
           3,
           3,
           0,
           3,
           3,
           2,
           0,
           3,
           4,
           3,
           3,
           0
          ],
          "coloraxis": "coloraxis",
          "symbol": "circle"
         },
         "mode": "markers",
         "name": "",
         "scene": "scene",
         "showlegend": false,
         "type": "scatter3d",
         "x": [
          -0.9087738761608843,
          -0.898369308968746,
          -1.0906411770589965,
          0.06458668071470454,
          -0.12319366392340769,
          -1.3165060201552092,
          0.9439117929275608,
          1.0369794074337686,
          0.7822888966689975,
          0.5847006290851641,
          -0.7205360016557076,
          -1.3165950718832813,
          0.8494868117147943,
          -0.12375837809993952,
          -1.441826669701345,
          -0.5315265101024812,
          0.0644099116276573,
          0.19058044799274665,
          -1.3793367944164,
          0.6611433652248397,
          -0.12369490335433175,
          -0.908595057151726,
          0.0644099104251571,
          0.48887795954804214,
          -0.12383044395938125,
          0.06608819534657684,
          -0.12254385057610903,
          -0.12374270820357079,
          0.09834011124912749,
          0.8491700086171622,
          -0.12348549463680605,
          -0.5316364514381818,
          -0.9087734567423724,
          -0.12381525644162282,
          -0.9087738784513018,
          -0.1237440642235844,
          -0.9087636304659673,
          -0.12376887354317478,
          -0.31272751878594324,
          0.6611433619180881,
          -0.5315871788310049,
          1.3172122775530983,
          0.0637554033404415,
          0.6293026521278469,
          -1.316595071979007,
          -0.12381525543152115,
          0.2495275984290264,
          -0.00017556777640066425,
          -0.12360906963523936,
          -0.12381525831736495,
          -0.12165709375003628,
          -0.12362300970204394,
          -0.12381921094349058,
          0.25332216666125096,
          -0.3440983754748532,
          0.06440991158800606,
          -0.12380398795198376,
          0.4115469406253847,
          -0.11509744108670884,
          -0.12316769612290887,
          -0.12340448556059089,
          -1.31659507210875,
          -0.9078936699737093,
          0.47223110528643497,
          0.7694952537736166,
          -1.3164210269032484,
          0.06461786114539038,
          -1.3165950719621167,
          -1.3793367950334727,
          -0.12232192520844984,
          -0.1236246901088394,
          -0.12380436608276556,
          -0.12381525859438301,
          -1.3165950718714146,
          -0.8454262754380633,
          -0.12343906146056981,
          0.7863383867189827,
          -0.12375802372539337,
          -0.7046356693050461,
          0.6613029071717964,
          0.06440990971315042,
          -0.100485391077298,
          0.06455521826552978,
          -0.1205148880738088,
          -0.3754374800755466,
          -0.9065781975015014,
          -0.9080446093750875,
          -0.12381525582534147,
          -0.12380436870204573,
          -0.12357649286483233,
          -1.442078516565826,
          -0.9087738766145776,
          -0.12356289183658892,
          -0.15518611850206956,
          -0.1238152561813448,
          -1.316595060226159,
          0.06996462338967793,
          1.257981127797459,
          0.06483920188647448,
          1.1477030474168233,
          -1.3165809535448678,
          0.0646360631525663,
          0.0644099115871125,
          0.06443237209052398,
          0.06441189275995846,
          -0.8979377824765638,
          -0.9082785391864873,
          -0.12358697825020153,
          0.5982191438126406,
          -0.12263588864438318,
          -0.9087738766541336,
          -1.3165265337883012,
          0.06479639719302428,
          -0.9087738785528181,
          -0.9073146670956312,
          3.1655880598953425,
          1.4187168250669613,
          0.8465608850078393,
          2.16744927220455,
          -0.1231428299291156,
          -0.7201629550610502,
          0.06440991165139087,
          0.6611433652012302,
          -0.11972291904358011,
          -0.12245927719103866,
          -1.379316852257699,
          -0.12381346165062414,
          0.6628654338277372,
          -0.12231380574684472,
          0.8493685329152184,
          -1.3792668166604733,
          -1.3793367946537358,
          -0.11600052797794588,
          -1.3165950722317692,
          0.5036019598146417,
          -0.33631755421523035,
          0.25334869255870973,
          -0.12371527017233502,
          -0.9086594496875653,
          -0.07835565824683116,
          0.5419589433710977,
          -0.1238152586733683,
          -0.5316364519128529,
          -0.12380914704879926,
          0.06453279779160627,
          -0.12381802467696808,
          -0.5316364519128529,
          -1.6303630902646746,
          -0.531318732969926,
          0.6292209196730129,
          0.06455532346244416,
          -0.6263516415745644,
          -0.5314800270017828,
          -0.12349415544207552,
          -0.12306967291080396,
          0.6621294060350873,
          0.94289751195436,
          0.2533221705286766,
          -1.3791095859157152,
          -0.7201241605158684,
          0.19058044811726255,
          -1.441945100310954,
          -0.5314799887673514,
          0.06461695524561814,
          0.7853548299043169,
          -0.12381590802348565,
          -0.12174457101171682,
          1.664436719990678,
          -0.7205125256230858,
          -1.2081675743400395,
          -0.1231266439177766,
          1.3506152190789855,
          -0.7204981356079347,
          -0.689177849158454,
          0.27877477048655996,
          2.323799007599961,
          -0.9086851466580369,
          -0.9087738767411566,
          0.06440991109760788,
          -0.5316365396083459,
          0.6615424786211153,
          -0.15518631430391416,
          -0.5311916462342441,
          -0.12381608602516261,
          1.1310754151156184,
          -0.12380898620833411,
          -0.7205487178401493,
          1.2565026355600257,
          -0.5628370884340784,
          -1.3164924667498488,
          0.06440991002959782,
          1.025692147858237,
          -0.7205055511599345,
          0.943971290834187,
          1.0377909079891965,
          -0.12375046507944992,
          -0.5315018163191961,
          -1.3165950718358141,
          -1.316595072662533,
          -1.3152683037172,
          1.0375936993635764,
          -0.7205369299395687,
          0.0644099115951729,
          -0.7203844275439305,
          -0.34327552122081006,
          -1.4420785179502837,
          -1.3163546036074196,
          -0.3440983760830651,
          -0.908773879528531,
          -0.9087738904195963,
          -0.12380917692581615,
          1.0693450723435052,
          -0.9007565065165809,
          -0.9087292467771495,
          -0.907787836413615,
          0.19062974256430243,
          -0.5316228647268899,
          0.2598004544772843,
          -2.1017850780335183,
          -1.316441607155561,
          0.25332216666125096,
          -0.9083482492617321,
          1.3506923520507892,
          -0.7205428391714535,
          0.06447147832282511,
          -1.3165885873660306,
          -0.9087484180424082,
          0.4820915006506625,
          -0.12266311776516756,
          -1.3165954673911406,
          0.06449970748778798,
          -1.4255205806529756,
          -0.12370561631989076,
          -0.5902456034931768,
          1.038323703026269,
          -0.12381525881181402,
          -1.3139852847988316,
          -0.1551861169198325,
          0.5664183162141146,
          0.0644098325790904,
          1.0390601117898388,
          0.19060510049636303,
          0.0957807678805027,
          -1.4097216151912606,
          1.0377693881177996,
          -0.7726201277833324,
          0.9430524216908797,
          0.06440990773535397,
          1.0369619593214905,
          3.7799857055208124,
          -1.3164142047900578,
          -0.9087739161309499,
          -0.12188006631511797,
          1.0369066072419606,
          -0.5235114668613976,
          -0.47027492304591717,
          -1.3165570764822865,
          1.038086720037618,
          -0.7832907087721076,
          -0.9086053671040885,
          -0.9087738844862072,
          -0.9087497243223754,
          -0.5310313754977649,
          1.0377909079891965,
          -1.3165352264342596,
          -0.7204262776242721,
          -0.9085742628762137,
          -3.1474198366614967,
          -0.9086646168714687,
          -0.9086662813358816,
          -1.31658703901417,
          1.3506248639192173,
          -0.908691272747229,
          0.9945545951436477,
          -0.9087396319446925,
          -0.908741181563814,
          0.8808431033748959,
          -0.6575089313540221,
          -0.12380643996725896,
          1.3507074838355115,
          -1.3165950817208407,
          0.6291039120518722,
          -1.3793368119792322,
          1.0375936960013226,
          -0.9085375872122626,
          -0.7205238021158828,
          -1.316539271009242,
          -1.3165950757874514,
          -0.5316364545884159,
          -0.9086573099126684,
          -0.52634552605031,
          -0.9087708386617155,
          -0.12381525614178886,
          1.225239930116376,
          0.6611721819611621,
          -1.1693421061389246,
          0.6918271306140721,
          -0.12378453766533982,
          0.19072366913864258,
          -0.5313368753338471,
          1.0369748579612625,
          -0.8989134749609573,
          -0.12283075925235318,
          0.6292682813359053,
          0.9427940065578985,
          -0.5316364589142522,
          0.6614988370151512,
          1.0996703477204652,
          -1.3164652852744558,
          0.7226310445398435,
          -1.3155042117519977,
          -0.12318339822440831,
          0.6611433614434172,
          1.0386895439758126,
          -1.316382866057872,
          0.4409600630835804,
          1.0415518762434806,
          -1.3153954165814676,
          -0.9087209373562342,
          -0.908762554725075,
          -0.9087689859103648,
          -0.1238152561813448,
          0.8503569916241484,
          -1.316425756012077,
          -0.1236153254729214,
          -0.12381525539022627,
          0.6640534526650642,
          0.07740338450178094,
          1.0377060114233698,
          -0.9085632738925082,
          -1.3165951546421941,
          -1.0411662018202612,
          0.8494705126580331,
          -0.1236804323789758,
          1.0699506012919247,
          1.2258124965434822,
          1.0728289959648818,
          1.4774125380364604,
          1.4135384446645352,
          1.3684572850093935,
          -0.3440572441789212,
          -0.5312899687673387,
          -0.343477743569227,
          -1.0341902312138254,
          -0.12363645481066053,
          -1.3791270825957782,
          -0.12376430177599768,
          -1.3165950721445734,
          -0.5313796637790301,
          -0.5316105885420159,
          -0.8195888449189453,
          1.350754859297986,
          -1.3791206834595031,
          -0.4059774724996389,
          1.4839720298298245,
          0.7139242762606867,
          0.47398285250022826,
          -0.5304288302919291,
          -1.0337906127712273,
          0.06458735531330496,
          -1.3164711337341417,
          -0.12381529530215779,
          0.6613273935307226,
          -2.0466838592713175,
          -0.12381088626381459,
          1.0376331392849516,
          -0.12381529490659855,
          -0.12371957000653672,
          -0.12364315700417175,
          -0.1234933481352235,
          -0.12348279948518365,
          -0.9085812095257145,
          -0.9087324628882424,
          1.3507034342381559,
          0.7555024568087648,
          1.4187277183847513,
          -1.3165234624117743,
          1.0882939917030836,
          -0.3736683572475629,
          -0.5049851724944737,
          -0.9087626290478306,
          0.4095304618107575,
          1.3829098225052843,
          1.0370762301114638,
          -0.43094308821168925,
          -0.7196410519909464,
          -0.3385710222644126,
          -0.4381290627354424,
          1.1313543120274216,
          -0.9087526805336382,
          -0.6888750268337528,
          -0.12282931377894937,
          1.1004570086635974,
          -0.9086125352477005,
          -1.0656281826408154,
          -1.3165950719776955,
          0.8807393911222063,
          0.938112147343272,
          -0.5299087587823632,
          0.4095522456872688,
          -0.12381526721744877,
          0.942919796882513,
          -0.12381525950799839,
          0.40954689246152587,
          2.712309508301258,
          -1.3162184225307734,
          3.78175947049599,
          -0.06407141222425297,
          -1.3775270760306912,
          0.47698115675228414,
          -0.9076796029259416,
          1.5407391232528094,
          1.3506595912994797,
          0.9479298517451673,
          1.2259494889302172,
          0.8809065846200911,
          -0.5308445191291473,
          0.06440991086027233,
          1.2294826575462923,
          -0.8603462949085123,
          -0.908690863487138,
          -0.08472667992980566,
          -1.316149636129044,
          -0.7205522695669428,
          1.8669051239414622,
          -0.5315947511856202,
          -0.908773876756979,
          0.40956676276685766,
          0.8810085762307892,
          0.41244550490105475,
          -0.12336677495000263,
          -0.9029461671385757,
          -0.9087491813941359,
          0.25336562723523687,
          -0.5315528536682188,
          0.06460875654989602,
          1.444845305235541,
          -0.9087739556868781,
          -4.557164282751908,
          1.06916616535645,
          1.7277686002313826,
          -0.6470283223562111,
          1.8745578827889335,
          -0.28062205092716996,
          -0.9064581979642596,
          1.35193583973711,
          1.0369066072419606,
          -0.24929870071753252,
          -0.025211239210027714,
          1.1320774621095717,
          0.604062619841897,
          0.19285126562637056,
          2.0389368713601974,
          -0.22231912502038156,
          -0.12369253289603416,
          0.019071811735939626,
          -0.12381608602516261,
          0.40948938335456647,
          1.0369066072419606,
          -0.5295529824516793,
          0.6598801245378125,
          1.531544829814448,
          -1.3165736970891708,
          -1.5048161070066128,
          0.6613954925789776,
          0.32248150798550435,
          0.9452353354640572,
          -0.5316364514777379,
          1.351404499525439,
          0.4094893806449853,
          -0.12377512209389722,
          0.754815367550561,
          -0.34396242309854913,
          1.0369066047461397,
          -0.9087655383317784,
          -0.9087622202177604,
          1.0376102017868356,
          1.036906607190538,
          0.663779019107872,
          0.5666132680099064,
          0.2519479785415391,
          1.6651075913202198,
          1.0378094092736583,
          -0.9086764516493326,
          -0.9087738805306145,
          2.4299838954136,
          -0.9087738963529857,
          -0.531322878125948,
          -0.6877999622005143,
          1.0377029036838676,
          1.3507731524260342,
          0.09651128637963718,
          -0.8949284664659114,
          0.44106799799271706,
          0.6291356772457642,
          -0.45810121699131545,
          -0.43751602434035824,
          0.6615250310628497,
          0.5664125790365294,
          1.3506160273102767,
          1.3194332159631992,
          1.7577901267885792,
          -0.8081977801115661,
          0.661218599299499,
          0.7245376530517852,
          -0.7829626926810092,
          1.3561378748365605,
          -0.9085609008795653,
          0.12813733789907716,
          2.998909833501711,
          0.8807661519483191,
          0.8499385709236812,
          1.9475280833721746,
          -0.6884106327347519,
          0.8173958265456488,
          -0.5315872179527307,
          -1.4730853027063868,
          0.8808092287703255,
          -0.6891194797829391,
          0.661152972872097,
          -1.536191101471092,
          -0.18711260616398956,
          0.8813907105076854,
          -0.12380128730224456,
          -0.9087206322543445,
          1.2252853335300784,
          1.1938091368543933,
          -0.9087738805306145,
          -0.7197162223807797,
          2.3008746514119958,
          0.25351217431040574,
          -1.3162916569322336,
          0.662205954868993,
          1.0376856612825682,
          0.5977145447199077,
          0.6611433326467016,
          0.08511675508048179,
          0.6611433631047661,
          -0.09308542749093943,
          0.2533665843891027,
          -0.5315869927932098,
          -0.6891778582487836,
          -0.8983229737287125,
          -2.8980238813717523,
          -0.6883945841174057,
          4.217972355757707,
          -0.3754692465918669,
          1.0786663752811312,
          0.06516392840690594,
          0.09578077170556097,
          1.2878695418686377,
          0.5664781327821808,
          0.942794024011246,
          0.06458732499244851,
          -2.5493784443406473,
          0.9427940205962337,
          1.369024884935928,
          1.6656980134936796,
          -0.2806695614599757,
          -0.6888296567657118,
          1.6015821075361372,
          1.5388559452422022,
          1.538996641514938,
          0.06440991086028165,
          1.821998103659986,
          0.9114271667930853,
          -0.12346733721948815,
          -0.9086281642492592,
          1.0372584923688002,
          -0.6889977480439021,
          1.0371546047114335,
          0.8807584705720883,
          -0.6048217353799108,
          0.1272790840785983,
          0.2533292265554213,
          -0.9085712820650969,
          0.9741648817698366,
          -1.502858640782477,
          -0.7744521130961214,
          -1.31644303812985,
          0.06440990753757432,
          0.06492554945898897,
          -0.5943666334374326,
          0.06524422754031149,
          -1.3163606315605334,
          3.788779191795615,
          0.2533221696279456,
          -0.7577242761804067,
          -0.531636451337314,
          -0.1232712396204132,
          0.4472023079314433,
          -0.9087390066267227,
          1.5390704182139716,
          -0.9085709850379043,
          0.8494118416886666,
          -1.312292452366223,
          1.3506152190808345,
          -0.11612207319904992,
          -0.8991038365067651,
          -0.5436551136336746,
          -1.3117216803765943,
          0.06463657129152345,
          -0.9081822506981608,
          1.3506152190789855,
          0.1678939531452703,
          -0.7205487105223025,
          -0.9047871535762181,
          0.849404189504943,
          -1.3146095389551578,
          -0.9077521254901005,
          1.0376313787697422,
          -0.12376543511804451,
          -0.12312814307653297,
          -2.8863456634529068,
          -0.7198123747415421,
          3.780102156501985,
          0.7597497942948904,
          -0.9062890024015683,
          -0.12381529055544636,
          -0.3754581915133502,
          -0.9087738884418001,
          2.7273831497421743,
          0.4722639709232626,
          -1.3793354060530558,
          1.0065217079485824,
          0.943035485515314,
          0.9427939849958982,
          0.8592289345293624,
          2.75466530408241,
          1.0376852354471264,
          12.00343290013428,
          0.7858012278295291,
          2.7006594522872907,
          -0.9086266597617892,
          1.3602805916530538,
          1.0369785543207242,
          0.661144631194923
         ],
         "y": [
          0.06137524796681387,
          0.08116439053690236,
          1.0359898756229293,
          -0.074468681007453,
          0.09656601768416245,
          0.43028670731814295,
          -0.8668926249011847,
          -0.9539744726143018,
          0.09571411747646057,
          -0.22963094158938174,
          -0.10878923305021045,
          0.4301173309933226,
          -0.04057141361509342,
          0.0954919439078885,
          0.5440554980781421,
          0.46433495147848236,
          -0.07480489181357704,
          0.5548639126138388,
          0.48684688281462846,
          0.12939227857094893,
          0.09561267787528659,
          0.06171535716819596,
          -0.07480488867037415,
          -0.41188500755238067,
          0.09542346729257897,
          -0.07161283698939576,
          0.09780196488925964,
          0.09552176150088504,
          -0.09830186996804505,
          -0.7829950337435746,
          0.0960109615868048,
          0.4641258478781086,
          0.06137604577242191,
          0.09538376487867092,
          0.061375252083522576,
          0.09551916829641309,
          0.061394735024613595,
          0.09547198061393104,
          -0.47755547871968135,
          0.1293922872144326,
          0.46421956176088397,
          0.8908982463450547,
          -0.817870825230771,
          -0.14480057077301564,
          0.4301173312435378,
          0.09538376223837663,
          0.27728488410272695,
          0.3305436394616484,
          0.09577592230424758,
          0.09538376978165387,
          0.0994885478297289,
          0.09574941085062072,
          0.09539410151015949,
          0.49813437089420814,
          -0.44919071477449884,
          -0.074804891709933,
          0.09540519415069337,
          -0.38290397961090705,
          0.11196493047007217,
          0.09661540484360387,
          0.0961650417310487,
          0.43011733158267296,
          0.06304938440971601,
          -0.44354697131620135,
          1.794438820368573,
          0.4304483608951297,
          -0.07440937714466207,
          0.4301173311993892,
          0.4868468844275876,
          0.09822406032390335,
          0.0957462126442965,
          0.0954044731960221,
          0.09538377050574853,
          0.4301173309623041,
          0.005798069585772571,
          0.09609927442626806,
          -0.7264364468378895,
          0.09549261594840042,
          -0.07854704399071376,
          0.12969572057866482,
          -0.0748048868092672,
          0.139758858363483,
          -0.07452852125750159,
          0.10166098145063492,
          -0.4207655388838828,
          0.06555141110383642,
          0.06276230011082257,
          0.09538376326777948,
          0.09540447172431256,
          0.0958379228521715,
          0.5435764336330042,
          0.06137524728252835,
          0.09586375592232954,
          0.12374854286445809,
          0.095383764198333,
          0.43011735293263875,
          -0.06423990621454602,
          -0.4080332342719436,
          -0.07398839175319759,
          -0.26565377763331083,
          0.4301441850310053,
          -0.07437475394426606,
          -0.07480489170759731,
          -0.07476215895696259,
          -0.07480112402472817,
          0.0819853264821392,
          0.06231737584283964,
          0.09581793954319318,
          -0.5560463503193587,
          0.09762691512365793,
          0.061375247385923204,
          0.43024768830667554,
          -0.07406980483240747,
          0.06137525234887515,
          0.0641507806326053,
          2.214273974167183,
          -1.108232529978718,
          0.25982489577267,
          -1.2311571950250408,
          0.09666270556783264,
          -0.10807970595952993,
          -0.07480489187561393,
          0.12939227863266153,
          0.10316751300892803,
          0.0979628049613002,
          0.4868848130303311,
          0.09538717403823885,
          0.1326676667356159,
          0.09823948436592594,
          -0.04079637713089259,
          0.4869799782665955,
          0.48684688343499716,
          0.11024722219655664,
          0.4301173319042309,
          -0.47191172961354494,
          0.3074293440713898,
          0.49818480774102175,
          0.09557393021728076,
          0.06159288586077547,
          0.18184778279190114,
          -0.4869889042844394,
          0.09538377071220736,
          0.4641258491188466,
          0.09539537986997668,
          -0.07457116405235714,
          0.09539492871071031,
          0.4641258491188466,
          -0.028168974344083046,
          0.464730137134844,
          -0.5851131139237513,
          -0.07452831532554074,
          -0.19374704709170695,
          0.46442336055221706,
          0.09599451805186535,
          0.09680187300782271,
          0.13126770149618194,
          -0.8688217789833543,
          0.49813436078518414,
          0.4872790316503038,
          -0.10800575389062483,
          0.5548639122883683,
          0.5438301902361513,
          0.46442343237934886,
          -0.07441110012778362,
          -1.4701282491336267,
          0.09538546804175602,
          0.09932215373162984,
          -1.5211937273313227,
          -0.10874458262727409,
          0.6363465960869171,
          0.09669348690542416,
          -1.237760692446388,
          -0.10871721548020202,
          -0.13717818040700222,
          0.33291188247133746,
          -1.3739408322710898,
          0.06154401523763972,
          0.06137524761339182,
          -0.07480489042808629,
          0.4641260783451872,
          0.1301514119571467,
          0.12374905466887245,
          0.46497185985082246,
          0.09538593331849629,
          -1.0391003245555712,
          0.09539571574344087,
          -0.10881338511400215,
          -1.1526663654481957,
          0.49281438328114724,
          0.4303125499864721,
          -0.07480488763642584,
          0.8227663539243425,
          -0.10873131427749438,
          0.18100288554369892,
          -0.21060994621290458,
          0.09550699396015959,
          0.4643819189049122,
          0.4301173308692485,
          0.43011733303020044,
          0.4326408011966704,
          -0.21098502958622867,
          -0.10879096275171107,
          -0.0748048917286664,
          -0.10850085563860817,
          -0.4476256647574431,
          0.5435764372518233,
          0.43057471609907777,
          -0.44919071318469983,
          0.06137525489928109,
          0.06137528336732452,
          0.0953953230446106,
          -0.23862608455808088,
          0.0766243038102543,
          0.061460139089705296,
          0.06325067180036616,
          0.554957703283129,
          0.46415168994389655,
          0.5104559003162228,
          -1.0879734062885464,
          0.4304092231256861,
          0.49813437089420814,
          0.062184788436456896,
          -1.237613990299244,
          -0.10880223789512157,
          -0.07468779310526709,
          0.43012966457503915,
          0.061423671984555506,
          -0.42479270876749287,
          0.09757511479946246,
          0.430118364807221,
          -0.07463410226410966,
          0.05117848134235468,
          0.09559229619370273,
          0.3150828307108573,
          -0.20959658289997798,
          0.0953837710740892,
          0.43508130355861496,
          0.12374853872866481,
          -0.5284993638217228,
          -0.0748046851893464,
          -0.2081959705947414,
          0.5549107998311326,
          -0.10316965461893506,
          0.5170870824831671,
          -0.21065082590515743,
          -0.03178804679135037,
          -0.8685271455433771,
          -0.07480488163952563,
          -0.9540076581872307,
          -0.9521810739271018,
          0.43046133769543066,
          0.061375350573964725,
          0.09906619615827156,
          -0.9541129355056437,
          0.4795793110858478,
          2.215844334174914,
          0.4301895970980229,
          -0.21004731882653488,
          -0.05208313172774841,
          0.061695751963064205,
          0.061375267858099825,
          0.061421191246406076,
          0.4652767137478094,
          -0.21060994621290458,
          0.4302311649963034,
          -0.10858054293200291,
          0.06175490990172199,
          0.35218177003268175,
          0.06158305952416725,
          0.06158000500793899,
          0.43013260983216667,
          -1.237742347911368,
          0.06153238189473813,
          0.7635321670924271,
          0.06144038134245117,
          0.06143743230242778,
          -0.06896389943578105,
          -0.16497605447056307,
          0.09540052899897121,
          -1.2375852076041067,
          0.430117356707617,
          -0.5853356674448618,
          0.48684692872193325,
          -0.21098502079766804,
          0.06182474888571154,
          -0.10876603021913213,
          0.4302234633386193,
          0.430117341198392,
          0.464125856112473,
          0.06159695562229183,
          0.47420682369616524,
          0.06138102907990613,
          0.09538376409493815,
          -1.1240958523887519,
          0.12944709368135116,
          0.052102042646520026,
          -0.6421003934421041,
          0.09544218636789344,
          0.5551363145309796,
          0.46469580385839504,
          -0.9539831262334526,
          0.08012949339145875,
          0.09725624990546544,
          -0.5850230420410547,
          -0.8690185636397675,
          0.4641258674197316,
          0.1300683741282964,
          -1.0108006126371638,
          0.43036419727461817,
          -1.4133645795741898,
          0.43219212032604315,
          0.09658624211961178,
          0.12939228845517067,
          -0.2089007623765741,
          0.4305209551449875,
          -0.4149923430635319,
          -0.2034566754948661,
          0.43239911381240886,
          0.06147593912737095,
          0.06139678596852254,
          0.06138472764537346,
          0.095383764198333,
          -0.03890297325734094,
          0.4304393695451043,
          0.09576402655884289,
          0.09538376213043637,
          0.13492749635127027,
          -0.050091408679535133,
          -0.21077141411066105,
          0.06177582334605206,
          0.4301175473159883,
          1.3061108069637604,
          -0.040602380225049174,
          0.09564020248850665,
          -0.23747438218359357,
          -1.1230068695072724,
          -1.099417252598606,
          -1.3487208042488223,
          -1.2941450302213646,
          -1.2038254823406382,
          -0.4491124831112946,
          0.4647848574019104,
          -0.44801027776785823,
          0.17496197016604678,
          0.09572383654893048,
          0.4872457501309279,
          0.09548068697205259,
          0.43011733167631083,
          0.4646142541312737,
          0.46417503763961737,
          0.2310103436046318,
          -1.2374950962943496,
          0.48725791903486404,
          0.3510006039290471,
          3.1533630266286865,
          -0.600071682718523,
          0.3016058817717529,
          0.4664228850551565,
          0.175722027572788,
          -0.07446739794939417,
          0.43035305758662135,
          0.09538386645582103,
          0.12974229281855684,
          1.385086679095044,
          0.09539394744542198,
          -0.21091000819676312,
          0.09538386542187267,
          0.09556575508451311,
          0.09571110082123563,
          0.09599603382340519,
          0.09601609691043841,
          0.061741700392087956,
          0.061454015013225366,
          -1.2375928983549338,
          0.04476681289150637,
          0.16180050266844484,
          0.43025353377567543,
          -0.8563725522836886,
          -0.4174006711758511,
          0.5148157730462531,
          0.06139664231142554,
          -0.38673929238089927,
          -0.5225474615724807,
          -0.9537903199689826,
          0.9701936993126455,
          -0.10708706263776899,
          -0.4386777080791055,
          -0.36394061393578264,
          -1.0385698518417967,
          0.061415564906190094,
          -0.13660219301085033,
          0.09725899913485454,
          -0.2674833265987078,
          0.06168211421380256,
          0.2031991260344831,
          0.4301173312401116,
          -0.06916114504416357,
          0.12799183859228438,
          0.46741190513858394,
          -0.3866978571521321,
          0.09538379304549084,
          -0.8687793469948067,
          0.09538377289383827,
          -0.3867080411193894,
          0.010192053682750864,
          0.4308337276507133,
          -0.9488073808433733,
          0.08341410590221478,
          0.4902889272218268,
          -0.43451246357326156,
          0.06345654697366199,
          -0.8761378732229848,
          -1.2376762994185717,
          -0.8592486978910197,
          -0.3809252427928395,
          -0.06884315989432611,
          0.46563216419061176,
          -0.0748048898077173,
          -1.1160262184467582,
          0.15349139442136797,
          0.06153316136192427,
          0.16972947537981684,
          0.43096453969169773,
          -0.10880410129211067,
          -0.8719988212776973,
          0.46420515978362664,
          0.06137524765474978,
          -0.3866702505667207,
          -0.0686491582938042,
          -0.38119491899906427,
          0.0962367642474048,
          0.07245946525886143,
          0.061422217085111884,
          0.4982170169594573,
          0.46428484766450656,
          -0.074426693849891,
          -1.322631533583604,
          0.06137545396879591,
          9.597865155615864,
          -0.23896635961271206,
          -0.8349797508367405,
          0.07288769850911597,
          -0.24106524062536713,
          0.23729800589932323,
          0.06577961157536806,
          -1.2352488709844878,
          -0.9541129355056437,
          0.20884286645545386,
          0.28292622415029334,
          -1.0371944609734665,
          -0.5449321241248285,
          0.5591830535361053,
          -0.07567619767252433,
          -0.045803887645241466,
          0.0956171820998077,
          0.3671522192354138,
          0.09538593331849629,
          -0.386817421066497,
          -0.9541129355056437,
          0.46808860349367,
          -1.3566525249266213,
          -0.15611305703380557,
          0.4301579891828168,
          0.6003138542190055,
          0.12987183337408392,
          0.453611020680026,
          -0.8643741793005552,
          0.46412584798150347,
          -1.2362593390256311,
          -0.3868174139839512,
          0.09546009753827843,
          -0.6983611005125517,
          -0.4489321302744396,
          -0.9541129289818437,
          0.061391106701643876,
          0.061397417971678976,
          -0.9527747196328286,
          -0.9541129353712304,
          0.13440526736871403,
          -0.5281285239706863,
          -0.9881214308119288,
          -0.7780966824914224,
          -0.21057474540420484,
          0.061560550633567614,
          0.061375257518616666,
          0.26549812896823555,
          0.061375298876549106,
          0.4647222651912021,
          -0.1345574654654798,
          -0.21077731596856442,
          -1.2374603098962762,
          0.6400408330400073,
          0.08770954760817255,
          -0.4147870602911317,
          -0.5852752484790683,
          0.6458551867353818,
          0.37904643849154074,
          0.13011819259596002,
          -0.5285102776383291,
          -1.237759051342494,
          -1.2090366932267842,
          -0.4632983437260659,
          0.25266855854485043,
          0.12953537553430844,
          -0.6679171804759109,
          -0.05146049150755607,
          -1.227256659017386,
          0.061780332965286684,
          0.6121614266747797,
          1.657842549649938,
          -0.06911014437127634,
          -0.03971217099531416,
          -1.0332222932018633,
          0.606102119960825,
          -0.755397368649933,
          0.4642194878888991,
          0.572633679209559,
          -0.06902832643178623,
          -0.13706716700548668,
          0.12941356423004743,
          0.6286707642548485,
          -0.5907645459281604,
          -0.0679223586046528,
          0.0954103326140755,
          0.06147669425773056,
          -1.12400921745907,
          -1.0958450823161914,
          0.061375257518616666,
          0.6345910728869585,
          0.6576564073414185,
          0.49849574938287855,
          0.4306944221198615,
          0.1314133227270993,
          -0.21081008706618723,
          -0.5570060602353891,
          0.12939236372660767,
          -0.03542097493312587,
          0.1293922841125877,
          -0.6760212533459563,
          0.49821885153735535,
          0.46421991684731584,
          -0.13717815664588395,
          0.08125563849054683,
          -0.09565420653932102,
          0.6061326576729806,
          -0.8276894077406529,
          -0.4208259131158448,
          -0.8746862658821903,
          0.6684503116966253,
          -0.10316966461721522,
          -1.1810208035352174,
          -0.5283855840524487,
          -0.8690186092608916,
          -0.07446745561838304,
          0.5588790723393232,
          -0.8690186003344271,
          -1.2027448451817842,
          -0.03515263319470576,
          0.2372076409961253,
          -0.13651592713663527,
          -1.4646788953525032,
          -1.4079197381777129,
          -1.4076521540777298,
          -0.07480488980774169,
          -0.919851682644293,
          -0.8406462169289848,
          0.0960455090595764,
          0.06165238962225413,
          -0.9534436216578912,
          -0.13683563589684858,
          -0.9536412530227351,
          -0.06912486774486014,
          0.6394927489037139,
          -0.1312920208552595,
          0.49814778417099426,
          0.061760588388678365,
          -0.8973833760021022,
          0.6040369509336134,
          -0.035272853156683,
          0.4304065675655608,
          -0.07480488112255149,
          -0.07382415928114719,
          0.5208773450919798,
          -0.0732180284470463,
          0.4305632317162326,
          -0.9354560779756171,
          0.4981343631395961,
          0.3486714621206364,
          0.4641258476144518,
          0.09643598043819482,
          -0.3150883217971328,
          0.06144160407436674,
          -1.4075105880176977,
          0.061761148008752625,
          -0.040714001921363534,
          0.4383008207489472,
          -1.2377606924512212,
          0.11001604831740965,
          0.07976913073910909,
          0.22763077842486906,
          0.43938649429065374,
          -0.07437378748542217,
          0.06250049729910571,
          -1.237760692446388,
          0.6502112926418843,
          -0.10881340424204591,
          0.06895789746291156,
          -0.7825496278304584,
          0.4338937677199581,
          0.06331860318696013,
          -0.2109133660182207,
          0.0954785188993292,
          0.09669065307435745,
          0.3624172669497768,
          -0.10741291038336,
          -0.9519595828398135,
          0.31693932863229407,
          0.06610142653925355,
          0.0953838540484413,
          -0.4208049210898723,
          0.061375278197582886,
          0.0807307949838753,
          -0.44348446926471424,
          0.48684952237275897,
          -0.9238725305983652,
          -0.8685593577411032,
          -0.8690185072790787,
          -0.022042130918775514,
          -0.5211708321158476,
          -0.21081093295690842,
          19.00215576396532,
          -0.20356695654079526,
          0.07606531651729533,
          0.0616552919998404,
          -1.219377315038341,
          -0.9539760951992954,
          0.12939468364116088
         ],
         "z": [
          -0.1810219723567163,
          -0.18676073986242012,
          -0.625647678433179,
          -0.014353178393133461,
          -0.1287826496861021,
          -0.42847004092935476,
          0.5179871220962617,
          0.5756555233417853,
          -0.033675441715659504,
          0.17111279623064607,
          -0.06684484326594527,
          -0.4284209270304023,
          0.03826123832038629,
          -0.1284711823893598,
          -0.504682515175793,
          -0.37589940615588086,
          -0.014255681582812834,
          -0.3613179894053731,
          -0.4664823035835242,
          -0.0758576541023593,
          -0.1285061836055418,
          -0.18112060045072567,
          -0.014255673988726444,
          0.22396175806218818,
          -0.1283438903412802,
          -0.01518134090846775,
          -0.1291410319905672,
          -0.12847980748584706,
          0.0033633986714254153,
          0.4612420775784078,
          -0.12862169162047374,
          -0.3758387651450616,
          -0.18102220358308016,
          -0.1284398082744903,
          -0.18102196027912534,
          -0.12847907755146606,
          -0.18102762338771622,
          -0.12846539516768304,
          0.18056114475800053,
          -0.07585763321940485,
          -0.37586594331829426,
          -0.27587078667423404,
          0.408911411411792,
          0.1465104663518509,
          -0.42842092642587315,
          -0.12843981465353235,
          -0.11635699809084836,
          -0.19663317496870028,
          -0.1285535370571942,
          -0.12843979642871484,
          -0.1296301326524068,
          -0.1285458455708569,
          -0.12841483461687095,
          -0.32325658844625627,
          0.16153042757245117,
          -0.014255681332405306,
          -0.12844602740671873,
          0.1939470777040959,
          -0.1332480110101724,
          -0.12879697604164503,
          -0.12866636863120245,
          -0.4284209256065112,
          -0.18150744384999548,
          0.23314328373617962,
          -0.6211460146036045,
          -0.4285169209977249,
          -0.01437037670816133,
          -0.4284209265325378,
          -0.46648229968655924,
          -0.1292634367386384,
          -0.1285449214380003,
          -0.12844582109345037,
          -0.1284397946792771,
          -0.42842092710534396,
          -0.14329475859286978,
          -0.12864730435921953,
          0.42323031255311006,
          -0.12847138036100939,
          -0.07561450672771106,
          -0.07594565334385753,
          -0.014255669492227943,
          -0.14130454202250173,
          -0.014335824524040553,
          -0.13026013512876658,
          0.14248222332599547,
          -0.1822329558735411,
          -0.18142419461560993,
          -0.12843981216645955,
          -0.1284458151687701,
          -0.12857145334778688,
          -0.5045436825597597,
          -0.18102197187849278,
          -0.12857900064531044,
          -0.1474704915374556,
          -0.12843980991821025,
          -0.4284209337563238,
          -0.017319314107165234,
          0.2852889375464819,
          -0.014492456576757814,
          0.2007797999745312,
          -0.42842871235537233,
          -0.014380411674419391,
          -0.014255681326762215,
          -0.014268052316051091,
          -0.014256774631673378,
          -0.18699851516731908,
          -0.18129516455670475,
          -0.12856572163493746,
          0.30898772792543683,
          -0.12909026266890072,
          -0.18102197162868727,
          -0.428458729904389,
          -0.014468847079268054,
          -0.18102195963802462,
          -0.1818266061573266,
          -0.23504722043457843,
          0.7284417661499535,
          -0.1252824617014665,
          0.8373372135522705,
          -0.128810683580822,
          -0.06705059558273761,
          -0.014255681732696108,
          -0.07585765395325911,
          -0.13069665847134967,
          -0.129187699534218,
          -0.4664933017919399,
          -0.1284408039232922,
          -0.0768073921242892,
          -0.12926793925721272,
          0.038326474982174535,
          -0.4665209005826628,
          -0.46648230208469177,
          -0.13274998765054857,
          -0.4284209248296163,
          0.25217401456710264,
          -0.26556712592924875,
          -0.3232712376807459,
          -0.12849496362074378,
          -0.18108508246512744,
          -0.15351186732357067,
          0.267351711549089,
          -0.12843979418046553,
          -0.3758387621473958,
          -0.1284431842034179,
          -0.014323457973447685,
          -0.1284173128302542,
          -0.3758387621473958,
          -0.19588894841489993,
          -0.3760140076571663,
          0.3282219905015385,
          -0.014335875079055023,
          -0.009792370622079783,
          -0.37592504479790434,
          -0.12861687759458787,
          -0.12885100205957395,
          -0.0764015095219883,
          0.518546529091787,
          -0.3232566128700069,
          -0.46660761585473787,
          -0.06707178116108632,
          -0.36131799019172167,
          -0.5046172657301464,
          -0.3759250670269601,
          -0.014369877037395952,
          0.8465788587182347,
          -0.12843569337382818,
          -0.12958190294040106,
          0.9562472024153746,
          -0.0668577920352767,
          -0.4882206633170003,
          -0.1288196161790139,
          0.7660025660333571,
          -0.06686573181541929,
          -0.04780714503938245,
          -0.132488835129514,
          0.9327688545687225,
          -0.18107090366848758,
          -0.1810219710791151,
          -0.01425567823541948,
          -0.3758382083286633,
          -0.07607774801921965,
          -0.14746925500036648,
          -0.37608409376957114,
          -0.12843456924920182,
          0.6327567347863626,
          -0.12844323467808688,
          -0.06683778648752538,
          0.7089104994308686,
          -0.3949633445561249,
          -0.42847743410397215,
          -0.014255671490671733,
          -0.276910719088915,
          -0.06686163486407477,
          -0.07000939074994665,
          0.1524018378988879,
          -0.12847554723374935,
          -0.37591302546488614,
          -0.42842092733016907,
          -0.42842092210923466,
          -0.42915272105861524,
          0.15251061191037724,
          -0.06684428548591714,
          -0.014255681377665827,
          -0.06692833292812365,
          0.16107658293273794,
          -0.5045436738165682,
          -0.42855353168648946,
          0.16153043141346027,
          -0.18102195347615624,
          -0.1810218846963829,
          -0.1284431677247229,
          0.17133142457083672,
          -0.18544368906498718,
          -0.18104657865720317,
          -0.1815658234503343,
          -0.361345135008046,
          -0.37584625830987195,
          -0.3268297166125807,
          0.3647367524239761,
          -0.428505563081887,
          -0.32325658844625627,
          -0.18125671657119727,
          0.7659600195654408,
          -0.0668410720979894,
          -0.014289638316526718,
          -0.4284245033339736,
          -0.1810360096053531,
          0.22770480998508305,
          -0.1290752587088222,
          -0.428418429300424,
          -0.014305208584386565,
          -0.21969383451557603,
          -0.1285002823637979,
          -0.21137316603631834,
          0.15210797431784182,
          -0.12843979330614635,
          -0.4298600760596153,
          -0.1474705015296745,
          0.2901941830927693,
          -0.014255182371556506,
          0.15170178263530792,
          -0.3613315881114379,
          0.004775038356591899,
          -0.48605684526799736,
          0.15241377176501214,
          -0.11078296776410197,
          0.5184610870281107,
          -0.014255657001954313,
          0.5756651472669517,
          0.8265038305227868,
          -0.4285206820741193,
          -0.18102172232282568,
          -0.1295049352561208,
          0.5756956780351355,
          -0.38032018622152713,
          -0.9678970082207965,
          -0.42844188372376923,
          0.15223868250227707,
          -0.10489746803557466,
          -0.18111490878540162,
          -0.1810219221672038,
          -0.18103528430754376,
          -0.37617246211136046,
          0.1524018378988879,
          -0.4284539228415287,
          -0.06690536464536864,
          -0.18113206633198897,
          -0.5515237259321278,
          -0.18108223055690836,
          -0.18108117052297812,
          -0.4284253569086352,
          0.7659972467723147,
          -0.18106750142221772,
          -0.259751212201157,
          -0.18104085761235691,
          -0.18104000509061074,
          0.057299963918869615,
          -0.028940843095056446,
          -0.12844467688163466,
          0.7659516766861527,
          -0.42842086490378145,
          0.32828651614451526,
          -0.4664821926698946,
          0.1525106331438424,
          -0.18115218920469595,
          -0.06685157244297138,
          -0.4284517035057601,
          -0.4284209023746026,
          -0.3758387452505537,
          -0.18108626270933667,
          -0.3787343080933288,
          -0.18102364276178218,
          -0.12843981016801573,
          0.6898201926608549,
          -0.07587353986541863,
          -0.19914759423726225,
          0.3663581240172065,
          -0.12845675747480517,
          -0.3613969847508233,
          -0.37600378033697596,
          0.5756580318006057,
          -0.18646048534865936,
          -0.12898281482109938,
          0.32819585682810715,
          0.5186037198345173,
          -0.375838717931827,
          -0.07605371899227319,
          0.6137449068548201,
          -0.42849249144764856,
          0.8085075910426277,
          -0.42902259233952234,
          -0.12878741917995454,
          -0.07585763022173926,
          0.1519061942338312,
          -0.42853795174501685,
          0.21405753874849615,
          0.15032747221194698,
          -0.4290825120123354,
          -0.1810511671891217,
          -0.18102821044597456,
          -0.18102444170433865,
          -0.12843980991821025,
          0.03779836591180122,
          -0.4285143084404544,
          -0.1285500831892811,
          -0.1284398149143197,
          -0.07746233045106829,
          -0.021421973849204985,
          0.1524486669175745,
          -0.18113811115464434,
          -0.4284204043873926,
          -0.7256559749596685,
          0.03827027122324315,
          -0.12851416359547357,
          0.17099744570486297,
          0.6895043616646109,
          0.7606950570289641,
          0.841400695973094,
          0.8039638339264938,
          0.7561617980423962,
          0.1615077427564391,
          -0.3760298579684248,
          0.16118813036295002,
          -0.2571817099146267,
          -0.12853843249918126,
          -0.46659796970059286,
          -0.1284679027323106,
          -0.42842092538027876,
          -0.3759803936511085,
          -0.37585303092505096,
          -0.23020271783999696,
          0.7659255522242202,
          -0.4666015018288898,
          -0.29981282981667196,
          -1.0152078895263212,
          0.3541710266155932,
          -0.19062899532084118,
          -0.3765046115785961,
          -0.257402129059427,
          -0.01435355048418634,
          -0.42848928622052357,
          -0.12843956286059796,
          -0.07595915910342718,
          -0.798610666712191,
          -0.12843983117062627,
          0.15248886849920024,
          -0.1284395653586527,
          -0.1284925881528465,
          -0.12853472098738755,
          -0.12861734801739794,
          -0.12862316637854632,
          -0.18112823126343905,
          -0.1810448138838238,
          0.7659539249046492,
          -0.018901537855327406,
          0.08763341225371929,
          -0.42846041909411,
          0.5473565155372879,
          0.14150651149814028,
          -0.39053851221704816,
          -0.1810281723849134,
          0.19505924455147577,
          0.3617176613456497,
          0.5756021184696877,
          -0.4445753140257052,
          -0.06733845645366578,
          0.15848195666856144,
          0.10439320267039012,
          0.6326029312961259,
          -0.18103365852599473,
          -0.04797413296746153,
          -0.12898361210665374,
          0.19050492680300662,
          -0.181110960438817,
          -0.27617541519729055,
          -0.42842092643415164,
          0.05735718258068582,
          -0.010620143947191074,
          -0.37679164049453023,
          0.19504723323524123,
          -0.12843974022248347,
          0.5185342972867575,
          -0.12843978890957,
          0.19505018292596868,
          0.18004887591861968,
          -0.4286286444883847,
          0.8255255533670386,
          0.007081673464381916,
          -0.46748045069176125,
          0.2305234197221074,
          -0.18162549714997103,
          0.6611545375159957,
          0.765978090114212,
          0.5157730972996093,
          0.2666227000018644,
          0.057264950454160767,
          -0.3762754538149733,
          -0.014255676736586665,
          0.6874802001923651,
          -0.2077219679213104,
          -0.18106772579152056,
          -0.1499989173160874,
          -0.42866660671028683,
          -0.06681535645414581,
          0.7355892729833288,
          -0.37586176619395556,
          -0.18102197097919304,
          0.19503922051981473,
          0.057208717331731,
          0.19345149039788107,
          -0.12868717070362662,
          -0.18423617997262198,
          -0.1810355924361704,
          -0.32328057818011163,
          -0.3758848750458623,
          -0.014365355040103375,
          0.8230298222628742,
          -0.18102147251735315,
          22.859466036790163,
          0.1714301030762911,
          0.5711769634687202,
          -0.1635456997760203,
          0.4772373959382554,
          -0.2236194611393162,
          -0.1822991873605197,
          0.76527421840621,
          0.5756956780351355,
          -0.204562566371848,
          -0.1828249473677365,
          0.6322040476719701,
          0.30576485008491794,
          -0.36257033258781296,
          0.17492208604351772,
          -0.05428555688899406,
          -0.12850749656041727,
          -0.20724841043958556,
          -0.12843456924920182,
          0.19508190338601414,
          0.5756956780351355,
          -0.3769878432719628,
          0.7704512824994016,
          0.16742264063835796,
          -0.4284327114078907,
          -0.5426073258878793,
          -0.07599669646608118,
          -0.2887347973311879,
          0.517258524479868,
          -0.37583876489525603,
          0.7655674432383731,
          0.195081920497689,
          -0.12846194683755527,
          0.4042835101862759,
          0.16145545103289116,
          0.5756956937968613,
          -0.18102657060255506,
          -0.18102840033201756,
          0.5753076047456053,
          0.5756956783598826,
          -0.07731130201603566,
          0.29008671626731336,
          0.5231135682841968,
          0.5330710707271935,
          0.15239164857446905,
          -0.18107570234511042,
          -0.181021947147751,
          0.00876599271967463,
          -0.181021847225562,
          -0.3760117060216993,
          -0.04856711067270175,
          0.15245039246527023,
          0.7659154540939676,
          -0.4184339977281902,
          -0.18865757269052777,
          0.2139979984452853,
          0.3282689990009409,
          -0.4725548221820255,
          -0.3187510255513987,
          -0.0760681688691845,
          0.29019734508572337,
          0.7660022528209494,
          0.7468677379669448,
          0.5414574169941992,
          -0.2364948069759818,
          -0.07589914497048221,
          0.3846499026355424,
          -0.10507996629801146,
          0.762956636461505,
          -0.18113942483463338,
          -0.3995440549662063,
          -0.3941980416880706,
          0.05734255309743766,
          0.0380120796929889,
          0.7043016317795691,
          -0.4710364038485946,
          0.4424338356744995,
          -0.37586592105580546,
          -0.5237751671558152,
          0.05731864963810041,
          -0.04783934349840542,
          -0.07585910874237366,
          -0.5616357404073801,
          0.25661137189988237,
          0.05699793743847956,
          -0.12844751453681305,
          -0.1810511123240394,
          0.6897955061184854,
          0.6708225387075404,
          -0.181021947147751,
          -0.49010305194568426,
          0.20557217752639306,
          -0.32336140198569036,
          -0.42858827172709785,
          -0.07644369539088082,
          0.15245993256397705,
          0.309266072414723,
          -0.07585744836335515,
          -0.025676559745259953,
          -0.07585764071356899,
          0.3137506170586728,
          -0.3232810881102941,
          -0.37586604433599363,
          -0.04780708763170243,
          -0.18678231469154064,
          -0.26958750399564235,
          -0.47104523808297416,
          0.7996164762891559,
          0.1424998015039478,
          0.5526638034525738,
          -0.4374776492064887,
          0.0047750142004027,
          0.7279661642453061,
          0.2901612041007781,
          0.5186036096123097,
          -0.014353533759990114,
          -0.6138311851460133,
          0.5186036311789558,
          0.7558501108414587,
          0.1099393323005001,
          -0.22359325795833163,
          -0.04799919120375945,
          0.9182480828259211,
          0.8801781369683837,
          0.88010051434757,
          -0.014255676736645606,
          0.6282045636475333,
          0.49957071394297303,
          -0.1286316904026112,
          -0.1811023384716403,
          0.5755016424738393,
          -0.04790648439561928,
          0.5755588913315868,
          0.05734664480123715,
          -0.34865701847218433,
          0.023735420414222917,
          -0.3232605008077501,
          -0.1811336988425546,
          0.5376343200425598,
          -0.5436869130580286,
          -0.10977306362483127,
          -0.42850468943831116,
          -0.014255655752926965,
          -0.014540079780081578,
          -0.4139065125371712,
          -0.014715830614963328,
          -0.42855023167488143,
          0.8216537715705189,
          -0.32325660718166677,
          -0.26432902558990257,
          -0.37583876578206515,
          -0.12871751453024652,
          0.1742813393103061,
          -0.18104115988784047,
          0.8800614111985243,
          -0.18113386945626422,
          0.038302591775835546,
          -0.4307940264114795,
          0.7660025660216804,
          -0.13268294646617249,
          -0.18635332098768395,
          -0.16440770475381966,
          -0.43110873540993666,
          -0.014380691950659004,
          -0.1813482941627662,
          0.7660025660333571,
          -0.28932763217666047,
          -0.06683783270153783,
          -0.18322085370404126,
          0.4611129142760086,
          -0.42951604825434586,
          -0.18158550698818754,
          0.15248982756149287,
          -0.12846729356942055,
          -0.12881876693924457,
          -0.5336771577851377,
          -0.06724395813805864,
          0.8264396071496879,
          -0.13024411894040266,
          -0.18239249573149138,
          -0.12843959283725462,
          0.14249366007476066,
          -0.1810218971866565,
          0.11557984240440991,
          0.23312514696814396,
          -0.46648307070922046,
          0.5561216322145256,
          0.5184704281907041,
          0.5186038560038811,
          0.03288796176131028,
          0.48700264034173174,
          0.15246012153484792,
          -5.489478172756106,
          0.1295447092882096,
          0.15014114814955146,
          -0.18110311609869306,
          0.760671712801758,
          0.575655993896764,
          -0.07585835589026961
         ]
        }
       ],
       "layout": {
        "coloraxis": {
         "colorbar": {
          "title": {
           "text": "class"
          }
         },
         "colorscale": [
          [
           0,
           "#0d0887"
          ],
          [
           0.1111111111111111,
           "#46039f"
          ],
          [
           0.2222222222222222,
           "#7201a8"
          ],
          [
           0.3333333333333333,
           "#9c179e"
          ],
          [
           0.4444444444444444,
           "#bd3786"
          ],
          [
           0.5555555555555556,
           "#d8576b"
          ],
          [
           0.6666666666666666,
           "#ed7953"
          ],
          [
           0.7777777777777778,
           "#fb9f3a"
          ],
          [
           0.8888888888888888,
           "#fdca26"
          ],
          [
           1,
           "#f0f921"
          ]
         ]
        },
        "legend": {
         "tracegroupgap": 0
        },
        "margin": {
         "t": 60
        },
        "scene": {
         "domain": {
          "x": [
           0,
           1
          ],
          "y": [
           0,
           1
          ]
         },
         "xaxis": {
          "title": {
           "text": "PC1"
          }
         },
         "yaxis": {
          "title": {
           "text": "PC2"
          }
         },
         "zaxis": {
          "title": {
           "text": "PC3"
          }
         }
        },
        "template": {
         "data": {
          "bar": [
           {
            "error_x": {
             "color": "#2a3f5f"
            },
            "error_y": {
             "color": "#2a3f5f"
            },
            "marker": {
             "line": {
              "color": "#E5ECF6",
              "width": 0.5
             }
            },
            "type": "bar"
           }
          ],
          "barpolar": [
           {
            "marker": {
             "line": {
              "color": "#E5ECF6",
              "width": 0.5
             }
            },
            "type": "barpolar"
           }
          ],
          "carpet": [
           {
            "aaxis": {
             "endlinecolor": "#2a3f5f",
             "gridcolor": "white",
             "linecolor": "white",
             "minorgridcolor": "white",
             "startlinecolor": "#2a3f5f"
            },
            "baxis": {
             "endlinecolor": "#2a3f5f",
             "gridcolor": "white",
             "linecolor": "white",
             "minorgridcolor": "white",
             "startlinecolor": "#2a3f5f"
            },
            "type": "carpet"
           }
          ],
          "choropleth": [
           {
            "colorbar": {
             "outlinewidth": 0,
             "ticks": ""
            },
            "type": "choropleth"
           }
          ],
          "contour": [
           {
            "colorbar": {
             "outlinewidth": 0,
             "ticks": ""
            },
            "colorscale": [
             [
              0,
              "#0d0887"
             ],
             [
              0.1111111111111111,
              "#46039f"
             ],
             [
              0.2222222222222222,
              "#7201a8"
             ],
             [
              0.3333333333333333,
              "#9c179e"
             ],
             [
              0.4444444444444444,
              "#bd3786"
             ],
             [
              0.5555555555555556,
              "#d8576b"
             ],
             [
              0.6666666666666666,
              "#ed7953"
             ],
             [
              0.7777777777777778,
              "#fb9f3a"
             ],
             [
              0.8888888888888888,
              "#fdca26"
             ],
             [
              1,
              "#f0f921"
             ]
            ],
            "type": "contour"
           }
          ],
          "contourcarpet": [
           {
            "colorbar": {
             "outlinewidth": 0,
             "ticks": ""
            },
            "type": "contourcarpet"
           }
          ],
          "heatmap": [
           {
            "colorbar": {
             "outlinewidth": 0,
             "ticks": ""
            },
            "colorscale": [
             [
              0,
              "#0d0887"
             ],
             [
              0.1111111111111111,
              "#46039f"
             ],
             [
              0.2222222222222222,
              "#7201a8"
             ],
             [
              0.3333333333333333,
              "#9c179e"
             ],
             [
              0.4444444444444444,
              "#bd3786"
             ],
             [
              0.5555555555555556,
              "#d8576b"
             ],
             [
              0.6666666666666666,
              "#ed7953"
             ],
             [
              0.7777777777777778,
              "#fb9f3a"
             ],
             [
              0.8888888888888888,
              "#fdca26"
             ],
             [
              1,
              "#f0f921"
             ]
            ],
            "type": "heatmap"
           }
          ],
          "heatmapgl": [
           {
            "colorbar": {
             "outlinewidth": 0,
             "ticks": ""
            },
            "colorscale": [
             [
              0,
              "#0d0887"
             ],
             [
              0.1111111111111111,
              "#46039f"
             ],
             [
              0.2222222222222222,
              "#7201a8"
             ],
             [
              0.3333333333333333,
              "#9c179e"
             ],
             [
              0.4444444444444444,
              "#bd3786"
             ],
             [
              0.5555555555555556,
              "#d8576b"
             ],
             [
              0.6666666666666666,
              "#ed7953"
             ],
             [
              0.7777777777777778,
              "#fb9f3a"
             ],
             [
              0.8888888888888888,
              "#fdca26"
             ],
             [
              1,
              "#f0f921"
             ]
            ],
            "type": "heatmapgl"
           }
          ],
          "histogram": [
           {
            "marker": {
             "colorbar": {
              "outlinewidth": 0,
              "ticks": ""
             }
            },
            "type": "histogram"
           }
          ],
          "histogram2d": [
           {
            "colorbar": {
             "outlinewidth": 0,
             "ticks": ""
            },
            "colorscale": [
             [
              0,
              "#0d0887"
             ],
             [
              0.1111111111111111,
              "#46039f"
             ],
             [
              0.2222222222222222,
              "#7201a8"
             ],
             [
              0.3333333333333333,
              "#9c179e"
             ],
             [
              0.4444444444444444,
              "#bd3786"
             ],
             [
              0.5555555555555556,
              "#d8576b"
             ],
             [
              0.6666666666666666,
              "#ed7953"
             ],
             [
              0.7777777777777778,
              "#fb9f3a"
             ],
             [
              0.8888888888888888,
              "#fdca26"
             ],
             [
              1,
              "#f0f921"
             ]
            ],
            "type": "histogram2d"
           }
          ],
          "histogram2dcontour": [
           {
            "colorbar": {
             "outlinewidth": 0,
             "ticks": ""
            },
            "colorscale": [
             [
              0,
              "#0d0887"
             ],
             [
              0.1111111111111111,
              "#46039f"
             ],
             [
              0.2222222222222222,
              "#7201a8"
             ],
             [
              0.3333333333333333,
              "#9c179e"
             ],
             [
              0.4444444444444444,
              "#bd3786"
             ],
             [
              0.5555555555555556,
              "#d8576b"
             ],
             [
              0.6666666666666666,
              "#ed7953"
             ],
             [
              0.7777777777777778,
              "#fb9f3a"
             ],
             [
              0.8888888888888888,
              "#fdca26"
             ],
             [
              1,
              "#f0f921"
             ]
            ],
            "type": "histogram2dcontour"
           }
          ],
          "mesh3d": [
           {
            "colorbar": {
             "outlinewidth": 0,
             "ticks": ""
            },
            "type": "mesh3d"
           }
          ],
          "parcoords": [
           {
            "line": {
             "colorbar": {
              "outlinewidth": 0,
              "ticks": ""
             }
            },
            "type": "parcoords"
           }
          ],
          "pie": [
           {
            "automargin": true,
            "type": "pie"
           }
          ],
          "scatter": [
           {
            "marker": {
             "colorbar": {
              "outlinewidth": 0,
              "ticks": ""
             }
            },
            "type": "scatter"
           }
          ],
          "scatter3d": [
           {
            "line": {
             "colorbar": {
              "outlinewidth": 0,
              "ticks": ""
             }
            },
            "marker": {
             "colorbar": {
              "outlinewidth": 0,
              "ticks": ""
             }
            },
            "type": "scatter3d"
           }
          ],
          "scattercarpet": [
           {
            "marker": {
             "colorbar": {
              "outlinewidth": 0,
              "ticks": ""
             }
            },
            "type": "scattercarpet"
           }
          ],
          "scattergeo": [
           {
            "marker": {
             "colorbar": {
              "outlinewidth": 0,
              "ticks": ""
             }
            },
            "type": "scattergeo"
           }
          ],
          "scattergl": [
           {
            "marker": {
             "colorbar": {
              "outlinewidth": 0,
              "ticks": ""
             }
            },
            "type": "scattergl"
           }
          ],
          "scattermapbox": [
           {
            "marker": {
             "colorbar": {
              "outlinewidth": 0,
              "ticks": ""
             }
            },
            "type": "scattermapbox"
           }
          ],
          "scatterpolar": [
           {
            "marker": {
             "colorbar": {
              "outlinewidth": 0,
              "ticks": ""
             }
            },
            "type": "scatterpolar"
           }
          ],
          "scatterpolargl": [
           {
            "marker": {
             "colorbar": {
              "outlinewidth": 0,
              "ticks": ""
             }
            },
            "type": "scatterpolargl"
           }
          ],
          "scatterternary": [
           {
            "marker": {
             "colorbar": {
              "outlinewidth": 0,
              "ticks": ""
             }
            },
            "type": "scatterternary"
           }
          ],
          "surface": [
           {
            "colorbar": {
             "outlinewidth": 0,
             "ticks": ""
            },
            "colorscale": [
             [
              0,
              "#0d0887"
             ],
             [
              0.1111111111111111,
              "#46039f"
             ],
             [
              0.2222222222222222,
              "#7201a8"
             ],
             [
              0.3333333333333333,
              "#9c179e"
             ],
             [
              0.4444444444444444,
              "#bd3786"
             ],
             [
              0.5555555555555556,
              "#d8576b"
             ],
             [
              0.6666666666666666,
              "#ed7953"
             ],
             [
              0.7777777777777778,
              "#fb9f3a"
             ],
             [
              0.8888888888888888,
              "#fdca26"
             ],
             [
              1,
              "#f0f921"
             ]
            ],
            "type": "surface"
           }
          ],
          "table": [
           {
            "cells": {
             "fill": {
              "color": "#EBF0F8"
             },
             "line": {
              "color": "white"
             }
            },
            "header": {
             "fill": {
              "color": "#C8D4E3"
             },
             "line": {
              "color": "white"
             }
            },
            "type": "table"
           }
          ]
         },
         "layout": {
          "annotationdefaults": {
           "arrowcolor": "#2a3f5f",
           "arrowhead": 0,
           "arrowwidth": 1
          },
          "coloraxis": {
           "colorbar": {
            "outlinewidth": 0,
            "ticks": ""
           }
          },
          "colorscale": {
           "diverging": [
            [
             0,
             "#8e0152"
            ],
            [
             0.1,
             "#c51b7d"
            ],
            [
             0.2,
             "#de77ae"
            ],
            [
             0.3,
             "#f1b6da"
            ],
            [
             0.4,
             "#fde0ef"
            ],
            [
             0.5,
             "#f7f7f7"
            ],
            [
             0.6,
             "#e6f5d0"
            ],
            [
             0.7,
             "#b8e186"
            ],
            [
             0.8,
             "#7fbc41"
            ],
            [
             0.9,
             "#4d9221"
            ],
            [
             1,
             "#276419"
            ]
           ],
           "sequential": [
            [
             0,
             "#0d0887"
            ],
            [
             0.1111111111111111,
             "#46039f"
            ],
            [
             0.2222222222222222,
             "#7201a8"
            ],
            [
             0.3333333333333333,
             "#9c179e"
            ],
            [
             0.4444444444444444,
             "#bd3786"
            ],
            [
             0.5555555555555556,
             "#d8576b"
            ],
            [
             0.6666666666666666,
             "#ed7953"
            ],
            [
             0.7777777777777778,
             "#fb9f3a"
            ],
            [
             0.8888888888888888,
             "#fdca26"
            ],
            [
             1,
             "#f0f921"
            ]
           ],
           "sequentialminus": [
            [
             0,
             "#0d0887"
            ],
            [
             0.1111111111111111,
             "#46039f"
            ],
            [
             0.2222222222222222,
             "#7201a8"
            ],
            [
             0.3333333333333333,
             "#9c179e"
            ],
            [
             0.4444444444444444,
             "#bd3786"
            ],
            [
             0.5555555555555556,
             "#d8576b"
            ],
            [
             0.6666666666666666,
             "#ed7953"
            ],
            [
             0.7777777777777778,
             "#fb9f3a"
            ],
            [
             0.8888888888888888,
             "#fdca26"
            ],
            [
             1,
             "#f0f921"
            ]
           ]
          },
          "colorway": [
           "#636efa",
           "#EF553B",
           "#00cc96",
           "#ab63fa",
           "#FFA15A",
           "#19d3f3",
           "#FF6692",
           "#B6E880",
           "#FF97FF",
           "#FECB52"
          ],
          "font": {
           "color": "#2a3f5f"
          },
          "geo": {
           "bgcolor": "white",
           "lakecolor": "white",
           "landcolor": "#E5ECF6",
           "showlakes": true,
           "showland": true,
           "subunitcolor": "white"
          },
          "hoverlabel": {
           "align": "left"
          },
          "hovermode": "closest",
          "mapbox": {
           "style": "light"
          },
          "paper_bgcolor": "white",
          "plot_bgcolor": "#E5ECF6",
          "polar": {
           "angularaxis": {
            "gridcolor": "white",
            "linecolor": "white",
            "ticks": ""
           },
           "bgcolor": "#E5ECF6",
           "radialaxis": {
            "gridcolor": "white",
            "linecolor": "white",
            "ticks": ""
           }
          },
          "scene": {
           "xaxis": {
            "backgroundcolor": "#E5ECF6",
            "gridcolor": "white",
            "gridwidth": 2,
            "linecolor": "white",
            "showbackground": true,
            "ticks": "",
            "zerolinecolor": "white"
           },
           "yaxis": {
            "backgroundcolor": "#E5ECF6",
            "gridcolor": "white",
            "gridwidth": 2,
            "linecolor": "white",
            "showbackground": true,
            "ticks": "",
            "zerolinecolor": "white"
           },
           "zaxis": {
            "backgroundcolor": "#E5ECF6",
            "gridcolor": "white",
            "gridwidth": 2,
            "linecolor": "white",
            "showbackground": true,
            "ticks": "",
            "zerolinecolor": "white"
           }
          },
          "shapedefaults": {
           "line": {
            "color": "#2a3f5f"
           }
          },
          "ternary": {
           "aaxis": {
            "gridcolor": "white",
            "linecolor": "white",
            "ticks": ""
           },
           "baxis": {
            "gridcolor": "white",
            "linecolor": "white",
            "ticks": ""
           },
           "bgcolor": "#E5ECF6",
           "caxis": {
            "gridcolor": "white",
            "linecolor": "white",
            "ticks": ""
           }
          },
          "title": {
           "x": 0.05
          },
          "xaxis": {
           "automargin": true,
           "gridcolor": "white",
           "linecolor": "white",
           "ticks": "",
           "title": {
            "standoff": 15
           },
           "zerolinecolor": "white",
           "zerolinewidth": 2
          },
          "yaxis": {
           "automargin": true,
           "gridcolor": "white",
           "linecolor": "white",
           "ticks": "",
           "title": {
            "standoff": 15
           },
           "zerolinecolor": "white",
           "zerolinewidth": 2
          }
         }
        }
       }
      },
      "text/html": [
       "<div>\n",
       "        \n",
       "        \n",
       "            <div id=\"a4abded8-4ab5-4218-9213-452b5fce0a2f\" class=\"plotly-graph-div\" style=\"height:525px; width:100%;\"></div>\n",
       "            <script type=\"text/javascript\">\n",
       "                require([\"plotly\"], function(Plotly) {\n",
       "                    window.PLOTLYENV=window.PLOTLYENV || {};\n",
       "                    \n",
       "                if (document.getElementById(\"a4abded8-4ab5-4218-9213-452b5fce0a2f\")) {\n",
       "                    Plotly.newPlot(\n",
       "                        'a4abded8-4ab5-4218-9213-452b5fce0a2f',\n",
       "                        [{\"customdata\": [[\"Scrypt\"], [\"Scrypt\"], [\"X13\"], [\"SHA-256\"], [\"Scrypt\"], [\"X11\"], [\"Ethash\"], [\"Equihash\"], [\"SHA-512\"], [\"Multiple\"], [\"SHA-256\"], [\"X11\"], [\"SHA-256\"], [\"Scrypt\"], [\"X15\"], [\"X11\"], [\"SHA-256\"], [\"X13\"], [\"X13\"], [\"Scrypt\"], [\"Scrypt\"], [\"Scrypt\"], [\"SHA-256\"], [\"Multiple\"], [\"Scrypt\"], [\"SHA-256\"], [\"Scrypt\"], [\"Scrypt\"], [\"Quark\"], [\"Groestl\"], [\"Scrypt\"], [\"X11\"], [\"Scrypt\"], [\"Scrypt\"], [\"Scrypt\"], [\"Scrypt\"], [\"Scrypt\"], [\"Scrypt\"], [\"Multiple\"], [\"Scrypt\"], [\"X11\"], [\"Scrypt\"], [\"Groestl\"], [\"Multiple\"], [\"X11\"], [\"Scrypt\"], [\"SHA-256\"], [\"Scrypt\"], [\"Scrypt\"], [\"Scrypt\"], [\"Scrypt\"], [\"Scrypt\"], [\"Scrypt\"], [\"X11\"], [\"NIST5\"], [\"SHA-256\"], [\"Scrypt\"], [\"NeoScrypt\"], [\"Scrypt\"], [\"Scrypt\"], [\"Scrypt\"], [\"X11\"], [\"Scrypt\"], [\"Multiple\"], [\"Scrypt\"], [\"X11\"], [\"SHA-256\"], [\"X11\"], [\"X13\"], [\"Scrypt\"], [\"Scrypt\"], [\"Scrypt\"], [\"Scrypt\"], [\"X11\"], [\"SHA3\"], [\"Scrypt\"], [\"HybridScryptHash256\"], [\"Scrypt\"], [\"SHA-256\"], [\"Scrypt\"], [\"SHA-256\"], [\"Scrypt\"], [\"SHA-256\"], [\"Scrypt\"], [\"NeoScrypt\"], [\"Scrypt\"], [\"Scrypt\"], [\"Scrypt\"], [\"Scrypt\"], [\"Scrypt\"], [\"X15\"], [\"Scrypt\"], [\"Scrypt\"], [\"Scrypt-n\"], [\"Scrypt\"], [\"X11\"], [\"SHA-256\"], [\"Multiple\"], [\"SHA-256\"], [\"PHI1612\"], [\"X11\"], [\"SHA-256\"], [\"SHA-256\"], [\"SHA-256\"], [\"SHA-256\"], [\"Scrypt\"], [\"Scrypt\"], [\"Scrypt\"], [\"Lyra2REv2\"], [\"Scrypt\"], [\"Scrypt\"], [\"X11\"], [\"SHA-256\"], [\"Scrypt\"], [\"Scrypt\"], [\"CryptoNight\"], [\"CryptoNight\"], [\"Shabal256\"], [\"Counterparty\"], [\"Scrypt\"], [\"SHA-256\"], [\"SHA-256\"], [\"Scrypt\"], [\"Scrypt\"], [\"Scrypt\"], [\"X13\"], [\"Scrypt\"], [\"Scrypt\"], [\"Scrypt\"], [\"SHA-256\"], [\"X13\"], [\"X13\"], [\"Scrypt\"], [\"X11\"], [\"Momentum\"], [\"Stanford Folding\"], [\"X11\"], [\"Scrypt\"], [\"Scrypt\"], [\"Scrypt\"], [\"M7 POW\"], [\"Scrypt\"], [\"X11\"], [\"Scrypt\"], [\"SHA-256\"], [\"Scrypt\"], [\"X11\"], [\"SHA3\"], [\"X11\"], [\"Lyra2RE\"], [\"SHA-256\"], [\"QUAIT\"], [\"X11\"], [\"Scrypt\"], [\"Scrypt\"], [\"Scrypt\"], [\"Ethash\"], [\"X11\"], [\"X13\"], [\"SHA-256\"], [\"X13\"], [\"X15\"], [\"X11\"], [\"SHA-256\"], [\"BLAKE256\"], [\"Scrypt\"], [\"Scrypt\"], [\"1GB AES Pattern Search\"], [\"SHA-256\"], [\"X11\"], [\"Scrypt\"], [\"CryptoNight\"], [\"SHA-256\"], [\"Quark\"], [\"SHA-256\"], [\"Blake\"], [\"Scrypt\"], [\"Scrypt\"], [\"SHA-256\"], [\"X11\"], [\"Scrypt\"], [\"Scrypt-n\"], [\"X11\"], [\"Scrypt\"], [\"Dagger\"], [\"Scrypt\"], [\"SHA-256\"], [\"CryptoNight-Lite\"], [\"X11GOST\"], [\"X11\"], [\"SHA-256\"], [\"Scrypt\"], [\"SHA-256\"], [\"Scrypt\"], [\"PoS\"], [\"Scrypt\"], [\"X11\"], [\"X11\"], [\"X11\"], [\"X11\"], [\"PoS\"], [\"SHA-256\"], [\"SHA-256\"], [\"SHA-256\"], [\"NIST5\"], [\"X15\"], [\"X11\"], [\"NIST5\"], [\"Scrypt\"], [\"Scrypt\"], [\"Scrypt\"], [\"POS 3.0\"], [\"Scrypt\"], [\"Scrypt\"], [\"Scrypt\"], [\"X13\"], [\"X11\"], [\"X11\"], [\"Equihash\"], [\"X11\"], [\"X11\"], [\"Scrypt\"], [\"CryptoNight\"], [\"SHA-256\"], [\"SHA-256\"], [\"X11\"], [\"Scrypt\"], [\"Multiple\"], [\"Scrypt\"], [\"X11\"], [\"SHA-256\"], [\"Scrypt\"], [\"Scrypt\"], [\"SHA-256D\"], [\"PoS\"], [\"Scrypt\"], [\"X11\"], [\"Scrypt-n\"], [\"Lyra2Z\"], [\"SHA-256\"], [\"PoS\"], [\"X13\"], [\"Quark\"], [\"X14\"], [\"PoS\"], [\"SHA-256D\"], [\"Ethash\"], [\"SHA-256\"], [\"Equihash\"], [\"DPoS\"], [\"X11\"], [\"Scrypt\"], [\"Scrypt\"], [\"Equihash\"], [\"X11\"], [\"X13\"], [\"X11\"], [\"PoS\"], [\"SHA-256D\"], [\"Scrypt\"], [\"Scrypt\"], [\"Scrypt\"], [\"X11\"], [\"PoS\"], [\"X11\"], [\"SHA-256\"], [\"Scrypt\"], [\"X11\"], [\"Scrypt\"], [\"Scrypt\"], [\"X11\"], [\"CryptoNight\"], [\"Scrypt\"], [\"Scrypt\"], [\"Scrypt\"], [\"Scrypt\"], [\"Quark\"], [\"QuBit\"], [\"Scrypt\"], [\"CryptoNight\"], [\"X11\"], [\"Lyra2RE\"], [\"X13\"], [\"PoS\"], [\"Scrypt\"], [\"SHA-256\"], [\"X11\"], [\"X11\"], [\"X11\"], [\"Scrypt\"], [\"X11\"], [\"Scrypt\"], [\"Scrypt\"], [\"CryptoNight-V7\"], [\"Scrypt\"], [\"Scrypt\"], [\"Keccak\"], [\"Scrypt\"], [\"X13\"], [\"X11\"], [\"Equihash\"], [\"Scrypt\"], [\"Scrypt\"], [\"Lyra2RE\"], [\"Ethash\"], [\"X11\"], [\"Scrypt\"], [\"Dagger-Hashimoto\"], [\"X11\"], [\"Blake2S\"], [\"X11\"], [\"Scrypt\"], [\"Scrypt\"], [\"PoS\"], [\"X11\"], [\"NIST5\"], [\"PoS\"], [\"X11\"], [\"Scrypt\"], [\"Scrypt\"], [\"Scrypt\"], [\"Scrypt\"], [\"SHA-256\"], [\"X11\"], [\"Scrypt\"], [\"Scrypt\"], [\"Scrypt\"], [\"SHA-256\"], [\"PoS\"], [\"Scrypt\"], [\"X11\"], [\"X15\"], [\"SHA-256\"], [\"Scrypt\"], [\"POS 3.0\"], [\"CryptoNight-V7\"], [\"536\"], [\"Blake2b\"], [\"Cloverhash\"], [\"CryptoNight\"], [\"NIST5\"], [\"X11\"], [\"NIST5\"], [\"Skein\"], [\"Scrypt\"], [\"X13\"], [\"Scrypt\"], [\"X11\"], [\"X11\"], [\"X11\"], [\"Scrypt\"], [\"CryptoNight\"], [\"X13\"], [\"Time Travel\"], [\"Scrypt\"], [\"Keccak\"], [\"SkunkHash v2 Raptor\"], [\"X11\"], [\"Skein\"], [\"SHA-256\"], [\"X11\"], [\"Scrypt\"], [\"Scrypt\"], [\"VeChainThor Authority\"], [\"Scrypt\"], [\"PoS\"], [\"Scrypt\"], [\"Scrypt\"], [\"Scrypt\"], [\"Scrypt\"], [\"Scrypt\"], [\"Scrypt\"], [\"Scrypt\"], [\"CryptoNight\"], [\"SHA-512\"], [\"Ouroboros\"], [\"X11\"], [\"Equihash\"], [\"NeoScrypt\"], [\"X11\"], [\"Scrypt\"], [\"NeoScrypt\"], [\"Lyra2REv2\"], [\"Equihash\"], [\"Scrypt\"], [\"SHA-256\"], [\"NIST5\"], [\"PHI1612\"], [\"Dagger\"], [\"Scrypt\"], [\"Quark\"], [\"Scrypt\"], [\"POS 2.0\"], [\"Scrypt\"], [\"SkunkHash\"], [\"X11\"], [\"Quark\"], [\"SHA-256\"], [\"X11\"], [\"NeoScrypt\"], [\"Scrypt\"], [\"Ethash\"], [\"Scrypt\"], [\"NeoScrypt\"], [\"Quark\"], [\"X11\"], [\"DPoS\"], [\"NIST5\"], [\"X13\"], [\"Multiple\"], [\"Scrypt\"], [\"CryptoNight\"], [\"CryptoNight\"], [\"Ethash\"], [\"NIST5\"], [\"Quark\"], [\"X11\"], [\"SHA-256\"], [\"CryptoNight-V7\"], [\"Scrypt\"], [\"Scrypt\"], [\"Scrypt\"], [\"X11\"], [\"SHA-256\"], [\"BLAKE256\"], [\"X11\"], [\"Scrypt\"], [\"NeoScrypt\"], [\"Quark\"], [\"NeoScrypt\"], [\"Scrypt\"], [\"Scrypt\"], [\"Scrypt\"], [\"X11\"], [\"X11\"], [\"SHA-256\"], [\"C11\"], [\"Scrypt\"], [\"Scrypt\"], [\"POS 3.0\"], [\"Ethash\"], [\"Scrypt\"], [\"CryptoNight\"], [\"SkunkHash\"], [\"Scrypt\"], [\"CryptoNight\"], [\"Equihash\"], [\"Skein\"], [\"Scrypt\"], [\"Dagger\"], [\"Lyra2REv2\"], [\"X13\"], [\"Proof-of-BibleHash\"], [\"SHA-256 + Hive\"], [\"Scrypt\"], [\"Scrypt\"], [\"Scrypt\"], [\"NeoScrypt\"], [\"Equihash\"], [\"X11\"], [\"C11\"], [\"Proof-of-Authority\"], [\"X11\"], [\"XEVAN\"], [\"Scrypt\"], [\"VBFT\"], [\"Ethash\"], [\"X11\"], [\"CryptoNight\"], [\"NeoScrypt\"], [\"Scrypt\"], [\"IMesh\"], [\"NIST5\"], [\"Equihash\"], [\"Scrypt\"], [\"Scrypt\"], [\"Equihash\"], [\"Equihash\"], [\"Scrypt\"], [\"Lyra2Z\"], [\"Equihash\"], [\"Green Protocol\"], [\"PoS\"], [\"Scrypt\"], [\"Scrypt\"], [\"Semux BFT consensus\"], [\"Scrypt\"], [\"X11\"], [\"Quark\"], [\"PoS\"], [\"CryptoNight\"], [\"X16R\"], [\"Scrypt\"], [\"NIST5\"], [\"Lyra2RE\"], [\"XEVAN\"], [\"Tribus\"], [\"Scrypt\"], [\"Lyra2Z\"], [\"CryptoNight\"], [\"CryptoNight Heavy\"], [\"CryptoNight\"], [\"Scrypt\"], [\"Scrypt\"], [\"Jump Consistent Hash\"], [\"SHA-256D\"], [\"CryptoNight\"], [\"Scrypt\"], [\"X15\"], [\"Scrypt\"], [\"Quark\"], [\"SHA-256\"], [\"DPoS\"], [\"X16R\"], [\"HMQ1725\"], [\"X11\"], [\"X16R\"], [\"Quark\"], [\"Quark\"], [\"Scrypt\"], [\"Zhash\"], [\"Lyra2REv2\"], [\"Quark\"], [\"Scrypt\"], [\"Scrypt\"], [\"CryptoNight-V7\"], [\"Cryptonight-GPU\"], [\"Scrypt\"], [\"XEVAN\"], [\"CryptoNight Heavy\"], [\"X11\"], [\"X11\"], [\"Scrypt\"], [\"PoS\"], [\"Lyra2REv2\"], [\"Scrypt\"], [\"SHA-256\"], [\"Scrypt\"], [\"Keccak\"], [\"X11\"], [\"X11\"], [\"Quark\"], [\"Scrypt\"], [\"SHA-512\"], [\"X16R\"], [\"ECC 256K1\"], [\"NeoScrypt\"], [\"Equihash\"], [\"XEVAN\"], [\"Quark\"], [\"CryptoNight Heavy X\"], [\"Lyra2Z\"], [\"Ethash\"], [\"SHA-256\"], [\"XEVAN\"], [\"Ethash\"], [\"CryptoNight\"], [\"Quark\"], [\"SkunkHash\"], [\"Quark\"], [\"Argon2\"], [\"Blake\"], [\"Blake\"], [\"SHA-256\"], [\"Equihash\"], [\"Exosis\"], [\"Scrypt\"], [\"Scrypt\"], [\"Equihash\"], [\"Quark\"], [\"Equihash\"], [\"Quark\"], [\"Scrypt\"], [\"QuBit\"], [\"X11\"], [\"Scrypt\"], [\"Equihash1927\"], [\"XEVAN\"], [\"SHA-256D\"], [\"X11\"], [\"SHA-256\"], [\"SHA-256\"], [\"X13\"], [\"SHA-256\"], [\"X11\"], [\"DPoS\"], [\"X11\"], [\"Scrypt\"], [\"X11\"], [\"Scrypt\"], [\"NeoScrypt\"], [\"Scrypt\"], [\"Blake\"], [\"Scrypt\"], [\"SHA-256\"], [\"X11\"], [\"CryptoNight\"], [\"Scrypt\"], [\"Scrypt\"], [\"SHA-256\"], [\"X11\"], [\"SHA-256\"], [\"Scrypt\"], [\"CryptoNight\"], [\"Scrypt\"], [\"SHA-256\"], [\"Scrypt\"], [\"Groestl\"], [\"X11\"], [\"Scrypt\"], [\"PoS\"], [\"Scrypt\"], [\"Scrypt\"], [\"X11\"], [\"SHA-256\"], [\"DPoS\"], [\"Scrypt\"], [\"Scrypt\"], [\"Scrypt\"], [\"NeoScrypt\"], [\"Scrypt\"], [\"SHA3-256\"], [\"Multiple\"], [\"X13\"], [\"Equihash+Scrypt\"], [\"Ethash\"], [\"Ethash\"], [\"SHA-256\"], [\"Leased POS\"], [\"PoS\"], [\"TRC10\"], [\"PoS\"], [\"SHA-256\"], [\"Scrypt\"], [\"CryptoNight\"], [\"Equihash\"], [\"Scrypt\"]], \"hovertemplate\": \"<b>%{hovertext}</b><br><br>PC1=%{x}<br>PC2=%{y}<br>PC3=%{z}<br>Algorithm=%{customdata[0]}<br>class=%{marker.color}<extra></extra>\", \"hovertext\": [\"42 Coin\", \"404Coin\", \"EliteCoin\", \"Bitcoin\", \"Litecoin\", \"Dash\", \"Ethereum Classic\", \"ZCash\", \"Bitshares\", \"DigiByte\", \"BitcoinDark\", \"Bitstake\", \"PayCoin\", \"ProsperCoin\", \"KoboCoin\", \"Spreadcoin\", \"ACoin\", \"Aero Coin\", \"ApexCoin\", \"ArchCoin\", \"Argentum\", \"Aurora Coin\", \"BetaCoin\", \"MyriadCoin\", \"MoonCoin\", \"ZetaCoin\", \"SexCoin\", \"Quatloo\", \"QuarkCoin\", \"Riecoin\", \"Digitalcoin \", \"LimeCoinX\", \"BitBar\", \"BitMark\", \"CashCoin\", \"Catcoin\", \"CryptoBullion\", \"CannaCoin\", \"CinderCoin\", \"CoolCoin\", \"CryptCoin\", \"CasinoCoin\", \"Diamond\", \"Verge\", \"DarkCash\", \"DarkShibe\", \"DevCoin\", \"EarthCoin\", \"E-Gulden\", \"Elacoin\", \"Einsteinium\", \"Emerald\", \"Flappy Coin\", \"Fuel2Coin\", \"FIBRE\", \"FireRoosterCoin\", \"Franko\", \"FeatherCoin\", \"GrandCoin\", \"GlobalCoin\", \"GoldCoin\", \"GlyphCoin\", \"HoboNickels\", \"HunterCoin\", \"Infinite Coin\", \"IOCoin\", \"IXcoin\", \"JumBucks Coin\", \"JudgeCoin\", \"KrugerCoin\", \"LuckyCoin\", \"Litebar \", \"LitecoinDark\", \"LibrexCoin\", \"MaxCoin\", \"MegaCoin\", \"MediterraneanCoin\", \"MinCoin\", \"MazaCoin\", \"Nautilus Coin\", \"NoirBits\", \"NobleCoin\", \"Namecoin\", \"NyanCoin\", \"Orbitcoin\", \"PotCoin\", \"PhoenixCoin\", \"RipOffCoin\", \"RonPaulCoin\", \"StableCoin\", \"ShieldCoin\", \"SilkCoin\", \"SmartCoin\", \"SpainCoin\", \"SecureCoin\", \"SyncCoin\", \"SysCoin\", \"TeslaCoin\", \"TigerCoin\", \"TittieCoin\", \"TorCoin\", \"TerraCoin\", \"Umbrella\", \"UnbreakableCoin\", \"Unobtanium\", \"UnitaryStatus Dollar\", \"UltraCoin\", \"ViaCoin\", \"Vertcoin\", \"WorldCoin\", \"SocialXbotCoin\", \"X11 Coin\", \"JouleCoin\", \"XXXCoin\", \"ZCC Coin\", \"ByteCoin\", \"DigitalNote \", \"BurstCoin\", \"StorjCoin\", \"MonaCoin\", \"Neutron\", \"Sling Coin\", \"KryptCoin\", \"Gulden\", \"PesetaCoin\", \"Kore\", \"Wild Beast Coin\", \"Dnotes\", \"Flo\", \"MaieutiCoin\", \"Sativa Coin\", \"AeroMe\", \"ArtByte\", \"MasterTraderCoin\", \"BitCredit\", \"Folding Coin\", \"Ucoin\", \"OmniCron\", \"Vtorrent\", \"GreenCoin\", \"Cryptonite\", \"Gridmaster\", \"ConSpiracy Coin \", \"MasterCoin\", \"SoonCoin\", \"1Credit\", \"Quicksilver coin\", \"Nexus\", \"MarsCoin \", \"Crypto\", \"Anarchists Prime\", \"Droidz\", \"BowsCoin\", \"Song Coin\", \"BitZeny\", \"Diggits\", \"Expanse\", \"MapCoin\", \"Paycon\", \"Emercoin\", \"BlitzCoin\", \"EverGreenCoin\", \"MindCoin\", \"I0coin\", \"Decred\", \"DogeCoinDark\", \"Revolution VR\", \"HOdlcoin\", \"EDRCoin\", \"Hitcoin\", \"Gamecredits\", \"Dashcoin\", \"DubaiCoin\", \"BiosCrypto\", \"CarpeDiemCoin\", \"TrumpCoin\", \"BillaryCoin\", \"EthereumScrypt\", \"Phalanx\", \"SunShotCoin\", \"GPU Coin\", \"HempCoin\", \"Adzcoin\", \"VirtaCoin\", \"SoilCoin\", \"YoCoin\", \"Universal Currency\", \"AEON\", \"SibCoin\", \"EuropeCoin\", \"Anti Bitcoin\", \"ZeitCoin\", \"SwingCoin\", \"SafeExchangeCoin\", \"Nebuchadnezzar\", \"Francs\", \"BolivarCoin\", \"GIZMOcoin\", \"SecretCoin\", \"Ratecoin\", \"Digital Bullion Gold\", \"Revenu\", \"Clinton\", \"Clockcoin\", \"VIP Tokens\", \"OrlyCoin\", \"BitSend\", \"16BitCoin\", \"ChessCoin\", \"ReeCoin\", \"Omni\", \"Let it Ride\", \"PutinCoin\", \"iBankCoin\", \"Frankywillcoin\", \"MudraCoin\", \"PizzaCoin\", \"Lutetium Coin\", \"Komodo\", \"GoldBlocks\", \"WayCoin\", \"CarterCoin\", \"Karbo\", \"BitTokens\", \"ZayedCoin\", \"MustangCoin\", \"ZoneCoin\", \"Circuits of Value\", \"DopeCoin\", \"PROUD Money\", \"DollarCoin\", \"Swiscoin\", \"Shilling\", \"BuzzCoin\", \"Opair\", \"GBR Coin\", \"Halloween Coin\", \"FujiCoin\", \"ZCoin\", \"LeaCoin\", \"CoffeeCoin\", \"RoyalCoin\", \"Zurcoin\", \"GanjaCoin V2\", \"TeamUP\", \"LanaCoin\", \"Elementrem\", \"CashOut\", \"ZClassic\", \"ARK\", \"InsaneCoin\", \"LuckChain\", \"KiloCoin\", \"Hush\", \"ArtexCoin\", \"EmberCoin\", \"XenixCoin\", \"FreeCoin\", \"NPCcoin\", \"PLNCoin\", \"Icobid\", \"AquariusCoin\", \"Kurrent\", \"Creatio\", \"Eternity\", \"Eurocoin\", \"BitcoinFast\", \"Stakenet\", \"BitConnect Coin\", \"MoneyCoin\", \"Enigma\", \"Cannabis Industry Coin\", \"Russiacoin\", \"PandaCoin\", \"GameUnits\", \"GAKHcoin\", \"Allsafe\", \"LiteCreed\", \"OsmiumCoin\", \"Bikercoins\", \"NeptuneClassic\", \"HexxCoin\", \"GoldenBird\", \"Ride My Car\", \"Klingon Empire Darsek\", \"Internet of People\", \"KushCoin\", \"Eryllium\", \"MarxCoin\", \"Printerium\", \"PacCoin\", \"Impeach\", \"Solarflarecoin\", \"Citadel\", \"Zilbercoin\", \"FirstCoin\", \"CreativeChain\", \"BeaverCoin\", \"FindCoin\", \"VaultCoin\", \"Zero\", \"OpenChat\", \"Canada eCoin\", \"Zoin\", \"Musicoin\", \"BnrtxCoin\", \"RenosCoin\", \"DubaiCoin\", \"VirtacoinPlus\", \"TajCoin\", \"Impact\", \"EB3coin\", \"Universe\", \"Atmos\", \"HappyCoin\", \"Coinonat\", \"MacronCoin\", \"Condensate\", \"Independent Money System\", \"ArgusCoin\", \"LomoCoin\", \"Bitcoin Scrypt\", \"ProCurrency\", \"GoldReserve\", \"BenjiRolls\", \"ParallelCoin\", \"GrowthCoin\", \"ILCoin\", \"Phreak\", \"Degas Coin\", \"ZSEcoin\", \"HTML5 Coin\", \"Ultimate Secure Cash\", \"EquiTrader\", \"QTUM\", \"Quantum Resistant Ledger\", \"Espers\", \"Nano\", \"ChanCoin\", \"Dinastycoin\", \"Denarius\", \"DigitalPrice\", \"Virta Unique Coin\", \"Bitcoin Planet\", \"Unify\", \"BritCoin\", \"SocialCoin\", \"Octanox\", \"ArcticCoin\", \"DAS\", \"Linda\", \"LeviarCoin\", \"DeepOnion\", \"Bitcore\", \"gCn Coin\", \"SmartCash\", \"Signatum\", \"Onix\", \"Cream\", \"Bitcoin Cash\", \"Monoeci\", \"CampusCoin\", \"Draftcoin\", \"Vechain\", \"Sojourn Coin\", \"Stakecoin\", \"LiteBitcoin\", \"FrazCoin\", \"Kronecoin\", \"AdCoin\", \"Linx\", \"CoinonatX\", \"Ethereum Dark\", \"Sumokoin\", \"Obsidian\", \"Cardano\", \"Regalcoin\", \"BitcoinZ\", \"TrezarCoin\", \"Elements\", \"TerraNovaCoin\", \"VIVO Coin\", \"Rupee\", \"Bitcoin Gold\", \"WomenCoin\", \"Theresa May Coin\", \"NamoCoin\", \"LUXCoin\", \"Pirl\", \"Xios\", \"Bitcloud 2.0\", \"eBoost\", \"KekCoin\", \"BlackholeCoin\", \"AltCommunity Coin\", \"Pure\", \"Rupaya\", \"Infinity Economics\", \"Pura\", \"Innova\", \"Bitdeal\", \"Ellaism\", \"Sakuracoin\", \"GoByte\", \"Castle\", \"Magnet\", \"Lamden Tau\", \"Electra\", \"Bitcoin Diamond\", \"SHIELD\", \"Cash & Back Coin\", \"UltraNote\", \"BitCoal\", \"DaxxCoin\", \"Bulwark\", \"Kalkulus\", \"AC3\", \"CHIPS\", \"Lethean\", \"GermanCoin\", \"LiteCoin Ultra\", \"PopularCoin\", \"PhantomX\", \"HTML Coin\", \"Photon\", \"Sucre\", \"Fantasy Cash\", \"SparksPay\", \"Digiwage\", \"GunCoin\", \"IrishCoin\", \"Trollcoin\", \"Litecoin Plus\", \"Monkey Project\", \"Pioneer Coin\", \"UnitedBitcoin\", \"Interzone\", \"OP Coin\", \"Valorbit\", \"TokenPay\", \"1717 Masonic Commemorative Token\", \"My Big Coin\", \"TurtleCoin\", \"MUNcoin\", \"Unified Society USDEX\", \"Niobio Cash\", \"Bitcoin Private\", \"Skeincoin\", \"ShareChain\", \"Travelflex\", \"KREDS\", \"Tokyo Coin\", \"BiblePay\", \"LitecoinCash\", \"BitFlip\", \"LottoCoin\", \"LeafCoin\", \"Cerberus\", \"Bitcoin Hush\", \"Crypto Improvement Fund\", \"Stipend\", \"Poa Network\", \"Pushi\", \"Ellerium\", \"Velox\", \"Ontology\", \"Callisto Network\", \"Curium\", \"BitTube\", \"Dinero\", \"Poseidon\", \"Aidos Kuneen\", \"Bitspace\", \"Snowgem\", \"Briacoin\", \"Ignition\", \"Bitrolium\", \"Bitcoin Interest\", \"MedicCoin\", \"Alpenschillling\", \"Zelcash\", \"Bitcoin Green\", \"Deviant Coin\", \"Abjcoin\", \"Profit Hunters Coin\", \"Semux\", \"BitBlocks\", \"FuturoCoin\", \"Carebit\", \"Zealium\", \"Monero Classic\", \"Proton\", \"iDealCash\", \"Jumpcoin\", \"Infinex\", \"Bitcoin Incognito\", \"KEYCO\", \"HollyWoodCoin\", \"GINcoin\", \"PlatinCoin\", \"Loki\", \"Newton Coin\", \"Swisscoin\", \"Xt3ch\", \"MassGrid\", \"TheVig\", \"PluraCoin\", \"EmaratCoin\", \"Dekado\", \"Lynx\", \"Poseidon Quark\", \"BitcoinWSpectrum\", \"Muse\", \"Motion\", \"PlusOneCoin\", \"Axe\", \"Trivechain\", \"Dystem\", \"Giant\", \"Peony Coin\", \"SafeCoin\", \"Absolute Coin\", \"Vitae\", \"HexCoin\", \"TPCash\", \"Webchain\", \"Ryo\", \"MUSDcoin\", \"Urals Coin\", \"Qwertycoin\", \"ARENON\", \"EUNO\", \"MMOCoin\", \"Ketan\", \"NIX\", \"Safe Trade Coin\", \"Project Pai\", \"Mont Blanc\", \"XDNA\", \"PAXEX\", \"Azart\", \"Apollon\", \"ThunderStake\", \"Kcash\", \"Xchange\", \"Acute Angle Cloud\", \"Traid\", \"CrypticCoin\", \"Bettex coin\", \"ZestCoin\", \"X-CASH\", \"Actinium\", \"ETHER-1\", \"Bitcoin SV\", \"BitMoney\", \"Bitcoiin2Gen\", \"FREDEnergy\", \"Zenad\", \"C25 Coin\", \"HerbCoin\", \"Aquachain\", \"Universal Molecule\", \"Lithium\", \"Smart Bitcoin\", \"PirateCash\", \"Exosis\", \"Block-Logic\", \"Oduwa\", \"Beam\", \"Galilel\", \"Bithereum\", \"Crypto Sports\", \"Credit\", \"SLICE\", \"Dash Platinum\", \"Nasdacoin\", \"Vidulum\", \"Beetle Coin\", \"Titan Coin\", \"Award\", \"BlockStamp\", \"BLAST\", \"Bitcoin Rhodium\", \"GlobalToken\", \"Insane Coin\", \"ALAX\", \"The Freedom Coin\", \"LiteDoge\", \"Boolberry\", \"SolarCoin\", \"UFO Coin\", \"OrangeCoin\", \"BlakeCoin\", \"BitstarCoin\", \"NeosCoin\", \"PinkCoin\", \"FantomCoin \", \"Crypto Escudo\", \"AudioCoin\", \"IncaKoin\", \"Piggy Coin\", \"Crown Coin\", \"Genstake\", \"Quazar Coin\", \"SmileyCoin\", \"ParkByte\", \"XiaoMiCoin\", \"Groestlcoin\", \"CapriCoin\", \" ClubCoin\", \"Radium\", \"Bata\", \"Pakcoin\", \"Creditbit \", \"OKCash\", \"Lisk\", \"HiCoin\", \"WhiteCoin\", \"Dotcoin\", \"FriendshipCoin\", \"The Hempcoin\", \"Fiii\", \"JoinCoin\", \"Triangles Coin\", \"Vollar\", \"Reality Clash\", \"iOlite\", \"TigerCash\", \"Waves\", \"Particl\", \"BitTorrent\", \"Nxt\", \"ZEPHYR\", \"Gapcoin\", \"Beldex\", \"Horizen\", \"BitcoinPlus\"], \"legendgroup\": \"\", \"marker\": {\"color\": [4, 4, 4, 0, 0, 4, 3, 3, 0, 0, 4, 4, 0, 0, 4, 4, 0, 0, 4, 0, 0, 4, 0, 0, 0, 0, 0, 0, 0, 3, 0, 4, 4, 0, 4, 0, 4, 0, 0, 0, 4, 0, 0, 0, 4, 0, 0, 0, 0, 0, 0, 0, 0, 0, 0, 0, 0, 0, 0, 0, 0, 4, 4, 0, 0, 4, 0, 4, 4, 0, 0, 0, 0, 4, 4, 0, 3, 0, 4, 0, 0, 0, 0, 0, 0, 4, 4, 0, 0, 0, 4, 4, 0, 0, 0, 4, 0, 3, 0, 3, 4, 0, 0, 0, 0, 4, 4, 0, 3, 0, 4, 4, 0, 4, 4, 3, 3, 0, 3, 0, 4, 0, 0, 0, 0, 4, 0, 0, 0, 0, 4, 4, 0, 4, 0, 0, 0, 0, 4, 0, 0, 0, 4, 0, 0, 0, 4, 4, 4, 3, 0, 4, 4, 0, 0, 0, 3, 0, 4, 4, 0, 4, 4, 0, 3, 0, 0, 3, 4, 4, 0, 3, 4, 4, 0, 3, 4, 4, 0, 4, 0, 0, 4, 0, 3, 0, 4, 3, 4, 4, 0, 0, 4, 0, 3, 0, 4, 4, 4, 4, 3, 4, 0, 4, 0, 4, 4, 0, 4, 4, 0, 3, 4, 4, 4, 0, 4, 0, 4, 4, 0, 4, 3, 4, 0, 4, 4, 0, 0, 4, 0, 4, 0, 4, 3, 0, 4, 0, 0, 0, 3, 0, 0, 4, 3, 4, 3, 0, 3, 3, 4, 4, 0, 3, 4, 4, 4, 3, 4, 4, 4, 4, 4, 3, 4, 4, 4, 4, 4, 4, 4, 3, 4, 0, 4, 4, 0, 4, 0, 3, 4, 3, 4, 3, 4, 4, 4, 4, 4, 4, 4, 4, 0, 3, 0, 4, 3, 0, 0, 4, 3, 4, 0, 3, 3, 4, 0, 3, 4, 3, 4, 0, 0, 3, 4, 0, 3, 4, 4, 4, 4, 0, 0, 4, 0, 0, 0, 0, 3, 4, 4, 4, 0, 0, 3, 3, 3, 3, 3, 3, 0, 4, 0, 4, 0, 4, 0, 4, 4, 4, 4, 3, 4, 4, 0, 3, 0, 4, 4, 0, 4, 0, 0, 4, 0, 3, 0, 0, 0, 0, 0, 4, 4, 3, 0, 3, 4, 3, 0, 4, 4, 0, 3, 3, 4, 4, 0, 0, 3, 4, 4, 0, 3, 4, 4, 4, 0, 0, 4, 0, 0, 3, 0, 0, 3, 4, 3, 0, 4, 0, 4, 3, 3, 3, 3, 0, 4, 0, 3, 4, 4, 0, 4, 4, 3, 4, 4, 0, 0, 0, 0, 4, 4, 0, 4, 0, 3, 4, 1, 3, 3, 4, 3, 0, 4, 3, 3, 0, 0, 3, 3, 0, 3, 0, 0, 0, 0, 0, 3, 4, 3, 3, 4, 4, 0, 0, 3, 4, 3, 0, 0, 3, 0, 3, 4, 4, 3, 3, 0, 0, 3, 3, 3, 4, 4, 3, 4, 4, 4, 3, 3, 0, 4, 0, 3, 4, 4, 0, 0, 3, 3, 3, 4, 0, 3, 4, 3, 4, 0, 3, 0, 0, 3, 4, 3, 4, 4, 0, 4, 0, 4, 0, 0, 0, 4, 3, 3, 4, 4, 3, 0, 4, 0, 3, 3, 0, 0, 0, 0, 0, 4, 4, 4, 4, 4, 3, 0, 3, 0, 0, 3, 0, 3, 0, 4, 3, 3, 3, 0, 4, 3, 3, 3, 0, 3, 3, 0, 4, 3, 4, 3, 0, 4, 0, 0, 4, 3, 4, 4, 4, 0, 0, 4, 0, 4, 3, 0, 4, 4, 0, 0, 4, 3, 4, 0, 4, 3, 0, 4, 4, 4, 0, 4, 3, 0, 4, 4, 3, 4, 4, 3, 0, 0, 4, 4, 3, 0, 4, 0, 0, 4, 3, 0, 4, 3, 3, 3, 0, 3, 3, 2, 0, 3, 4, 3, 3, 0], \"coloraxis\": \"coloraxis\", \"symbol\": \"circle\"}, \"mode\": \"markers\", \"name\": \"\", \"scene\": \"scene\", \"showlegend\": false, \"type\": \"scatter3d\", \"x\": [-0.9087738761608843, -0.898369308968746, -1.0906411770589965, 0.06458668071470454, -0.12319366392340769, -1.3165060201552092, 0.9439117929275608, 1.0369794074337686, 0.7822888966689975, 0.5847006290851641, -0.7205360016557076, -1.3165950718832813, 0.8494868117147943, -0.12375837809993952, -1.441826669701345, -0.5315265101024812, 0.0644099116276573, 0.19058044799274665, -1.3793367944164, 0.6611433652248397, -0.12369490335433175, -0.908595057151726, 0.0644099104251571, 0.48887795954804214, -0.12383044395938125, 0.06608819534657684, -0.12254385057610903, -0.12374270820357079, 0.09834011124912749, 0.8491700086171622, -0.12348549463680605, -0.5316364514381818, -0.9087734567423724, -0.12381525644162282, -0.9087738784513018, -0.1237440642235844, -0.9087636304659673, -0.12376887354317478, -0.31272751878594324, 0.6611433619180881, -0.5315871788310049, 1.3172122775530983, 0.0637554033404415, 0.6293026521278469, -1.316595071979007, -0.12381525543152115, 0.2495275984290264, -0.00017556777640066425, -0.12360906963523936, -0.12381525831736495, -0.12165709375003628, -0.12362300970204394, -0.12381921094349058, 0.25332216666125096, -0.3440983754748532, 0.06440991158800606, -0.12380398795198376, 0.4115469406253847, -0.11509744108670884, -0.12316769612290887, -0.12340448556059089, -1.31659507210875, -0.9078936699737093, 0.47223110528643497, 0.7694952537736166, -1.3164210269032484, 0.06461786114539038, -1.3165950719621167, -1.3793367950334727, -0.12232192520844984, -0.1236246901088394, -0.12380436608276556, -0.12381525859438301, -1.3165950718714146, -0.8454262754380633, -0.12343906146056981, 0.7863383867189827, -0.12375802372539337, -0.7046356693050461, 0.6613029071717964, 0.06440990971315042, -0.100485391077298, 0.06455521826552978, -0.1205148880738088, -0.3754374800755466, -0.9065781975015014, -0.9080446093750875, -0.12381525582534147, -0.12380436870204573, -0.12357649286483233, -1.442078516565826, -0.9087738766145776, -0.12356289183658892, -0.15518611850206956, -0.1238152561813448, -1.316595060226159, 0.06996462338967793, 1.257981127797459, 0.06483920188647448, 1.1477030474168233, -1.3165809535448678, 0.0646360631525663, 0.0644099115871125, 0.06443237209052398, 0.06441189275995846, -0.8979377824765638, -0.9082785391864873, -0.12358697825020153, 0.5982191438126406, -0.12263588864438318, -0.9087738766541336, -1.3165265337883012, 0.06479639719302428, -0.9087738785528181, -0.9073146670956312, 3.1655880598953425, 1.4187168250669613, 0.8465608850078393, 2.16744927220455, -0.1231428299291156, -0.7201629550610502, 0.06440991165139087, 0.6611433652012302, -0.11972291904358011, -0.12245927719103866, -1.379316852257699, -0.12381346165062414, 0.6628654338277372, -0.12231380574684472, 0.8493685329152184, -1.3792668166604733, -1.3793367946537358, -0.11600052797794588, -1.3165950722317692, 0.5036019598146417, -0.33631755421523035, 0.25334869255870973, -0.12371527017233502, -0.9086594496875653, -0.07835565824683116, 0.5419589433710977, -0.1238152586733683, -0.5316364519128529, -0.12380914704879926, 0.06453279779160627, -0.12381802467696808, -0.5316364519128529, -1.6303630902646746, -0.531318732969926, 0.6292209196730129, 0.06455532346244416, -0.6263516415745644, -0.5314800270017828, -0.12349415544207552, -0.12306967291080396, 0.6621294060350873, 0.94289751195436, 0.2533221705286766, -1.3791095859157152, -0.7201241605158684, 0.19058044811726255, -1.441945100310954, -0.5314799887673514, 0.06461695524561814, 0.7853548299043169, -0.12381590802348565, -0.12174457101171682, 1.664436719990678, -0.7205125256230858, -1.2081675743400395, -0.1231266439177766, 1.3506152190789855, -0.7204981356079347, -0.689177849158454, 0.27877477048655996, 2.323799007599961, -0.9086851466580369, -0.9087738767411566, 0.06440991109760788, -0.5316365396083459, 0.6615424786211153, -0.15518631430391416, -0.5311916462342441, -0.12381608602516261, 1.1310754151156184, -0.12380898620833411, -0.7205487178401493, 1.2565026355600257, -0.5628370884340784, -1.3164924667498488, 0.06440991002959782, 1.025692147858237, -0.7205055511599345, 0.943971290834187, 1.0377909079891965, -0.12375046507944992, -0.5315018163191961, -1.3165950718358141, -1.316595072662533, -1.3152683037172, 1.0375936993635764, -0.7205369299395687, 0.0644099115951729, -0.7203844275439305, -0.34327552122081006, -1.4420785179502837, -1.3163546036074196, -0.3440983760830651, -0.908773879528531, -0.9087738904195963, -0.12380917692581615, 1.0693450723435052, -0.9007565065165809, -0.9087292467771495, -0.907787836413615, 0.19062974256430243, -0.5316228647268899, 0.2598004544772843, -2.1017850780335183, -1.316441607155561, 0.25332216666125096, -0.9083482492617321, 1.3506923520507892, -0.7205428391714535, 0.06447147832282511, -1.3165885873660306, -0.9087484180424082, 0.4820915006506625, -0.12266311776516756, -1.3165954673911406, 0.06449970748778798, -1.4255205806529756, -0.12370561631989076, -0.5902456034931768, 1.038323703026269, -0.12381525881181402, -1.3139852847988316, -0.1551861169198325, 0.5664183162141146, 0.0644098325790904, 1.0390601117898388, 0.19060510049636303, 0.0957807678805027, -1.4097216151912606, 1.0377693881177996, -0.7726201277833324, 0.9430524216908797, 0.06440990773535397, 1.0369619593214905, 3.7799857055208124, -1.3164142047900578, -0.9087739161309499, -0.12188006631511797, 1.0369066072419606, -0.5235114668613976, -0.47027492304591717, -1.3165570764822865, 1.038086720037618, -0.7832907087721076, -0.9086053671040885, -0.9087738844862072, -0.9087497243223754, -0.5310313754977649, 1.0377909079891965, -1.3165352264342596, -0.7204262776242721, -0.9085742628762137, -3.1474198366614967, -0.9086646168714687, -0.9086662813358816, -1.31658703901417, 1.3506248639192173, -0.908691272747229, 0.9945545951436477, -0.9087396319446925, -0.908741181563814, 0.8808431033748959, -0.6575089313540221, -0.12380643996725896, 1.3507074838355115, -1.3165950817208407, 0.6291039120518722, -1.3793368119792322, 1.0375936960013226, -0.9085375872122626, -0.7205238021158828, -1.316539271009242, -1.3165950757874514, -0.5316364545884159, -0.9086573099126684, -0.52634552605031, -0.9087708386617155, -0.12381525614178886, 1.225239930116376, 0.6611721819611621, -1.1693421061389246, 0.6918271306140721, -0.12378453766533982, 0.19072366913864258, -0.5313368753338471, 1.0369748579612625, -0.8989134749609573, -0.12283075925235318, 0.6292682813359053, 0.9427940065578985, -0.5316364589142522, 0.6614988370151512, 1.0996703477204652, -1.3164652852744558, 0.7226310445398435, -1.3155042117519977, -0.12318339822440831, 0.6611433614434172, 1.0386895439758126, -1.316382866057872, 0.4409600630835804, 1.0415518762434806, -1.3153954165814676, -0.9087209373562342, -0.908762554725075, -0.9087689859103648, -0.1238152561813448, 0.8503569916241484, -1.316425756012077, -0.1236153254729214, -0.12381525539022627, 0.6640534526650642, 0.07740338450178094, 1.0377060114233698, -0.9085632738925082, -1.3165951546421941, -1.0411662018202612, 0.8494705126580331, -0.1236804323789758, 1.0699506012919247, 1.2258124965434822, 1.0728289959648818, 1.4774125380364604, 1.4135384446645352, 1.3684572850093935, -0.3440572441789212, -0.5312899687673387, -0.343477743569227, -1.0341902312138254, -0.12363645481066053, -1.3791270825957782, -0.12376430177599768, -1.3165950721445734, -0.5313796637790301, -0.5316105885420159, -0.8195888449189453, 1.350754859297986, -1.3791206834595031, -0.4059774724996389, 1.4839720298298245, 0.7139242762606867, 0.47398285250022826, -0.5304288302919291, -1.0337906127712273, 0.06458735531330496, -1.3164711337341417, -0.12381529530215779, 0.6613273935307226, -2.0466838592713175, -0.12381088626381459, 1.0376331392849516, -0.12381529490659855, -0.12371957000653672, -0.12364315700417175, -0.1234933481352235, -0.12348279948518365, -0.9085812095257145, -0.9087324628882424, 1.3507034342381559, 0.7555024568087648, 1.4187277183847513, -1.3165234624117743, 1.0882939917030836, -0.3736683572475629, -0.5049851724944737, -0.9087626290478306, 0.4095304618107575, 1.3829098225052843, 1.0370762301114638, -0.43094308821168925, -0.7196410519909464, -0.3385710222644126, -0.4381290627354424, 1.1313543120274216, -0.9087526805336382, -0.6888750268337528, -0.12282931377894937, 1.1004570086635974, -0.9086125352477005, -1.0656281826408154, -1.3165950719776955, 0.8807393911222063, 0.938112147343272, -0.5299087587823632, 0.4095522456872688, -0.12381526721744877, 0.942919796882513, -0.12381525950799839, 0.40954689246152587, 2.712309508301258, -1.3162184225307734, 3.78175947049599, -0.06407141222425297, -1.3775270760306912, 0.47698115675228414, -0.9076796029259416, 1.5407391232528094, 1.3506595912994797, 0.9479298517451673, 1.2259494889302172, 0.8809065846200911, -0.5308445191291473, 0.06440991086027233, 1.2294826575462923, -0.8603462949085123, -0.908690863487138, -0.08472667992980566, -1.316149636129044, -0.7205522695669428, 1.8669051239414622, -0.5315947511856202, -0.908773876756979, 0.40956676276685766, 0.8810085762307892, 0.41244550490105475, -0.12336677495000263, -0.9029461671385757, -0.9087491813941359, 0.25336562723523687, -0.5315528536682188, 0.06460875654989602, 1.444845305235541, -0.9087739556868781, -4.557164282751908, 1.06916616535645, 1.7277686002313826, -0.6470283223562111, 1.8745578827889335, -0.28062205092716996, -0.9064581979642596, 1.35193583973711, 1.0369066072419606, -0.24929870071753252, -0.025211239210027714, 1.1320774621095717, 0.604062619841897, 0.19285126562637056, 2.0389368713601974, -0.22231912502038156, -0.12369253289603416, 0.019071811735939626, -0.12381608602516261, 0.40948938335456647, 1.0369066072419606, -0.5295529824516793, 0.6598801245378125, 1.531544829814448, -1.3165736970891708, -1.5048161070066128, 0.6613954925789776, 0.32248150798550435, 0.9452353354640572, -0.5316364514777379, 1.351404499525439, 0.4094893806449853, -0.12377512209389722, 0.754815367550561, -0.34396242309854913, 1.0369066047461397, -0.9087655383317784, -0.9087622202177604, 1.0376102017868356, 1.036906607190538, 0.663779019107872, 0.5666132680099064, 0.2519479785415391, 1.6651075913202198, 1.0378094092736583, -0.9086764516493326, -0.9087738805306145, 2.4299838954136, -0.9087738963529857, -0.531322878125948, -0.6877999622005143, 1.0377029036838676, 1.3507731524260342, 0.09651128637963718, -0.8949284664659114, 0.44106799799271706, 0.6291356772457642, -0.45810121699131545, -0.43751602434035824, 0.6615250310628497, 0.5664125790365294, 1.3506160273102767, 1.3194332159631992, 1.7577901267885792, -0.8081977801115661, 0.661218599299499, 0.7245376530517852, -0.7829626926810092, 1.3561378748365605, -0.9085609008795653, 0.12813733789907716, 2.998909833501711, 0.8807661519483191, 0.8499385709236812, 1.9475280833721746, -0.6884106327347519, 0.8173958265456488, -0.5315872179527307, -1.4730853027063868, 0.8808092287703255, -0.6891194797829391, 0.661152972872097, -1.536191101471092, -0.18711260616398956, 0.8813907105076854, -0.12380128730224456, -0.9087206322543445, 1.2252853335300784, 1.1938091368543933, -0.9087738805306145, -0.7197162223807797, 2.3008746514119958, 0.25351217431040574, -1.3162916569322336, 0.662205954868993, 1.0376856612825682, 0.5977145447199077, 0.6611433326467016, 0.08511675508048179, 0.6611433631047661, -0.09308542749093943, 0.2533665843891027, -0.5315869927932098, -0.6891778582487836, -0.8983229737287125, -2.8980238813717523, -0.6883945841174057, 4.217972355757707, -0.3754692465918669, 1.0786663752811312, 0.06516392840690594, 0.09578077170556097, 1.2878695418686377, 0.5664781327821808, 0.942794024011246, 0.06458732499244851, -2.5493784443406473, 0.9427940205962337, 1.369024884935928, 1.6656980134936796, -0.2806695614599757, -0.6888296567657118, 1.6015821075361372, 1.5388559452422022, 1.538996641514938, 0.06440991086028165, 1.821998103659986, 0.9114271667930853, -0.12346733721948815, -0.9086281642492592, 1.0372584923688002, -0.6889977480439021, 1.0371546047114335, 0.8807584705720883, -0.6048217353799108, 0.1272790840785983, 0.2533292265554213, -0.9085712820650969, 0.9741648817698366, -1.502858640782477, -0.7744521130961214, -1.31644303812985, 0.06440990753757432, 0.06492554945898897, -0.5943666334374326, 0.06524422754031149, -1.3163606315605334, 3.788779191795615, 0.2533221696279456, -0.7577242761804067, -0.531636451337314, -0.1232712396204132, 0.4472023079314433, -0.9087390066267227, 1.5390704182139716, -0.9085709850379043, 0.8494118416886666, -1.312292452366223, 1.3506152190808345, -0.11612207319904992, -0.8991038365067651, -0.5436551136336746, -1.3117216803765943, 0.06463657129152345, -0.9081822506981608, 1.3506152190789855, 0.1678939531452703, -0.7205487105223025, -0.9047871535762181, 0.849404189504943, -1.3146095389551578, -0.9077521254901005, 1.0376313787697422, -0.12376543511804451, -0.12312814307653297, -2.8863456634529068, -0.7198123747415421, 3.780102156501985, 0.7597497942948904, -0.9062890024015683, -0.12381529055544636, -0.3754581915133502, -0.9087738884418001, 2.7273831497421743, 0.4722639709232626, -1.3793354060530558, 1.0065217079485824, 0.943035485515314, 0.9427939849958982, 0.8592289345293624, 2.75466530408241, 1.0376852354471264, 12.00343290013428, 0.7858012278295291, 2.7006594522872907, -0.9086266597617892, 1.3602805916530538, 1.0369785543207242, 0.661144631194923], \"y\": [0.06137524796681387, 0.08116439053690236, 1.0359898756229293, -0.074468681007453, 0.09656601768416245, 0.43028670731814295, -0.8668926249011847, -0.9539744726143018, 0.09571411747646057, -0.22963094158938174, -0.10878923305021045, 0.4301173309933226, -0.04057141361509342, 0.0954919439078885, 0.5440554980781421, 0.46433495147848236, -0.07480489181357704, 0.5548639126138388, 0.48684688281462846, 0.12939227857094893, 0.09561267787528659, 0.06171535716819596, -0.07480488867037415, -0.41188500755238067, 0.09542346729257897, -0.07161283698939576, 0.09780196488925964, 0.09552176150088504, -0.09830186996804505, -0.7829950337435746, 0.0960109615868048, 0.4641258478781086, 0.06137604577242191, 0.09538376487867092, 0.061375252083522576, 0.09551916829641309, 0.061394735024613595, 0.09547198061393104, -0.47755547871968135, 0.1293922872144326, 0.46421956176088397, 0.8908982463450547, -0.817870825230771, -0.14480057077301564, 0.4301173312435378, 0.09538376223837663, 0.27728488410272695, 0.3305436394616484, 0.09577592230424758, 0.09538376978165387, 0.0994885478297289, 0.09574941085062072, 0.09539410151015949, 0.49813437089420814, -0.44919071477449884, -0.074804891709933, 0.09540519415069337, -0.38290397961090705, 0.11196493047007217, 0.09661540484360387, 0.0961650417310487, 0.43011733158267296, 0.06304938440971601, -0.44354697131620135, 1.794438820368573, 0.4304483608951297, -0.07440937714466207, 0.4301173311993892, 0.4868468844275876, 0.09822406032390335, 0.0957462126442965, 0.0954044731960221, 0.09538377050574853, 0.4301173309623041, 0.005798069585772571, 0.09609927442626806, -0.7264364468378895, 0.09549261594840042, -0.07854704399071376, 0.12969572057866482, -0.0748048868092672, 0.139758858363483, -0.07452852125750159, 0.10166098145063492, -0.4207655388838828, 0.06555141110383642, 0.06276230011082257, 0.09538376326777948, 0.09540447172431256, 0.0958379228521715, 0.5435764336330042, 0.06137524728252835, 0.09586375592232954, 0.12374854286445809, 0.095383764198333, 0.43011735293263875, -0.06423990621454602, -0.4080332342719436, -0.07398839175319759, -0.26565377763331083, 0.4301441850310053, -0.07437475394426606, -0.07480489170759731, -0.07476215895696259, -0.07480112402472817, 0.0819853264821392, 0.06231737584283964, 0.09581793954319318, -0.5560463503193587, 0.09762691512365793, 0.061375247385923204, 0.43024768830667554, -0.07406980483240747, 0.06137525234887515, 0.0641507806326053, 2.214273974167183, -1.108232529978718, 0.25982489577267, -1.2311571950250408, 0.09666270556783264, -0.10807970595952993, -0.07480489187561393, 0.12939227863266153, 0.10316751300892803, 0.0979628049613002, 0.4868848130303311, 0.09538717403823885, 0.1326676667356159, 0.09823948436592594, -0.04079637713089259, 0.4869799782665955, 0.48684688343499716, 0.11024722219655664, 0.4301173319042309, -0.47191172961354494, 0.3074293440713898, 0.49818480774102175, 0.09557393021728076, 0.06159288586077547, 0.18184778279190114, -0.4869889042844394, 0.09538377071220736, 0.4641258491188466, 0.09539537986997668, -0.07457116405235714, 0.09539492871071031, 0.4641258491188466, -0.028168974344083046, 0.464730137134844, -0.5851131139237513, -0.07452831532554074, -0.19374704709170695, 0.46442336055221706, 0.09599451805186535, 0.09680187300782271, 0.13126770149618194, -0.8688217789833543, 0.49813436078518414, 0.4872790316503038, -0.10800575389062483, 0.5548639122883683, 0.5438301902361513, 0.46442343237934886, -0.07441110012778362, -1.4701282491336267, 0.09538546804175602, 0.09932215373162984, -1.5211937273313227, -0.10874458262727409, 0.6363465960869171, 0.09669348690542416, -1.237760692446388, -0.10871721548020202, -0.13717818040700222, 0.33291188247133746, -1.3739408322710898, 0.06154401523763972, 0.06137524761339182, -0.07480489042808629, 0.4641260783451872, 0.1301514119571467, 0.12374905466887245, 0.46497185985082246, 0.09538593331849629, -1.0391003245555712, 0.09539571574344087, -0.10881338511400215, -1.1526663654481957, 0.49281438328114724, 0.4303125499864721, -0.07480488763642584, 0.8227663539243425, -0.10873131427749438, 0.18100288554369892, -0.21060994621290458, 0.09550699396015959, 0.4643819189049122, 0.4301173308692485, 0.43011733303020044, 0.4326408011966704, -0.21098502958622867, -0.10879096275171107, -0.0748048917286664, -0.10850085563860817, -0.4476256647574431, 0.5435764372518233, 0.43057471609907777, -0.44919071318469983, 0.06137525489928109, 0.06137528336732452, 0.0953953230446106, -0.23862608455808088, 0.0766243038102543, 0.061460139089705296, 0.06325067180036616, 0.554957703283129, 0.46415168994389655, 0.5104559003162228, -1.0879734062885464, 0.4304092231256861, 0.49813437089420814, 0.062184788436456896, -1.237613990299244, -0.10880223789512157, -0.07468779310526709, 0.43012966457503915, 0.061423671984555506, -0.42479270876749287, 0.09757511479946246, 0.430118364807221, -0.07463410226410966, 0.05117848134235468, 0.09559229619370273, 0.3150828307108573, -0.20959658289997798, 0.0953837710740892, 0.43508130355861496, 0.12374853872866481, -0.5284993638217228, -0.0748046851893464, -0.2081959705947414, 0.5549107998311326, -0.10316965461893506, 0.5170870824831671, -0.21065082590515743, -0.03178804679135037, -0.8685271455433771, -0.07480488163952563, -0.9540076581872307, -0.9521810739271018, 0.43046133769543066, 0.061375350573964725, 0.09906619615827156, -0.9541129355056437, 0.4795793110858478, 2.215844334174914, 0.4301895970980229, -0.21004731882653488, -0.05208313172774841, 0.061695751963064205, 0.061375267858099825, 0.061421191246406076, 0.4652767137478094, -0.21060994621290458, 0.4302311649963034, -0.10858054293200291, 0.06175490990172199, 0.35218177003268175, 0.06158305952416725, 0.06158000500793899, 0.43013260983216667, -1.237742347911368, 0.06153238189473813, 0.7635321670924271, 0.06144038134245117, 0.06143743230242778, -0.06896389943578105, -0.16497605447056307, 0.09540052899897121, -1.2375852076041067, 0.430117356707617, -0.5853356674448618, 0.48684692872193325, -0.21098502079766804, 0.06182474888571154, -0.10876603021913213, 0.4302234633386193, 0.430117341198392, 0.464125856112473, 0.06159695562229183, 0.47420682369616524, 0.06138102907990613, 0.09538376409493815, -1.1240958523887519, 0.12944709368135116, 0.052102042646520026, -0.6421003934421041, 0.09544218636789344, 0.5551363145309796, 0.46469580385839504, -0.9539831262334526, 0.08012949339145875, 0.09725624990546544, -0.5850230420410547, -0.8690185636397675, 0.4641258674197316, 0.1300683741282964, -1.0108006126371638, 0.43036419727461817, -1.4133645795741898, 0.43219212032604315, 0.09658624211961178, 0.12939228845517067, -0.2089007623765741, 0.4305209551449875, -0.4149923430635319, -0.2034566754948661, 0.43239911381240886, 0.06147593912737095, 0.06139678596852254, 0.06138472764537346, 0.095383764198333, -0.03890297325734094, 0.4304393695451043, 0.09576402655884289, 0.09538376213043637, 0.13492749635127027, -0.050091408679535133, -0.21077141411066105, 0.06177582334605206, 0.4301175473159883, 1.3061108069637604, -0.040602380225049174, 0.09564020248850665, -0.23747438218359357, -1.1230068695072724, -1.099417252598606, -1.3487208042488223, -1.2941450302213646, -1.2038254823406382, -0.4491124831112946, 0.4647848574019104, -0.44801027776785823, 0.17496197016604678, 0.09572383654893048, 0.4872457501309279, 0.09548068697205259, 0.43011733167631083, 0.4646142541312737, 0.46417503763961737, 0.2310103436046318, -1.2374950962943496, 0.48725791903486404, 0.3510006039290471, 3.1533630266286865, -0.600071682718523, 0.3016058817717529, 0.4664228850551565, 0.175722027572788, -0.07446739794939417, 0.43035305758662135, 0.09538386645582103, 0.12974229281855684, 1.385086679095044, 0.09539394744542198, -0.21091000819676312, 0.09538386542187267, 0.09556575508451311, 0.09571110082123563, 0.09599603382340519, 0.09601609691043841, 0.061741700392087956, 0.061454015013225366, -1.2375928983549338, 0.04476681289150637, 0.16180050266844484, 0.43025353377567543, -0.8563725522836886, -0.4174006711758511, 0.5148157730462531, 0.06139664231142554, -0.38673929238089927, -0.5225474615724807, -0.9537903199689826, 0.9701936993126455, -0.10708706263776899, -0.4386777080791055, -0.36394061393578264, -1.0385698518417967, 0.061415564906190094, -0.13660219301085033, 0.09725899913485454, -0.2674833265987078, 0.06168211421380256, 0.2031991260344831, 0.4301173312401116, -0.06916114504416357, 0.12799183859228438, 0.46741190513858394, -0.3866978571521321, 0.09538379304549084, -0.8687793469948067, 0.09538377289383827, -0.3867080411193894, 0.010192053682750864, 0.4308337276507133, -0.9488073808433733, 0.08341410590221478, 0.4902889272218268, -0.43451246357326156, 0.06345654697366199, -0.8761378732229848, -1.2376762994185717, -0.8592486978910197, -0.3809252427928395, -0.06884315989432611, 0.46563216419061176, -0.0748048898077173, -1.1160262184467582, 0.15349139442136797, 0.06153316136192427, 0.16972947537981684, 0.43096453969169773, -0.10880410129211067, -0.8719988212776973, 0.46420515978362664, 0.06137524765474978, -0.3866702505667207, -0.0686491582938042, -0.38119491899906427, 0.0962367642474048, 0.07245946525886143, 0.061422217085111884, 0.4982170169594573, 0.46428484766450656, -0.074426693849891, -1.322631533583604, 0.06137545396879591, 9.597865155615864, -0.23896635961271206, -0.8349797508367405, 0.07288769850911597, -0.24106524062536713, 0.23729800589932323, 0.06577961157536806, -1.2352488709844878, -0.9541129355056437, 0.20884286645545386, 0.28292622415029334, -1.0371944609734665, -0.5449321241248285, 0.5591830535361053, -0.07567619767252433, -0.045803887645241466, 0.0956171820998077, 0.3671522192354138, 0.09538593331849629, -0.386817421066497, -0.9541129355056437, 0.46808860349367, -1.3566525249266213, -0.15611305703380557, 0.4301579891828168, 0.6003138542190055, 0.12987183337408392, 0.453611020680026, -0.8643741793005552, 0.46412584798150347, -1.2362593390256311, -0.3868174139839512, 0.09546009753827843, -0.6983611005125517, -0.4489321302744396, -0.9541129289818437, 0.061391106701643876, 0.061397417971678976, -0.9527747196328286, -0.9541129353712304, 0.13440526736871403, -0.5281285239706863, -0.9881214308119288, -0.7780966824914224, -0.21057474540420484, 0.061560550633567614, 0.061375257518616666, 0.26549812896823555, 0.061375298876549106, 0.4647222651912021, -0.1345574654654798, -0.21077731596856442, -1.2374603098962762, 0.6400408330400073, 0.08770954760817255, -0.4147870602911317, -0.5852752484790683, 0.6458551867353818, 0.37904643849154074, 0.13011819259596002, -0.5285102776383291, -1.237759051342494, -1.2090366932267842, -0.4632983437260659, 0.25266855854485043, 0.12953537553430844, -0.6679171804759109, -0.05146049150755607, -1.227256659017386, 0.061780332965286684, 0.6121614266747797, 1.657842549649938, -0.06911014437127634, -0.03971217099531416, -1.0332222932018633, 0.606102119960825, -0.755397368649933, 0.4642194878888991, 0.572633679209559, -0.06902832643178623, -0.13706716700548668, 0.12941356423004743, 0.6286707642548485, -0.5907645459281604, -0.0679223586046528, 0.0954103326140755, 0.06147669425773056, -1.12400921745907, -1.0958450823161914, 0.061375257518616666, 0.6345910728869585, 0.6576564073414185, 0.49849574938287855, 0.4306944221198615, 0.1314133227270993, -0.21081008706618723, -0.5570060602353891, 0.12939236372660767, -0.03542097493312587, 0.1293922841125877, -0.6760212533459563, 0.49821885153735535, 0.46421991684731584, -0.13717815664588395, 0.08125563849054683, -0.09565420653932102, 0.6061326576729806, -0.8276894077406529, -0.4208259131158448, -0.8746862658821903, 0.6684503116966253, -0.10316966461721522, -1.1810208035352174, -0.5283855840524487, -0.8690186092608916, -0.07446745561838304, 0.5588790723393232, -0.8690186003344271, -1.2027448451817842, -0.03515263319470576, 0.2372076409961253, -0.13651592713663527, -1.4646788953525032, -1.4079197381777129, -1.4076521540777298, -0.07480488980774169, -0.919851682644293, -0.8406462169289848, 0.0960455090595764, 0.06165238962225413, -0.9534436216578912, -0.13683563589684858, -0.9536412530227351, -0.06912486774486014, 0.6394927489037139, -0.1312920208552595, 0.49814778417099426, 0.061760588388678365, -0.8973833760021022, 0.6040369509336134, -0.035272853156683, 0.4304065675655608, -0.07480488112255149, -0.07382415928114719, 0.5208773450919798, -0.0732180284470463, 0.4305632317162326, -0.9354560779756171, 0.4981343631395961, 0.3486714621206364, 0.4641258476144518, 0.09643598043819482, -0.3150883217971328, 0.06144160407436674, -1.4075105880176977, 0.061761148008752625, -0.040714001921363534, 0.4383008207489472, -1.2377606924512212, 0.11001604831740965, 0.07976913073910909, 0.22763077842486906, 0.43938649429065374, -0.07437378748542217, 0.06250049729910571, -1.237760692446388, 0.6502112926418843, -0.10881340424204591, 0.06895789746291156, -0.7825496278304584, 0.4338937677199581, 0.06331860318696013, -0.2109133660182207, 0.0954785188993292, 0.09669065307435745, 0.3624172669497768, -0.10741291038336, -0.9519595828398135, 0.31693932863229407, 0.06610142653925355, 0.0953838540484413, -0.4208049210898723, 0.061375278197582886, 0.0807307949838753, -0.44348446926471424, 0.48684952237275897, -0.9238725305983652, -0.8685593577411032, -0.8690185072790787, -0.022042130918775514, -0.5211708321158476, -0.21081093295690842, 19.00215576396532, -0.20356695654079526, 0.07606531651729533, 0.0616552919998404, -1.219377315038341, -0.9539760951992954, 0.12939468364116088], \"z\": [-0.1810219723567163, -0.18676073986242012, -0.625647678433179, -0.014353178393133461, -0.1287826496861021, -0.42847004092935476, 0.5179871220962617, 0.5756555233417853, -0.033675441715659504, 0.17111279623064607, -0.06684484326594527, -0.4284209270304023, 0.03826123832038629, -0.1284711823893598, -0.504682515175793, -0.37589940615588086, -0.014255681582812834, -0.3613179894053731, -0.4664823035835242, -0.0758576541023593, -0.1285061836055418, -0.18112060045072567, -0.014255673988726444, 0.22396175806218818, -0.1283438903412802, -0.01518134090846775, -0.1291410319905672, -0.12847980748584706, 0.0033633986714254153, 0.4612420775784078, -0.12862169162047374, -0.3758387651450616, -0.18102220358308016, -0.1284398082744903, -0.18102196027912534, -0.12847907755146606, -0.18102762338771622, -0.12846539516768304, 0.18056114475800053, -0.07585763321940485, -0.37586594331829426, -0.27587078667423404, 0.408911411411792, 0.1465104663518509, -0.42842092642587315, -0.12843981465353235, -0.11635699809084836, -0.19663317496870028, -0.1285535370571942, -0.12843979642871484, -0.1296301326524068, -0.1285458455708569, -0.12841483461687095, -0.32325658844625627, 0.16153042757245117, -0.014255681332405306, -0.12844602740671873, 0.1939470777040959, -0.1332480110101724, -0.12879697604164503, -0.12866636863120245, -0.4284209256065112, -0.18150744384999548, 0.23314328373617962, -0.6211460146036045, -0.4285169209977249, -0.01437037670816133, -0.4284209265325378, -0.46648229968655924, -0.1292634367386384, -0.1285449214380003, -0.12844582109345037, -0.1284397946792771, -0.42842092710534396, -0.14329475859286978, -0.12864730435921953, 0.42323031255311006, -0.12847138036100939, -0.07561450672771106, -0.07594565334385753, -0.014255669492227943, -0.14130454202250173, -0.014335824524040553, -0.13026013512876658, 0.14248222332599547, -0.1822329558735411, -0.18142419461560993, -0.12843981216645955, -0.1284458151687701, -0.12857145334778688, -0.5045436825597597, -0.18102197187849278, -0.12857900064531044, -0.1474704915374556, -0.12843980991821025, -0.4284209337563238, -0.017319314107165234, 0.2852889375464819, -0.014492456576757814, 0.2007797999745312, -0.42842871235537233, -0.014380411674419391, -0.014255681326762215, -0.014268052316051091, -0.014256774631673378, -0.18699851516731908, -0.18129516455670475, -0.12856572163493746, 0.30898772792543683, -0.12909026266890072, -0.18102197162868727, -0.428458729904389, -0.014468847079268054, -0.18102195963802462, -0.1818266061573266, -0.23504722043457843, 0.7284417661499535, -0.1252824617014665, 0.8373372135522705, -0.128810683580822, -0.06705059558273761, -0.014255681732696108, -0.07585765395325911, -0.13069665847134967, -0.129187699534218, -0.4664933017919399, -0.1284408039232922, -0.0768073921242892, -0.12926793925721272, 0.038326474982174535, -0.4665209005826628, -0.46648230208469177, -0.13274998765054857, -0.4284209248296163, 0.25217401456710264, -0.26556712592924875, -0.3232712376807459, -0.12849496362074378, -0.18108508246512744, -0.15351186732357067, 0.267351711549089, -0.12843979418046553, -0.3758387621473958, -0.1284431842034179, -0.014323457973447685, -0.1284173128302542, -0.3758387621473958, -0.19588894841489993, -0.3760140076571663, 0.3282219905015385, -0.014335875079055023, -0.009792370622079783, -0.37592504479790434, -0.12861687759458787, -0.12885100205957395, -0.0764015095219883, 0.518546529091787, -0.3232566128700069, -0.46660761585473787, -0.06707178116108632, -0.36131799019172167, -0.5046172657301464, -0.3759250670269601, -0.014369877037395952, 0.8465788587182347, -0.12843569337382818, -0.12958190294040106, 0.9562472024153746, -0.0668577920352767, -0.4882206633170003, -0.1288196161790139, 0.7660025660333571, -0.06686573181541929, -0.04780714503938245, -0.132488835129514, 0.9327688545687225, -0.18107090366848758, -0.1810219710791151, -0.01425567823541948, -0.3758382083286633, -0.07607774801921965, -0.14746925500036648, -0.37608409376957114, -0.12843456924920182, 0.6327567347863626, -0.12844323467808688, -0.06683778648752538, 0.7089104994308686, -0.3949633445561249, -0.42847743410397215, -0.014255671490671733, -0.276910719088915, -0.06686163486407477, -0.07000939074994665, 0.1524018378988879, -0.12847554723374935, -0.37591302546488614, -0.42842092733016907, -0.42842092210923466, -0.42915272105861524, 0.15251061191037724, -0.06684428548591714, -0.014255681377665827, -0.06692833292812365, 0.16107658293273794, -0.5045436738165682, -0.42855353168648946, 0.16153043141346027, -0.18102195347615624, -0.1810218846963829, -0.1284431677247229, 0.17133142457083672, -0.18544368906498718, -0.18104657865720317, -0.1815658234503343, -0.361345135008046, -0.37584625830987195, -0.3268297166125807, 0.3647367524239761, -0.428505563081887, -0.32325658844625627, -0.18125671657119727, 0.7659600195654408, -0.0668410720979894, -0.014289638316526718, -0.4284245033339736, -0.1810360096053531, 0.22770480998508305, -0.1290752587088222, -0.428418429300424, -0.014305208584386565, -0.21969383451557603, -0.1285002823637979, -0.21137316603631834, 0.15210797431784182, -0.12843979330614635, -0.4298600760596153, -0.1474705015296745, 0.2901941830927693, -0.014255182371556506, 0.15170178263530792, -0.3613315881114379, 0.004775038356591899, -0.48605684526799736, 0.15241377176501214, -0.11078296776410197, 0.5184610870281107, -0.014255657001954313, 0.5756651472669517, 0.8265038305227868, -0.4285206820741193, -0.18102172232282568, -0.1295049352561208, 0.5756956780351355, -0.38032018622152713, -0.9678970082207965, -0.42844188372376923, 0.15223868250227707, -0.10489746803557466, -0.18111490878540162, -0.1810219221672038, -0.18103528430754376, -0.37617246211136046, 0.1524018378988879, -0.4284539228415287, -0.06690536464536864, -0.18113206633198897, -0.5515237259321278, -0.18108223055690836, -0.18108117052297812, -0.4284253569086352, 0.7659972467723147, -0.18106750142221772, -0.259751212201157, -0.18104085761235691, -0.18104000509061074, 0.057299963918869615, -0.028940843095056446, -0.12844467688163466, 0.7659516766861527, -0.42842086490378145, 0.32828651614451526, -0.4664821926698946, 0.1525106331438424, -0.18115218920469595, -0.06685157244297138, -0.4284517035057601, -0.4284209023746026, -0.3758387452505537, -0.18108626270933667, -0.3787343080933288, -0.18102364276178218, -0.12843981016801573, 0.6898201926608549, -0.07587353986541863, -0.19914759423726225, 0.3663581240172065, -0.12845675747480517, -0.3613969847508233, -0.37600378033697596, 0.5756580318006057, -0.18646048534865936, -0.12898281482109938, 0.32819585682810715, 0.5186037198345173, -0.375838717931827, -0.07605371899227319, 0.6137449068548201, -0.42849249144764856, 0.8085075910426277, -0.42902259233952234, -0.12878741917995454, -0.07585763022173926, 0.1519061942338312, -0.42853795174501685, 0.21405753874849615, 0.15032747221194698, -0.4290825120123354, -0.1810511671891217, -0.18102821044597456, -0.18102444170433865, -0.12843980991821025, 0.03779836591180122, -0.4285143084404544, -0.1285500831892811, -0.1284398149143197, -0.07746233045106829, -0.021421973849204985, 0.1524486669175745, -0.18113811115464434, -0.4284204043873926, -0.7256559749596685, 0.03827027122324315, -0.12851416359547357, 0.17099744570486297, 0.6895043616646109, 0.7606950570289641, 0.841400695973094, 0.8039638339264938, 0.7561617980423962, 0.1615077427564391, -0.3760298579684248, 0.16118813036295002, -0.2571817099146267, -0.12853843249918126, -0.46659796970059286, -0.1284679027323106, -0.42842092538027876, -0.3759803936511085, -0.37585303092505096, -0.23020271783999696, 0.7659255522242202, -0.4666015018288898, -0.29981282981667196, -1.0152078895263212, 0.3541710266155932, -0.19062899532084118, -0.3765046115785961, -0.257402129059427, -0.01435355048418634, -0.42848928622052357, -0.12843956286059796, -0.07595915910342718, -0.798610666712191, -0.12843983117062627, 0.15248886849920024, -0.1284395653586527, -0.1284925881528465, -0.12853472098738755, -0.12861734801739794, -0.12862316637854632, -0.18112823126343905, -0.1810448138838238, 0.7659539249046492, -0.018901537855327406, 0.08763341225371929, -0.42846041909411, 0.5473565155372879, 0.14150651149814028, -0.39053851221704816, -0.1810281723849134, 0.19505924455147577, 0.3617176613456497, 0.5756021184696877, -0.4445753140257052, -0.06733845645366578, 0.15848195666856144, 0.10439320267039012, 0.6326029312961259, -0.18103365852599473, -0.04797413296746153, -0.12898361210665374, 0.19050492680300662, -0.181110960438817, -0.27617541519729055, -0.42842092643415164, 0.05735718258068582, -0.010620143947191074, -0.37679164049453023, 0.19504723323524123, -0.12843974022248347, 0.5185342972867575, -0.12843978890957, 0.19505018292596868, 0.18004887591861968, -0.4286286444883847, 0.8255255533670386, 0.007081673464381916, -0.46748045069176125, 0.2305234197221074, -0.18162549714997103, 0.6611545375159957, 0.765978090114212, 0.5157730972996093, 0.2666227000018644, 0.057264950454160767, -0.3762754538149733, -0.014255676736586665, 0.6874802001923651, -0.2077219679213104, -0.18106772579152056, -0.1499989173160874, -0.42866660671028683, -0.06681535645414581, 0.7355892729833288, -0.37586176619395556, -0.18102197097919304, 0.19503922051981473, 0.057208717331731, 0.19345149039788107, -0.12868717070362662, -0.18423617997262198, -0.1810355924361704, -0.32328057818011163, -0.3758848750458623, -0.014365355040103375, 0.8230298222628742, -0.18102147251735315, 22.859466036790163, 0.1714301030762911, 0.5711769634687202, -0.1635456997760203, 0.4772373959382554, -0.2236194611393162, -0.1822991873605197, 0.76527421840621, 0.5756956780351355, -0.204562566371848, -0.1828249473677365, 0.6322040476719701, 0.30576485008491794, -0.36257033258781296, 0.17492208604351772, -0.05428555688899406, -0.12850749656041727, -0.20724841043958556, -0.12843456924920182, 0.19508190338601414, 0.5756956780351355, -0.3769878432719628, 0.7704512824994016, 0.16742264063835796, -0.4284327114078907, -0.5426073258878793, -0.07599669646608118, -0.2887347973311879, 0.517258524479868, -0.37583876489525603, 0.7655674432383731, 0.195081920497689, -0.12846194683755527, 0.4042835101862759, 0.16145545103289116, 0.5756956937968613, -0.18102657060255506, -0.18102840033201756, 0.5753076047456053, 0.5756956783598826, -0.07731130201603566, 0.29008671626731336, 0.5231135682841968, 0.5330710707271935, 0.15239164857446905, -0.18107570234511042, -0.181021947147751, 0.00876599271967463, -0.181021847225562, -0.3760117060216993, -0.04856711067270175, 0.15245039246527023, 0.7659154540939676, -0.4184339977281902, -0.18865757269052777, 0.2139979984452853, 0.3282689990009409, -0.4725548221820255, -0.3187510255513987, -0.0760681688691845, 0.29019734508572337, 0.7660022528209494, 0.7468677379669448, 0.5414574169941992, -0.2364948069759818, -0.07589914497048221, 0.3846499026355424, -0.10507996629801146, 0.762956636461505, -0.18113942483463338, -0.3995440549662063, -0.3941980416880706, 0.05734255309743766, 0.0380120796929889, 0.7043016317795691, -0.4710364038485946, 0.4424338356744995, -0.37586592105580546, -0.5237751671558152, 0.05731864963810041, -0.04783934349840542, -0.07585910874237366, -0.5616357404073801, 0.25661137189988237, 0.05699793743847956, -0.12844751453681305, -0.1810511123240394, 0.6897955061184854, 0.6708225387075404, -0.181021947147751, -0.49010305194568426, 0.20557217752639306, -0.32336140198569036, -0.42858827172709785, -0.07644369539088082, 0.15245993256397705, 0.309266072414723, -0.07585744836335515, -0.025676559745259953, -0.07585764071356899, 0.3137506170586728, -0.3232810881102941, -0.37586604433599363, -0.04780708763170243, -0.18678231469154064, -0.26958750399564235, -0.47104523808297416, 0.7996164762891559, 0.1424998015039478, 0.5526638034525738, -0.4374776492064887, 0.0047750142004027, 0.7279661642453061, 0.2901612041007781, 0.5186036096123097, -0.014353533759990114, -0.6138311851460133, 0.5186036311789558, 0.7558501108414587, 0.1099393323005001, -0.22359325795833163, -0.04799919120375945, 0.9182480828259211, 0.8801781369683837, 0.88010051434757, -0.014255676736645606, 0.6282045636475333, 0.49957071394297303, -0.1286316904026112, -0.1811023384716403, 0.5755016424738393, -0.04790648439561928, 0.5755588913315868, 0.05734664480123715, -0.34865701847218433, 0.023735420414222917, -0.3232605008077501, -0.1811336988425546, 0.5376343200425598, -0.5436869130580286, -0.10977306362483127, -0.42850468943831116, -0.014255655752926965, -0.014540079780081578, -0.4139065125371712, -0.014715830614963328, -0.42855023167488143, 0.8216537715705189, -0.32325660718166677, -0.26432902558990257, -0.37583876578206515, -0.12871751453024652, 0.1742813393103061, -0.18104115988784047, 0.8800614111985243, -0.18113386945626422, 0.038302591775835546, -0.4307940264114795, 0.7660025660216804, -0.13268294646617249, -0.18635332098768395, -0.16440770475381966, -0.43110873540993666, -0.014380691950659004, -0.1813482941627662, 0.7660025660333571, -0.28932763217666047, -0.06683783270153783, -0.18322085370404126, 0.4611129142760086, -0.42951604825434586, -0.18158550698818754, 0.15248982756149287, -0.12846729356942055, -0.12881876693924457, -0.5336771577851377, -0.06724395813805864, 0.8264396071496879, -0.13024411894040266, -0.18239249573149138, -0.12843959283725462, 0.14249366007476066, -0.1810218971866565, 0.11557984240440991, 0.23312514696814396, -0.46648307070922046, 0.5561216322145256, 0.5184704281907041, 0.5186038560038811, 0.03288796176131028, 0.48700264034173174, 0.15246012153484792, -5.489478172756106, 0.1295447092882096, 0.15014114814955146, -0.18110311609869306, 0.760671712801758, 0.575655993896764, -0.07585835589026961]}],\n",
       "                        {\"coloraxis\": {\"colorbar\": {\"title\": {\"text\": \"class\"}}, \"colorscale\": [[0.0, \"#0d0887\"], [0.1111111111111111, \"#46039f\"], [0.2222222222222222, \"#7201a8\"], [0.3333333333333333, \"#9c179e\"], [0.4444444444444444, \"#bd3786\"], [0.5555555555555556, \"#d8576b\"], [0.6666666666666666, \"#ed7953\"], [0.7777777777777778, \"#fb9f3a\"], [0.8888888888888888, \"#fdca26\"], [1.0, \"#f0f921\"]]}, \"legend\": {\"tracegroupgap\": 0}, \"margin\": {\"t\": 60}, \"scene\": {\"domain\": {\"x\": [0.0, 1.0], \"y\": [0.0, 1.0]}, \"xaxis\": {\"title\": {\"text\": \"PC1\"}}, \"yaxis\": {\"title\": {\"text\": \"PC2\"}}, \"zaxis\": {\"title\": {\"text\": \"PC3\"}}}, \"template\": {\"data\": {\"bar\": [{\"error_x\": {\"color\": \"#2a3f5f\"}, \"error_y\": {\"color\": \"#2a3f5f\"}, \"marker\": {\"line\": {\"color\": \"#E5ECF6\", \"width\": 0.5}}, \"type\": \"bar\"}], \"barpolar\": [{\"marker\": {\"line\": {\"color\": \"#E5ECF6\", \"width\": 0.5}}, \"type\": \"barpolar\"}], \"carpet\": [{\"aaxis\": {\"endlinecolor\": \"#2a3f5f\", \"gridcolor\": \"white\", \"linecolor\": \"white\", \"minorgridcolor\": \"white\", \"startlinecolor\": \"#2a3f5f\"}, \"baxis\": {\"endlinecolor\": \"#2a3f5f\", \"gridcolor\": \"white\", \"linecolor\": \"white\", \"minorgridcolor\": \"white\", \"startlinecolor\": \"#2a3f5f\"}, \"type\": \"carpet\"}], \"choropleth\": [{\"colorbar\": {\"outlinewidth\": 0, \"ticks\": \"\"}, \"type\": \"choropleth\"}], \"contour\": [{\"colorbar\": {\"outlinewidth\": 0, \"ticks\": \"\"}, \"colorscale\": [[0.0, \"#0d0887\"], [0.1111111111111111, \"#46039f\"], [0.2222222222222222, \"#7201a8\"], [0.3333333333333333, \"#9c179e\"], [0.4444444444444444, \"#bd3786\"], [0.5555555555555556, \"#d8576b\"], [0.6666666666666666, \"#ed7953\"], [0.7777777777777778, \"#fb9f3a\"], [0.8888888888888888, \"#fdca26\"], [1.0, \"#f0f921\"]], \"type\": \"contour\"}], \"contourcarpet\": [{\"colorbar\": {\"outlinewidth\": 0, \"ticks\": \"\"}, \"type\": \"contourcarpet\"}], \"heatmap\": [{\"colorbar\": {\"outlinewidth\": 0, \"ticks\": \"\"}, \"colorscale\": [[0.0, \"#0d0887\"], [0.1111111111111111, \"#46039f\"], [0.2222222222222222, \"#7201a8\"], [0.3333333333333333, \"#9c179e\"], [0.4444444444444444, \"#bd3786\"], [0.5555555555555556, \"#d8576b\"], [0.6666666666666666, \"#ed7953\"], [0.7777777777777778, \"#fb9f3a\"], [0.8888888888888888, \"#fdca26\"], [1.0, \"#f0f921\"]], \"type\": \"heatmap\"}], \"heatmapgl\": [{\"colorbar\": {\"outlinewidth\": 0, \"ticks\": \"\"}, \"colorscale\": [[0.0, \"#0d0887\"], [0.1111111111111111, \"#46039f\"], [0.2222222222222222, \"#7201a8\"], [0.3333333333333333, \"#9c179e\"], [0.4444444444444444, \"#bd3786\"], [0.5555555555555556, \"#d8576b\"], [0.6666666666666666, \"#ed7953\"], [0.7777777777777778, \"#fb9f3a\"], [0.8888888888888888, \"#fdca26\"], [1.0, \"#f0f921\"]], \"type\": \"heatmapgl\"}], \"histogram\": [{\"marker\": {\"colorbar\": {\"outlinewidth\": 0, \"ticks\": \"\"}}, \"type\": \"histogram\"}], \"histogram2d\": [{\"colorbar\": {\"outlinewidth\": 0, \"ticks\": \"\"}, \"colorscale\": [[0.0, \"#0d0887\"], [0.1111111111111111, \"#46039f\"], [0.2222222222222222, \"#7201a8\"], [0.3333333333333333, \"#9c179e\"], [0.4444444444444444, \"#bd3786\"], [0.5555555555555556, \"#d8576b\"], [0.6666666666666666, \"#ed7953\"], [0.7777777777777778, \"#fb9f3a\"], [0.8888888888888888, \"#fdca26\"], [1.0, \"#f0f921\"]], \"type\": \"histogram2d\"}], \"histogram2dcontour\": [{\"colorbar\": {\"outlinewidth\": 0, \"ticks\": \"\"}, \"colorscale\": [[0.0, \"#0d0887\"], [0.1111111111111111, \"#46039f\"], [0.2222222222222222, \"#7201a8\"], [0.3333333333333333, \"#9c179e\"], [0.4444444444444444, \"#bd3786\"], [0.5555555555555556, \"#d8576b\"], [0.6666666666666666, \"#ed7953\"], [0.7777777777777778, \"#fb9f3a\"], [0.8888888888888888, \"#fdca26\"], [1.0, \"#f0f921\"]], \"type\": \"histogram2dcontour\"}], \"mesh3d\": [{\"colorbar\": {\"outlinewidth\": 0, \"ticks\": \"\"}, \"type\": \"mesh3d\"}], \"parcoords\": [{\"line\": {\"colorbar\": {\"outlinewidth\": 0, \"ticks\": \"\"}}, \"type\": \"parcoords\"}], \"pie\": [{\"automargin\": true, \"type\": \"pie\"}], \"scatter\": [{\"marker\": {\"colorbar\": {\"outlinewidth\": 0, \"ticks\": \"\"}}, \"type\": \"scatter\"}], \"scatter3d\": [{\"line\": {\"colorbar\": {\"outlinewidth\": 0, \"ticks\": \"\"}}, \"marker\": {\"colorbar\": {\"outlinewidth\": 0, \"ticks\": \"\"}}, \"type\": \"scatter3d\"}], \"scattercarpet\": [{\"marker\": {\"colorbar\": {\"outlinewidth\": 0, \"ticks\": \"\"}}, \"type\": \"scattercarpet\"}], \"scattergeo\": [{\"marker\": {\"colorbar\": {\"outlinewidth\": 0, \"ticks\": \"\"}}, \"type\": \"scattergeo\"}], \"scattergl\": [{\"marker\": {\"colorbar\": {\"outlinewidth\": 0, \"ticks\": \"\"}}, \"type\": \"scattergl\"}], \"scattermapbox\": [{\"marker\": {\"colorbar\": {\"outlinewidth\": 0, \"ticks\": \"\"}}, \"type\": \"scattermapbox\"}], \"scatterpolar\": [{\"marker\": {\"colorbar\": {\"outlinewidth\": 0, \"ticks\": \"\"}}, \"type\": \"scatterpolar\"}], \"scatterpolargl\": [{\"marker\": {\"colorbar\": {\"outlinewidth\": 0, \"ticks\": \"\"}}, \"type\": \"scatterpolargl\"}], \"scatterternary\": [{\"marker\": {\"colorbar\": {\"outlinewidth\": 0, \"ticks\": \"\"}}, \"type\": \"scatterternary\"}], \"surface\": [{\"colorbar\": {\"outlinewidth\": 0, \"ticks\": \"\"}, \"colorscale\": [[0.0, \"#0d0887\"], [0.1111111111111111, \"#46039f\"], [0.2222222222222222, \"#7201a8\"], [0.3333333333333333, \"#9c179e\"], [0.4444444444444444, \"#bd3786\"], [0.5555555555555556, \"#d8576b\"], [0.6666666666666666, \"#ed7953\"], [0.7777777777777778, \"#fb9f3a\"], [0.8888888888888888, \"#fdca26\"], [1.0, \"#f0f921\"]], \"type\": \"surface\"}], \"table\": [{\"cells\": {\"fill\": {\"color\": \"#EBF0F8\"}, \"line\": {\"color\": \"white\"}}, \"header\": {\"fill\": {\"color\": \"#C8D4E3\"}, \"line\": {\"color\": \"white\"}}, \"type\": \"table\"}]}, \"layout\": {\"annotationdefaults\": {\"arrowcolor\": \"#2a3f5f\", \"arrowhead\": 0, \"arrowwidth\": 1}, \"coloraxis\": {\"colorbar\": {\"outlinewidth\": 0, \"ticks\": \"\"}}, \"colorscale\": {\"diverging\": [[0, \"#8e0152\"], [0.1, \"#c51b7d\"], [0.2, \"#de77ae\"], [0.3, \"#f1b6da\"], [0.4, \"#fde0ef\"], [0.5, \"#f7f7f7\"], [0.6, \"#e6f5d0\"], [0.7, \"#b8e186\"], [0.8, \"#7fbc41\"], [0.9, \"#4d9221\"], [1, \"#276419\"]], \"sequential\": [[0.0, \"#0d0887\"], [0.1111111111111111, \"#46039f\"], [0.2222222222222222, \"#7201a8\"], [0.3333333333333333, \"#9c179e\"], [0.4444444444444444, \"#bd3786\"], [0.5555555555555556, \"#d8576b\"], [0.6666666666666666, \"#ed7953\"], [0.7777777777777778, \"#fb9f3a\"], [0.8888888888888888, \"#fdca26\"], [1.0, \"#f0f921\"]], \"sequentialminus\": [[0.0, \"#0d0887\"], [0.1111111111111111, \"#46039f\"], [0.2222222222222222, \"#7201a8\"], [0.3333333333333333, \"#9c179e\"], [0.4444444444444444, \"#bd3786\"], [0.5555555555555556, \"#d8576b\"], [0.6666666666666666, \"#ed7953\"], [0.7777777777777778, \"#fb9f3a\"], [0.8888888888888888, \"#fdca26\"], [1.0, \"#f0f921\"]]}, \"colorway\": [\"#636efa\", \"#EF553B\", \"#00cc96\", \"#ab63fa\", \"#FFA15A\", \"#19d3f3\", \"#FF6692\", \"#B6E880\", \"#FF97FF\", \"#FECB52\"], \"font\": {\"color\": \"#2a3f5f\"}, \"geo\": {\"bgcolor\": \"white\", \"lakecolor\": \"white\", \"landcolor\": \"#E5ECF6\", \"showlakes\": true, \"showland\": true, \"subunitcolor\": \"white\"}, \"hoverlabel\": {\"align\": \"left\"}, \"hovermode\": \"closest\", \"mapbox\": {\"style\": \"light\"}, \"paper_bgcolor\": \"white\", \"plot_bgcolor\": \"#E5ECF6\", \"polar\": {\"angularaxis\": {\"gridcolor\": \"white\", \"linecolor\": \"white\", \"ticks\": \"\"}, \"bgcolor\": \"#E5ECF6\", \"radialaxis\": {\"gridcolor\": \"white\", \"linecolor\": \"white\", \"ticks\": \"\"}}, \"scene\": {\"xaxis\": {\"backgroundcolor\": \"#E5ECF6\", \"gridcolor\": \"white\", \"gridwidth\": 2, \"linecolor\": \"white\", \"showbackground\": true, \"ticks\": \"\", \"zerolinecolor\": \"white\"}, \"yaxis\": {\"backgroundcolor\": \"#E5ECF6\", \"gridcolor\": \"white\", \"gridwidth\": 2, \"linecolor\": \"white\", \"showbackground\": true, \"ticks\": \"\", \"zerolinecolor\": \"white\"}, \"zaxis\": {\"backgroundcolor\": \"#E5ECF6\", \"gridcolor\": \"white\", \"gridwidth\": 2, \"linecolor\": \"white\", \"showbackground\": true, \"ticks\": \"\", \"zerolinecolor\": \"white\"}}, \"shapedefaults\": {\"line\": {\"color\": \"#2a3f5f\"}}, \"ternary\": {\"aaxis\": {\"gridcolor\": \"white\", \"linecolor\": \"white\", \"ticks\": \"\"}, \"baxis\": {\"gridcolor\": \"white\", \"linecolor\": \"white\", \"ticks\": \"\"}, \"bgcolor\": \"#E5ECF6\", \"caxis\": {\"gridcolor\": \"white\", \"linecolor\": \"white\", \"ticks\": \"\"}}, \"title\": {\"x\": 0.05}, \"xaxis\": {\"automargin\": true, \"gridcolor\": \"white\", \"linecolor\": \"white\", \"ticks\": \"\", \"title\": {\"standoff\": 15}, \"zerolinecolor\": \"white\", \"zerolinewidth\": 2}, \"yaxis\": {\"automargin\": true, \"gridcolor\": \"white\", \"linecolor\": \"white\", \"ticks\": \"\", \"title\": {\"standoff\": 15}, \"zerolinecolor\": \"white\", \"zerolinewidth\": 2}}}},\n",
       "                        {\"responsive\": true}\n",
       "                    ).then(function(){\n",
       "                            \n",
       "var gd = document.getElementById('a4abded8-4ab5-4218-9213-452b5fce0a2f');\n",
       "var x = new MutationObserver(function (mutations, observer) {{\n",
       "        var display = window.getComputedStyle(gd).display;\n",
       "        if (!display || display === 'none') {{\n",
       "            console.log([gd, 'removed!']);\n",
       "            Plotly.purge(gd);\n",
       "            observer.disconnect();\n",
       "        }}\n",
       "}});\n",
       "\n",
       "// Listen for the removal of the full notebook cells\n",
       "var notebookContainer = gd.closest('#notebook-container');\n",
       "if (notebookContainer) {{\n",
       "    x.observe(notebookContainer, {childList: true});\n",
       "}}\n",
       "\n",
       "// Listen for the clearing of the current output cell\n",
       "var outputEl = gd.closest('.output');\n",
       "if (outputEl) {{\n",
       "    x.observe(outputEl, {childList: true});\n",
       "}}\n",
       "\n",
       "                        })\n",
       "                };\n",
       "                });\n",
       "            </script>\n",
       "        </div>"
      ]
     },
     "metadata": {},
     "output_type": "display_data"
    }
   ],
   "source": [
    "#Unsure\n",
    "import plotly.express as px\n",
    "df = clustered_df\n",
    "fig = px.scatter_3d(df, x='PC1', y='PC2', z='PC3',\n",
    "              color='class', hover_name=\"CoinName\", hover_data=[\"Algorithm\"] )\n",
    "fig.show()"
   ]
  },
  {
   "cell_type": "code",
   "execution_count": 62,
   "metadata": {},
   "outputs": [
    {
     "data": {},
     "metadata": {},
     "output_type": "display_data"
    },
    {
     "data": {
      "application/vnd.holoviews_exec.v0+json": "",
      "text/html": [
       "<div id='1688'>\n",
       "\n",
       "\n",
       "\n",
       "\n",
       "\n",
       "  <div class=\"bk-root\" id=\"749c4a38-551c-4494-9b7f-39a0c60347f1\" data-root-id=\"1688\"></div>\n",
       "</div>\n",
       "<script type=\"application/javascript\">(function(root) {\n",
       "  function embed_document(root) {\n",
       "  var docs_json = {\"009d8024-65b8-48bc-b4ff-00f880c36176\":{\"roots\":{\"references\":[{\"attributes\":{\"editor\":{\"id\":\"1713\"},\"field\":\"TotalCoinsMined\",\"formatter\":{\"id\":\"1712\"},\"title\":\"TotalCoinsMined\"},\"id\":\"1714\",\"type\":\"TableColumn\"},{\"attributes\":{},\"id\":\"1693\",\"type\":\"StringEditor\"},{\"attributes\":{\"editor\":{\"id\":\"1693\"},\"field\":\"CoinName\",\"formatter\":{\"id\":\"1692\"},\"title\":\"CoinName\"},\"id\":\"1694\",\"type\":\"TableColumn\"},{\"attributes\":{\"margin\":[5,5,5,5],\"name\":\"HSpacer03069\",\"sizing_mode\":\"stretch_width\"},\"id\":\"1726\",\"type\":\"Spacer\"},{\"attributes\":{},\"id\":\"1691\",\"type\":\"Selection\"},{\"attributes\":{},\"id\":\"1708\",\"type\":\"NumberEditor\"},{\"attributes\":{},\"id\":\"1718\",\"type\":\"IntEditor\"},{\"attributes\":{},\"id\":\"1697\",\"type\":\"StringFormatter\"},{\"attributes\":{},\"id\":\"1698\",\"type\":\"StringEditor\"},{\"attributes\":{\"margin\":[5,5,5,5],\"name\":\"HSpacer03068\",\"sizing_mode\":\"stretch_width\"},\"id\":\"1689\",\"type\":\"Spacer\"},{\"attributes\":{\"editor\":{\"id\":\"1698\"},\"field\":\"Algorithm\",\"formatter\":{\"id\":\"1697\"},\"title\":\"Algorithm\"},\"id\":\"1699\",\"type\":\"TableColumn\"},{\"attributes\":{\"editor\":{\"id\":\"1708\"},\"field\":\"TotalCoinSupply\",\"formatter\":{\"id\":\"1707\"},\"title\":\"TotalCoinSupply\"},\"id\":\"1709\",\"type\":\"TableColumn\"},{\"attributes\":{},\"id\":\"1717\",\"type\":\"NumberFormatter\"},{\"attributes\":{\"editor\":{\"id\":\"1718\"},\"field\":\"class\",\"formatter\":{\"id\":\"1717\"},\"title\":\"class\"},\"id\":\"1719\",\"type\":\"TableColumn\"},{\"attributes\":{},\"id\":\"1702\",\"type\":\"StringFormatter\"},{\"attributes\":{\"data\":{\"Algorithm\":[\"Scrypt\",\"Scrypt\",\"X13\",\"SHA-256\",\"Scrypt\",\"X11\",\"Ethash\",\"Equihash\",\"SHA-512\",\"Multiple\",\"SHA-256\",\"X11\",\"SHA-256\",\"Scrypt\",\"X15\",\"X11\",\"SHA-256\",\"X13\",\"X13\",\"Scrypt\",\"Scrypt\",\"Scrypt\",\"SHA-256\",\"Multiple\",\"Scrypt\",\"SHA-256\",\"Scrypt\",\"Scrypt\",\"Quark\",\"Groestl\",\"Scrypt\",\"X11\",\"Scrypt\",\"Scrypt\",\"Scrypt\",\"Scrypt\",\"Scrypt\",\"Scrypt\",\"Multiple\",\"Scrypt\",\"X11\",\"Scrypt\",\"Groestl\",\"Multiple\",\"X11\",\"Scrypt\",\"SHA-256\",\"Scrypt\",\"Scrypt\",\"Scrypt\",\"Scrypt\",\"Scrypt\",\"Scrypt\",\"X11\",\"NIST5\",\"SHA-256\",\"Scrypt\",\"NeoScrypt\",\"Scrypt\",\"Scrypt\",\"Scrypt\",\"X11\",\"Scrypt\",\"Multiple\",\"Scrypt\",\"X11\",\"SHA-256\",\"X11\",\"X13\",\"Scrypt\",\"Scrypt\",\"Scrypt\",\"Scrypt\",\"X11\",\"SHA3\",\"Scrypt\",\"HybridScryptHash256\",\"Scrypt\",\"SHA-256\",\"Scrypt\",\"SHA-256\",\"Scrypt\",\"SHA-256\",\"Scrypt\",\"NeoScrypt\",\"Scrypt\",\"Scrypt\",\"Scrypt\",\"Scrypt\",\"Scrypt\",\"X15\",\"Scrypt\",\"Scrypt\",\"Scrypt-n\",\"Scrypt\",\"X11\",\"SHA-256\",\"Multiple\",\"SHA-256\",\"PHI1612\",\"X11\",\"SHA-256\",\"SHA-256\",\"SHA-256\",\"SHA-256\",\"Scrypt\",\"Scrypt\",\"Scrypt\",\"Lyra2REv2\",\"Scrypt\",\"Scrypt\",\"X11\",\"SHA-256\",\"Scrypt\",\"Scrypt\",\"CryptoNight\",\"CryptoNight\",\"Shabal256\",\"Counterparty\",\"Scrypt\",\"SHA-256\",\"SHA-256\",\"Scrypt\",\"Scrypt\",\"Scrypt\",\"X13\",\"Scrypt\",\"Scrypt\",\"Scrypt\",\"SHA-256\",\"X13\",\"X13\",\"Scrypt\",\"X11\",\"Momentum\",\"Stanford Folding\",\"X11\",\"Scrypt\",\"Scrypt\",\"Scrypt\",\"M7 POW\",\"Scrypt\",\"X11\",\"Scrypt\",\"SHA-256\",\"Scrypt\",\"X11\",\"SHA3\",\"X11\",\"Lyra2RE\",\"SHA-256\",\"QUAIT\",\"X11\",\"Scrypt\",\"Scrypt\",\"Scrypt\",\"Ethash\",\"X11\",\"X13\",\"SHA-256\",\"X13\",\"X15\",\"X11\",\"SHA-256\",\"BLAKE256\",\"Scrypt\",\"Scrypt\",\"1GB AES Pattern Search\",\"SHA-256\",\"X11\",\"Scrypt\",\"CryptoNight\",\"SHA-256\",\"Quark\",\"SHA-256\",\"Blake\",\"Scrypt\",\"Scrypt\",\"SHA-256\",\"X11\",\"Scrypt\",\"Scrypt-n\",\"X11\",\"Scrypt\",\"Dagger\",\"Scrypt\",\"SHA-256\",\"CryptoNight-Lite\",\"X11GOST\",\"X11\",\"SHA-256\",\"Scrypt\",\"SHA-256\",\"Scrypt\",\"PoS\",\"Scrypt\",\"X11\",\"X11\",\"X11\",\"X11\",\"PoS\",\"SHA-256\",\"SHA-256\",\"SHA-256\",\"NIST5\",\"X15\",\"X11\",\"NIST5\",\"Scrypt\",\"Scrypt\",\"Scrypt\",\"POS 3.0\",\"Scrypt\",\"Scrypt\",\"Scrypt\",\"X13\",\"X11\",\"X11\",\"Equihash\",\"X11\",\"X11\",\"Scrypt\",\"CryptoNight\",\"SHA-256\",\"SHA-256\",\"X11\",\"Scrypt\",\"Multiple\",\"Scrypt\",\"X11\",\"SHA-256\",\"Scrypt\",\"Scrypt\",\"SHA-256D\",\"PoS\",\"Scrypt\",\"X11\",\"Scrypt-n\",\"Lyra2Z\",\"SHA-256\",\"PoS\",\"X13\",\"Quark\",\"X14\",\"PoS\",\"SHA-256D\",\"Ethash\",\"SHA-256\",\"Equihash\",\"DPoS\",\"X11\",\"Scrypt\",\"Scrypt\",\"Equihash\",\"X11\",\"X13\",\"X11\",\"PoS\",\"SHA-256D\",\"Scrypt\",\"Scrypt\",\"Scrypt\",\"X11\",\"PoS\",\"X11\",\"SHA-256\",\"Scrypt\",\"X11\",\"Scrypt\",\"Scrypt\",\"X11\",\"CryptoNight\",\"Scrypt\",\"Scrypt\",\"Scrypt\",\"Scrypt\",\"Quark\",\"QuBit\",\"Scrypt\",\"CryptoNight\",\"X11\",\"Lyra2RE\",\"X13\",\"PoS\",\"Scrypt\",\"SHA-256\",\"X11\",\"X11\",\"X11\",\"Scrypt\",\"X11\",\"Scrypt\",\"Scrypt\",\"CryptoNight-V7\",\"Scrypt\",\"Scrypt\",\"Keccak\",\"Scrypt\",\"X13\",\"X11\",\"Equihash\",\"Scrypt\",\"Scrypt\",\"Lyra2RE\",\"Ethash\",\"X11\",\"Scrypt\",\"Dagger-Hashimoto\",\"X11\",\"Blake2S\",\"X11\",\"Scrypt\",\"Scrypt\",\"PoS\",\"X11\",\"NIST5\",\"PoS\",\"X11\",\"Scrypt\",\"Scrypt\",\"Scrypt\",\"Scrypt\",\"SHA-256\",\"X11\",\"Scrypt\",\"Scrypt\",\"Scrypt\",\"SHA-256\",\"PoS\",\"Scrypt\",\"X11\",\"X15\",\"SHA-256\",\"Scrypt\",\"POS 3.0\",\"CryptoNight-V7\",\"536\",\"Blake2b\",\"Cloverhash\",\"CryptoNight\",\"NIST5\",\"X11\",\"NIST5\",\"Skein\",\"Scrypt\",\"X13\",\"Scrypt\",\"X11\",\"X11\",\"X11\",\"Scrypt\",\"CryptoNight\",\"X13\",\"Time Travel\",\"Scrypt\",\"Keccak\",\"SkunkHash v2 Raptor\",\"X11\",\"Skein\",\"SHA-256\",\"X11\",\"Scrypt\",\"Scrypt\",\"VeChainThor Authority\",\"Scrypt\",\"PoS\",\"Scrypt\",\"Scrypt\",\"Scrypt\",\"Scrypt\",\"Scrypt\",\"Scrypt\",\"Scrypt\",\"CryptoNight\",\"SHA-512\",\"Ouroboros\",\"X11\",\"Equihash\",\"NeoScrypt\",\"X11\",\"Scrypt\",\"NeoScrypt\",\"Lyra2REv2\",\"Equihash\",\"Scrypt\",\"SHA-256\",\"NIST5\",\"PHI1612\",\"Dagger\",\"Scrypt\",\"Quark\",\"Scrypt\",\"POS 2.0\",\"Scrypt\",\"SkunkHash\",\"X11\",\"Quark\",\"SHA-256\",\"X11\",\"NeoScrypt\",\"Scrypt\",\"Ethash\",\"Scrypt\",\"NeoScrypt\",\"Quark\",\"X11\",\"DPoS\",\"NIST5\",\"X13\",\"Multiple\",\"Scrypt\",\"CryptoNight\",\"CryptoNight\",\"Ethash\",\"NIST5\",\"Quark\",\"X11\",\"SHA-256\",\"CryptoNight-V7\",\"Scrypt\",\"Scrypt\",\"Scrypt\",\"X11\",\"SHA-256\",\"BLAKE256\",\"X11\",\"Scrypt\",\"NeoScrypt\",\"Quark\",\"NeoScrypt\",\"Scrypt\",\"Scrypt\",\"Scrypt\",\"X11\",\"X11\",\"SHA-256\",\"C11\",\"Scrypt\",\"Scrypt\",\"POS 3.0\",\"Ethash\",\"Scrypt\",\"CryptoNight\",\"SkunkHash\",\"Scrypt\",\"CryptoNight\",\"Equihash\",\"Skein\",\"Scrypt\",\"Dagger\",\"Lyra2REv2\",\"X13\",\"Proof-of-BibleHash\",\"SHA-256 + Hive\",\"Scrypt\",\"Scrypt\",\"Scrypt\",\"NeoScrypt\",\"Equihash\",\"X11\",\"C11\",\"Proof-of-Authority\",\"X11\",\"XEVAN\",\"Scrypt\",\"VBFT\",\"Ethash\",\"X11\",\"CryptoNight\",\"NeoScrypt\",\"Scrypt\",\"IMesh\",\"NIST5\",\"Equihash\",\"Scrypt\",\"Scrypt\",\"Equihash\",\"Equihash\",\"Scrypt\",\"Lyra2Z\",\"Equihash\",\"Green Protocol\",\"PoS\",\"Scrypt\",\"Scrypt\",\"Semux BFT consensus\",\"Scrypt\",\"X11\",\"Quark\",\"PoS\",\"CryptoNight\",\"X16R\",\"Scrypt\",\"NIST5\",\"Lyra2RE\",\"XEVAN\",\"Tribus\",\"Scrypt\",\"Lyra2Z\",\"CryptoNight\",\"CryptoNight Heavy\",\"CryptoNight\",\"Scrypt\",\"Scrypt\",\"Jump Consistent Hash\",\"SHA-256D\",\"CryptoNight\",\"Scrypt\",\"X15\",\"Scrypt\",\"Quark\",\"SHA-256\",\"DPoS\",\"X16R\",\"HMQ1725\",\"X11\",\"X16R\",\"Quark\",\"Quark\",\"Scrypt\",\"Zhash\",\"Lyra2REv2\",\"Quark\",\"Scrypt\",\"Scrypt\",\"CryptoNight-V7\",\"Cryptonight-GPU\",\"Scrypt\",\"XEVAN\",\"CryptoNight Heavy\",\"X11\",\"X11\",\"Scrypt\",\"PoS\",\"Lyra2REv2\",\"Scrypt\",\"SHA-256\",\"Scrypt\",\"Keccak\",\"X11\",\"X11\",\"Quark\",\"Scrypt\",\"SHA-512\",\"X16R\",\"ECC 256K1\",\"NeoScrypt\",\"Equihash\",\"XEVAN\",\"Quark\",\"CryptoNight Heavy X\",\"Lyra2Z\",\"Ethash\",\"SHA-256\",\"XEVAN\",\"Ethash\",\"CryptoNight\",\"Quark\",\"SkunkHash\",\"Quark\",\"Argon2\",\"Blake\",\"Blake\",\"SHA-256\",\"Equihash\",\"Exosis\",\"Scrypt\",\"Scrypt\",\"Equihash\",\"Quark\",\"Equihash\",\"Quark\",\"Scrypt\",\"QuBit\",\"X11\",\"Scrypt\",\"Equihash1927\",\"XEVAN\",\"SHA-256D\",\"X11\",\"SHA-256\",\"SHA-256\",\"X13\",\"SHA-256\",\"X11\",\"DPoS\",\"X11\",\"Scrypt\",\"X11\",\"Scrypt\",\"NeoScrypt\",\"Scrypt\",\"Blake\",\"Scrypt\",\"SHA-256\",\"X11\",\"CryptoNight\",\"Scrypt\",\"Scrypt\",\"SHA-256\",\"X11\",\"SHA-256\",\"Scrypt\",\"CryptoNight\",\"Scrypt\",\"SHA-256\",\"Scrypt\",\"Groestl\",\"X11\",\"Scrypt\",\"PoS\",\"Scrypt\",\"Scrypt\",\"X11\",\"SHA-256\",\"DPoS\",\"Scrypt\",\"Scrypt\",\"Scrypt\",\"NeoScrypt\",\"Scrypt\",\"SHA3-256\",\"Multiple\",\"X13\",\"Equihash+Scrypt\",\"Ethash\",\"Ethash\",\"SHA-256\",\"Leased POS\",\"PoS\",\"TRC10\",\"PoS\",\"SHA-256\",\"Scrypt\",\"CryptoNight\",\"Equihash\",\"Scrypt\"],\"CoinName\":[\"42 Coin\",\"404Coin\",\"EliteCoin\",\"Bitcoin\",\"Litecoin\",\"Dash\",\"Ethereum Classic\",\"ZCash\",\"Bitshares\",\"DigiByte\",\"BitcoinDark\",\"Bitstake\",\"PayCoin\",\"ProsperCoin\",\"KoboCoin\",\"Spreadcoin\",\"ACoin\",\"Aero Coin\",\"ApexCoin\",\"ArchCoin\",\"Argentum\",\"Aurora Coin\",\"BetaCoin\",\"MyriadCoin\",\"MoonCoin\",\"ZetaCoin\",\"SexCoin\",\"Quatloo\",\"QuarkCoin\",\"Riecoin\",\"Digitalcoin \",\"LimeCoinX\",\"BitBar\",\"BitMark\",\"CashCoin\",\"Catcoin\",\"CryptoBullion\",\"CannaCoin\",\"CinderCoin\",\"CoolCoin\",\"CryptCoin\",\"CasinoCoin\",\"Diamond\",\"Verge\",\"DarkCash\",\"DarkShibe\",\"DevCoin\",\"EarthCoin\",\"E-Gulden\",\"Elacoin\",\"Einsteinium\",\"Emerald\",\"Flappy Coin\",\"Fuel2Coin\",\"FIBRE\",\"FireRoosterCoin\",\"Franko\",\"FeatherCoin\",\"GrandCoin\",\"GlobalCoin\",\"GoldCoin\",\"GlyphCoin\",\"HoboNickels\",\"HunterCoin\",\"Infinite Coin\",\"IOCoin\",\"IXcoin\",\"JumBucks Coin\",\"JudgeCoin\",\"KrugerCoin\",\"LuckyCoin\",\"Litebar \",\"LitecoinDark\",\"LibrexCoin\",\"MaxCoin\",\"MegaCoin\",\"MediterraneanCoin\",\"MinCoin\",\"MazaCoin\",\"Nautilus Coin\",\"NoirBits\",\"NobleCoin\",\"Namecoin\",\"NyanCoin\",\"Orbitcoin\",\"PotCoin\",\"PhoenixCoin\",\"RipOffCoin\",\"RonPaulCoin\",\"StableCoin\",\"ShieldCoin\",\"SilkCoin\",\"SmartCoin\",\"SpainCoin\",\"SecureCoin\",\"SyncCoin\",\"SysCoin\",\"TeslaCoin\",\"TigerCoin\",\"TittieCoin\",\"TorCoin\",\"TerraCoin\",\"Umbrella\",\"UnbreakableCoin\",\"Unobtanium\",\"UnitaryStatus Dollar\",\"UltraCoin\",\"ViaCoin\",\"Vertcoin\",\"WorldCoin\",\"SocialXbotCoin\",\"X11 Coin\",\"JouleCoin\",\"XXXCoin\",\"ZCC Coin\",\"ByteCoin\",\"DigitalNote \",\"BurstCoin\",\"StorjCoin\",\"MonaCoin\",\"Neutron\",\"Sling Coin\",\"KryptCoin\",\"Gulden\",\"PesetaCoin\",\"Kore\",\"Wild Beast Coin\",\"Dnotes\",\"Flo\",\"MaieutiCoin\",\"Sativa Coin\",\"AeroMe\",\"ArtByte\",\"MasterTraderCoin\",\"BitCredit\",\"Folding Coin\",\"Ucoin\",\"OmniCron\",\"Vtorrent\",\"GreenCoin\",\"Cryptonite\",\"Gridmaster\",\"ConSpiracy Coin \",\"MasterCoin\",\"SoonCoin\",\"1Credit\",\"Quicksilver coin\",\"Nexus\",\"MarsCoin \",\"Crypto\",\"Anarchists Prime\",\"Droidz\",\"BowsCoin\",\"Song Coin\",\"BitZeny\",\"Diggits\",\"Expanse\",\"MapCoin\",\"Paycon\",\"Emercoin\",\"BlitzCoin\",\"EverGreenCoin\",\"MindCoin\",\"I0coin\",\"Decred\",\"DogeCoinDark\",\"Revolution VR\",\"HOdlcoin\",\"EDRCoin\",\"Hitcoin\",\"Gamecredits\",\"Dashcoin\",\"DubaiCoin\",\"BiosCrypto\",\"CarpeDiemCoin\",\"TrumpCoin\",\"BillaryCoin\",\"EthereumScrypt\",\"Phalanx\",\"SunShotCoin\",\"GPU Coin\",\"HempCoin\",\"Adzcoin\",\"VirtaCoin\",\"SoilCoin\",\"YoCoin\",\"Universal Currency\",\"AEON\",\"SibCoin\",\"EuropeCoin\",\"Anti Bitcoin\",\"ZeitCoin\",\"SwingCoin\",\"SafeExchangeCoin\",\"Nebuchadnezzar\",\"Francs\",\"BolivarCoin\",\"GIZMOcoin\",\"SecretCoin\",\"Ratecoin\",\"Digital Bullion Gold\",\"Revenu\",\"Clinton\",\"Clockcoin\",\"VIP Tokens\",\"OrlyCoin\",\"BitSend\",\"16BitCoin\",\"ChessCoin\",\"ReeCoin\",\"Omni\",\"Let it Ride\",\"PutinCoin\",\"iBankCoin\",\"Frankywillcoin\",\"MudraCoin\",\"PizzaCoin\",\"Lutetium Coin\",\"Komodo\",\"GoldBlocks\",\"WayCoin\",\"CarterCoin\",\"Karbo\",\"BitTokens\",\"ZayedCoin\",\"MustangCoin\",\"ZoneCoin\",\"Circuits of Value\",\"DopeCoin\",\"PROUD Money\",\"DollarCoin\",\"Swiscoin\",\"Shilling\",\"BuzzCoin\",\"Opair\",\"GBR Coin\",\"Halloween Coin\",\"FujiCoin\",\"ZCoin\",\"LeaCoin\",\"CoffeeCoin\",\"RoyalCoin\",\"Zurcoin\",\"GanjaCoin V2\",\"TeamUP\",\"LanaCoin\",\"Elementrem\",\"CashOut\",\"ZClassic\",\"ARK\",\"InsaneCoin\",\"LuckChain\",\"KiloCoin\",\"Hush\",\"ArtexCoin\",\"EmberCoin\",\"XenixCoin\",\"FreeCoin\",\"NPCcoin\",\"PLNCoin\",\"Icobid\",\"AquariusCoin\",\"Kurrent\",\"Creatio\",\"Eternity\",\"Eurocoin\",\"BitcoinFast\",\"Stakenet\",\"BitConnect Coin\",\"MoneyCoin\",\"Enigma\",\"Cannabis Industry Coin\",\"Russiacoin\",\"PandaCoin\",\"GameUnits\",\"GAKHcoin\",\"Allsafe\",\"LiteCreed\",\"OsmiumCoin\",\"Bikercoins\",\"NeptuneClassic\",\"HexxCoin\",\"GoldenBird\",\"Ride My Car\",\"Klingon Empire Darsek\",\"Internet of People\",\"KushCoin\",\"Eryllium\",\"MarxCoin\",\"Printerium\",\"PacCoin\",\"Impeach\",\"Solarflarecoin\",\"Citadel\",\"Zilbercoin\",\"FirstCoin\",\"CreativeChain\",\"BeaverCoin\",\"FindCoin\",\"VaultCoin\",\"Zero\",\"OpenChat\",\"Canada eCoin\",\"Zoin\",\"Musicoin\",\"BnrtxCoin\",\"RenosCoin\",\"DubaiCoin\",\"VirtacoinPlus\",\"TajCoin\",\"Impact\",\"EB3coin\",\"Universe\",\"Atmos\",\"HappyCoin\",\"Coinonat\",\"MacronCoin\",\"Condensate\",\"Independent Money System\",\"ArgusCoin\",\"LomoCoin\",\"Bitcoin Scrypt\",\"ProCurrency\",\"GoldReserve\",\"BenjiRolls\",\"ParallelCoin\",\"GrowthCoin\",\"ILCoin\",\"Phreak\",\"Degas Coin\",\"ZSEcoin\",\"HTML5 Coin\",\"Ultimate Secure Cash\",\"EquiTrader\",\"QTUM\",\"Quantum Resistant Ledger\",\"Espers\",\"Nano\",\"ChanCoin\",\"Dinastycoin\",\"Denarius\",\"DigitalPrice\",\"Virta Unique Coin\",\"Bitcoin Planet\",\"Unify\",\"BritCoin\",\"SocialCoin\",\"Octanox\",\"ArcticCoin\",\"DAS\",\"Linda\",\"LeviarCoin\",\"DeepOnion\",\"Bitcore\",\"gCn Coin\",\"SmartCash\",\"Signatum\",\"Onix\",\"Cream\",\"Bitcoin Cash\",\"Monoeci\",\"CampusCoin\",\"Draftcoin\",\"Vechain\",\"Sojourn Coin\",\"Stakecoin\",\"LiteBitcoin\",\"FrazCoin\",\"Kronecoin\",\"AdCoin\",\"Linx\",\"CoinonatX\",\"Ethereum Dark\",\"Sumokoin\",\"Obsidian\",\"Cardano\",\"Regalcoin\",\"BitcoinZ\",\"TrezarCoin\",\"Elements\",\"TerraNovaCoin\",\"VIVO Coin\",\"Rupee\",\"Bitcoin Gold\",\"WomenCoin\",\"Theresa May Coin\",\"NamoCoin\",\"LUXCoin\",\"Pirl\",\"Xios\",\"Bitcloud 2.0\",\"eBoost\",\"KekCoin\",\"BlackholeCoin\",\"AltCommunity Coin\",\"Pure\",\"Rupaya\",\"Infinity Economics\",\"Pura\",\"Innova\",\"Bitdeal\",\"Ellaism\",\"Sakuracoin\",\"GoByte\",\"Castle\",\"Magnet\",\"Lamden Tau\",\"Electra\",\"Bitcoin Diamond\",\"SHIELD\",\"Cash & Back Coin\",\"UltraNote\",\"BitCoal\",\"DaxxCoin\",\"Bulwark\",\"Kalkulus\",\"AC3\",\"CHIPS\",\"Lethean\",\"GermanCoin\",\"LiteCoin Ultra\",\"PopularCoin\",\"PhantomX\",\"HTML Coin\",\"Photon\",\"Sucre\",\"Fantasy Cash\",\"SparksPay\",\"Digiwage\",\"GunCoin\",\"IrishCoin\",\"Trollcoin\",\"Litecoin Plus\",\"Monkey Project\",\"Pioneer Coin\",\"UnitedBitcoin\",\"Interzone\",\"OP Coin\",\"Valorbit\",\"TokenPay\",\"1717 Masonic Commemorative Token\",\"My Big Coin\",\"TurtleCoin\",\"MUNcoin\",\"Unified Society USDEX\",\"Niobio Cash\",\"Bitcoin Private\",\"Skeincoin\",\"ShareChain\",\"Travelflex\",\"KREDS\",\"Tokyo Coin\",\"BiblePay\",\"LitecoinCash\",\"BitFlip\",\"LottoCoin\",\"LeafCoin\",\"Cerberus\",\"Bitcoin Hush\",\"Crypto Improvement Fund\",\"Stipend\",\"Poa Network\",\"Pushi\",\"Ellerium\",\"Velox\",\"Ontology\",\"Callisto Network\",\"Curium\",\"BitTube\",\"Dinero\",\"Poseidon\",\"Aidos Kuneen\",\"Bitspace\",\"Snowgem\",\"Briacoin\",\"Ignition\",\"Bitrolium\",\"Bitcoin Interest\",\"MedicCoin\",\"Alpenschillling\",\"Zelcash\",\"Bitcoin Green\",\"Deviant Coin\",\"Abjcoin\",\"Profit Hunters Coin\",\"Semux\",\"BitBlocks\",\"FuturoCoin\",\"Carebit\",\"Zealium\",\"Monero Classic\",\"Proton\",\"iDealCash\",\"Jumpcoin\",\"Infinex\",\"Bitcoin Incognito\",\"KEYCO\",\"HollyWoodCoin\",\"GINcoin\",\"PlatinCoin\",\"Loki\",\"Newton Coin\",\"Swisscoin\",\"Xt3ch\",\"MassGrid\",\"TheVig\",\"PluraCoin\",\"EmaratCoin\",\"Dekado\",\"Lynx\",\"Poseidon Quark\",\"BitcoinWSpectrum\",\"Muse\",\"Motion\",\"PlusOneCoin\",\"Axe\",\"Trivechain\",\"Dystem\",\"Giant\",\"Peony Coin\",\"SafeCoin\",\"Absolute Coin\",\"Vitae\",\"HexCoin\",\"TPCash\",\"Webchain\",\"Ryo\",\"MUSDcoin\",\"Urals Coin\",\"Qwertycoin\",\"ARENON\",\"EUNO\",\"MMOCoin\",\"Ketan\",\"NIX\",\"Safe Trade Coin\",\"Project Pai\",\"Mont Blanc\",\"XDNA\",\"PAXEX\",\"Azart\",\"Apollon\",\"ThunderStake\",\"Kcash\",\"Xchange\",\"Acute Angle Cloud\",\"Traid\",\"CrypticCoin\",\"Bettex coin\",\"ZestCoin\",\"X-CASH\",\"Actinium\",\"ETHER-1\",\"Bitcoin SV\",\"BitMoney\",\"Bitcoiin2Gen\",\"FREDEnergy\",\"Zenad\",\"C25 Coin\",\"HerbCoin\",\"Aquachain\",\"Universal Molecule\",\"Lithium\",\"Smart Bitcoin\",\"PirateCash\",\"Exosis\",\"Block-Logic\",\"Oduwa\",\"Beam\",\"Galilel\",\"Bithereum\",\"Crypto Sports\",\"Credit\",\"SLICE\",\"Dash Platinum\",\"Nasdacoin\",\"Vidulum\",\"Beetle Coin\",\"Titan Coin\",\"Award\",\"BlockStamp\",\"BLAST\",\"Bitcoin Rhodium\",\"GlobalToken\",\"Insane Coin\",\"ALAX\",\"The Freedom Coin\",\"LiteDoge\",\"Boolberry\",\"SolarCoin\",\"UFO Coin\",\"OrangeCoin\",\"BlakeCoin\",\"BitstarCoin\",\"NeosCoin\",\"PinkCoin\",\"FantomCoin \",\"Crypto Escudo\",\"AudioCoin\",\"IncaKoin\",\"Piggy Coin\",\"Crown Coin\",\"Genstake\",\"Quazar Coin\",\"SmileyCoin\",\"ParkByte\",\"XiaoMiCoin\",\"Groestlcoin\",\"CapriCoin\",\" ClubCoin\",\"Radium\",\"Bata\",\"Pakcoin\",\"Creditbit \",\"OKCash\",\"Lisk\",\"HiCoin\",\"WhiteCoin\",\"Dotcoin\",\"FriendshipCoin\",\"The Hempcoin\",\"Fiii\",\"JoinCoin\",\"Triangles Coin\",\"Vollar\",\"Reality Clash\",\"iOlite\",\"TigerCash\",\"Waves\",\"Particl\",\"BitTorrent\",\"Nxt\",\"ZEPHYR\",\"Gapcoin\",\"Beldex\",\"Horizen\",\"BitcoinPlus\"],\"ProofType\":[\"PoW/PoS\",\"PoW/PoS\",\"PoW/PoS\",\"PoW\",\"PoW\",\"PoW/PoS\",\"PoW\",\"PoW\",\"PoS\",\"PoW\",\"PoW/PoS\",\"PoW/PoS\",\"PoS\",\"PoW\",\"PoW/PoS\",\"PoW\",\"PoW\",\"PoS\",\"PoW/PoS\",\"PoS\",\"PoW\",\"PoW/PoS\",\"PoW\",\"PoW\",\"PoW\",\"PoW\",\"PoW\",\"PoW\",\"PoW\",\"PoW\",\"PoW\",\"PoW\",\"PoW/PoS\",\"PoW\",\"PoW/PoS\",\"PoW\",\"PoW/PoS\",\"PoW\",\"PoW/PoS\",\"PoS\",\"PoW\",\"PoC\",\"PoW/PoS\",\"PoW\",\"PoW/PoS\",\"PoW\",\"PoW\",\"PoW\",\"PoW\",\"PoW\",\"PoW\",\"PoW\",\"PoW\",\"PoS\",\"PoW/PoS\",\"PoW\",\"PoW\",\"PoW\",\"PoW\",\"PoW\",\"PoW\",\"PoW/PoS\",\"PoW/PoS\",\"PoW\",\"PoW\",\"PoW/PoS\",\"PoW\",\"PoW/PoS\",\"PoW/PoS\",\"PoW\",\"PoW\",\"PoW\",\"PoW\",\"PoW/PoS\",\"PoW/PoS\",\"PoW\",\"PoW\",\"PoW\",\"PoW/PoS\",\"PoS\",\"PoW\",\"PoW\",\"PoW\",\"PoW\",\"PoW/PoS\",\"PoW/PoS\",\"PoW/PoS\",\"PoW\",\"PoW\",\"PoW\",\"PoW/PoS\",\"PoW/PoS\",\"PoW\",\"PoW\",\"PoW\",\"PoW/PoS\",\"PoW\",\"PoS\",\"PoW\",\"PoS\",\"PoW/PoS\",\"PoW\",\"PoW\",\"PoW\",\"PoW\",\"PoW/PoS\",\"PoW/PoS\",\"PoW\",\"PoW\",\"PoW\",\"PoW/PoS\",\"PoW/PoS\",\"PoW\",\"PoW/PoS\",\"PoW/PoS\",\"PoW\",\"PoW\",\"PoC\",\"PoS\",\"PoW\",\"PoW/PoS\",\"PoW\",\"PoS\",\"PoW\",\"PoW\",\"PoW/PoS\",\"PoW\",\"PoS\",\"PoW\",\"PoS\",\"PoW/PoS\",\"PoW/PoS\",\"PoW\",\"PoW/PoS\",\"PoW\",\"PoW\",\"PoS\",\"PoW\",\"PoW/PoS\",\"PoW\",\"PoW\",\"PoW\",\"PoW\",\"PoW\",\"PoW\",\"PoW\",\"PoW\",\"PoW/nPoS\",\"PoW\",\"PoW\",\"PoW\",\"PoW/PoS\",\"PoW\",\"PoW\",\"PoW\",\"PoS\",\"PoW\",\"PoS\",\"PoW/PoS\",\"PoW/PoS\",\"PoS\",\"PoW/PoS\",\"PoW\",\"PoW\",\"PoW/PoS\",\"PoW\",\"PoW\",\"PoW\",\"PoW/PoS\",\"PoW/PoS\",\"PoW\",\"PoW\",\"PoW/PoS\",\"PoW/PoS\",\"PoW\",\"PoS\",\"PoW/PoS\",\"PoW/PoS\",\"PoW\",\"PoW\",\"PoS\",\"PoW\",\"PoW\",\"PoW\",\"PoW\",\"PoW\",\"PoW/PoS\",\"PoW\",\"PoW\",\"PoW/PoS\",\"PoW\",\"PoS\",\"PoW/PoS\",\"PoC\",\"PoS\",\"PoW\",\"PoW\",\"PoW/PoS\",\"PoW/PoS\",\"PoW/PoS\",\"PoS\",\"PoW/PoS\",\"PoW\",\"PoW/PoS\",\"PoW/PoS\",\"PoW/PoS\",\"PoW/PoS\",\"PoW/PoS\",\"PoW/PoS\",\"PoW/PoS\",\"PoW\",\"PoS\",\"PoW/PoS\",\"PoW/PoS\",\"PoW/PoS\",\"PoS\",\"PoW\",\"PoS\",\"dPoW/PoW\",\"PoW/PoS\",\"PoS\",\"PoW/PoS\",\"PoW\",\"PoW/PoS\",\"PoW\",\"PoW/PoS\",\"PoW/PoS\",\"PoW\",\"PoW\",\"PoW/PoS\",\"PoW\",\"PoW/PoW\",\"PoW\",\"PoW/PoS\",\"PoS\",\"PoW\",\"PoW/PoS\",\"PoW\",\"PoW\",\"PoW\",\"PoS\",\"PoS\",\"PoW\",\"PoW/PoS\",\"PoS\",\"PoW/PoS\",\"PoW\",\"PoW\",\"PoW\",\"DPoS\",\"PoW/PoS\",\"PoW/PoS\",\"PoW\",\"PoW\",\"PoW\",\"PoW/PoS\",\"PoW/PoS\",\"PoS\",\"PoW/PoS\",\"PoW/PoS\",\"PoW/PoS\",\"PoW/PoS\",\"PoW\",\"PoS\",\"PoW/PoS\",\"PoW/PoS\",\"PoW/PoS\",\"TPoS\",\"PoW/PoS\",\"PoW/PoS\",\"PoW/PoS\",\"PoW\",\"PoW/PoS\",\"PoS\",\"PoW/PoS\",\"PoW/PoS\",\"PoS\",\"PoW/PoS\",\"PoW\",\"PoW\",\"PoW/PoS\",\"PoW\",\"PoW/PoS\",\"PoS\",\"PoW/PoS\",\"PoW/PoS\",\"PoW/PoS\",\"PoW/PoS\",\"PoW\",\"PoW/PoS\",\"PoW\",\"PoW/PoS\",\"PoW\",\"PoW\",\"PoS\",\"PoW/PoS \",\"PoW\",\"PoW\",\"PoS\",\"PoW\",\"PoW\",\"PoW/PoS\",\"PoW\",\"PoW\",\"PoW\",\"PoW\",\"PoS\",\"PoW\",\"PoW/PoS\",\"PoW/PoS\",\"PoW/PoS\",\"PoW\",\"PoS\",\"PoS\",\"PoW/PoS\",\"PoW\",\"PoS\",\"PoW/PoS\",\"PoW/PoS\",\"PoW/PoS\",\"PoW/PoS\",\"PoW\",\"PoS\",\"PoW/PoS\",\"PoW\",\"PoW\",\"PoS\",\"PoW\",\"PoS\",\"PoW/PoS\",\"PoW/PoS\",\"PoW/PoS\",\"PoS\",\"PoW\",\"PoS\",\"PoW\",\"PoW/PoS\",\"PoW\",\"PoW\",\"PoW\",\"PoW/PoS\",\"PoW\",\"PoW/PoS\",\"PoW/PoS\",\"PoW\",\"PoW/PoS\",\"PoW\",\"PoW/PoS\",\"PoW\",\"PoW\",\"PoW/PoS\",\"PoW\",\"PoW/PoS\",\"PoW\",\"PoW\",\"PoW\",\"PoS\",\"PoW\",\"PoW/PoS\",\"PoW\",\"PoW/PoS\",\"PoW\",\"PoS\",\"Proof of Authority\",\"PoW\",\"PoS\",\"PoW\",\"PoW\",\"PoW\",\"PoW\",\"PoW\",\"PoW/PoS\",\"PoW/PoS\",\"PoW\",\"PoS\",\"PoS\",\"PoW/PoS\",\"PoW\",\"PoW/PoS\",\"PoW\",\"PoW/PoS\",\"PoW\",\"PoS\",\"PoW\",\"PoW/PoS\",\"PoW/PoS\",\"PoW/PoS\",\"PoW/PoS\",\"PoW\",\"PoW/PoS\",\"PoW/PoS\",\"PoW\",\"PoS\",\"PoW/PoS\",\"PoW/PoS\",\"PoW/PoS\",\"PoS\",\"PoS\",\"PoW\",\"PoW\",\"PoW\",\"PoW\",\"PoW\",\"PoW\",\"DPoS\",\"PoW/PoS\",\"DPoS\",\"PoW/PoS\",\"PoW/PoS\",\"PoW\",\"PoW/PoS\",\"PoW\",\"PoW\",\"PoW\",\"PoS\",\"PoS\",\"PoW\",\"PoW\",\"PoW\",\"PoW/PoS\",\"PoW/PoS\",\"PoW\",\"PoW/PoS\",\"PoW/PoS\",\"PoW\",\"PoW\",\"PoW/PoS\",\"PoW\",\"PoS\",\"PoW\",\"PoW\",\"PoW/PoS\",\"PoW/PoS\",\"PoS\",\"PoW\",\"PoW\",\"PoW\",\"PoW/PoS\",\"PoW/PoS\",\"PoS\",\"PoS\",\"PoW and PoS\",\"PoW\",\"PoW\",\"PoW/PoS\",\"PoW\",\"PoW\",\"PoW\",\"PoW\",\"PoW\",\"PoW\",\"PoS\",\"POBh\",\"PoW + Hive\",\"PoW\",\"PoW\",\"PoW\",\"PoW\",\"PoW\",\"PoW\",\"PoW/PoS\",\"PoA\",\"PoW/PoS\",\"PoW/PoS\",\"PoS\",\"PoS\",\"PoW\",\"PoW\",\"PoW\",\"PoW\",\"PoW\",\"PoW\",\"PoW/PoS\",\"PoW\",\"PoW/PoS\",\"PoW/PoS\",\"PoW\",\"PoW\",\"PoS\",\"PoW\",\"PoW/PoS\",\"PoS\",\"PoS\",\"PoW/PoS\",\"PoW/PoS\",\"DPoS\",\"PoW/PoS\",\"PoW\",\"PoW/PoS\",\"PoS\",\"PoW\",\"PoS\",\"PoW/PoS\",\"PoW\",\"PoW\",\"PoS/PoW\",\"PoW\",\"PoS\",\"PoW\",\"PoW\",\"PoW\",\"PoW\",\"PoW/PoS\",\"PoS\",\"PoW\",\"PoW/PoS\",\"PoW\",\"PoW/PoS\",\"PoS\",\"HPoW\",\"PoS\",\"PoS\",\"PoS\",\"PoW\",\"PoW\",\"PoW\",\"PoW/PoS\",\"PoS\",\"PoW/PoS\",\"PoS\",\"PoW/PoS\",\"PoW/PoS\",\"PoS\",\"PoW\",\"PoW/PoS\",\"PoW\",\"PoW\",\"PoW/PoS\",\"PoW\",\"PoW\",\"PoS\",\"PoW/PoS\",\"PoS\",\"PoS\",\"PoW\",\"PoS\",\"PoW\",\"PoS\",\"PoW/PoS\",\"PoS\",\"PoW\",\"PoW/PoS\",\"PoW/PoS\",\"Zero-Knowledge Proof\",\"PoW\",\"DPOS\",\"PoW/PoS\",\"PoW\",\"PoS\",\"PoW\",\"PoW\",\"PoW\",\"PoW\",\"PoW\",\"Pos\",\"PoW\",\"PoW\",\"POS / MN\",\"PoW\",\"PoW/PoS\",\"PoW\",\"PoW\",\"PoW\",\"PoW\",\"PoS\",\"PoW\",\"PoW\",\"PoW/PoS\",\"PoW\",\"PoW/PoS\",\"PoW\",\"PoS\",\"PoW/PoS\",\"PoW\",\"PoS\",\"PoW/PoS\",\"PoW\",\"PoW/PoS\",\"PoW/PoS\",\"PoW/PoS\",\"PoW\",\"PoW\",\"PoW\",\"PoW\",\"PoW/PoS\",\"DPoS\",\"PoS\",\"PoW/PoS\",\"PoW\",\"PoW\",\"PoW\",\"PoW/PoS\",\"PoW\",\"PoW/PoS\",\"PoS\",\"PoW/PoS\",\"PoW\",\"PoW\",\"PoW/PoS\",\"PoW/PoS\",\"PoW/PoS\",\"PoW\",\"PoW/PoS\",\"PoW\",\"PoW\",\"PoW/PoS\",\"PoW/PoS\",\"PoW\",\"PoW/PoS\",\"PoW/PoS\",\"PoS\",\"PoW\",\"PoW\",\"Proof of Trust\",\"PoW/PoS\",\"DPoS\",\"PoS\",\"PoW/PoS\",\"PoW\",\"PoW/PoS\",\"PoW/PoS\",\"DPoC\",\"PoW\",\"PoW/PoS\",\"PoW\",\"PoW\",\"PoW\",\"PoS\",\"LPoS\",\"PoS\",\"DPoS\",\"PoS/LPoS\",\"DPoS\",\"PoW/PoS\",\"PoW\",\"PoW\",\"PoS\"],\"TotalCoinSupply\":{\"__ndarray__\":\"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\",\"dtype\":\"float64\",\"shape\":[637]},\"TotalCoinsMined\":{\"__ndarray__\":\"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\",\"dtype\":\"float64\",\"shape\":[637]},\"class\":{\"__ndarray__\":\"BAAAAAQAAAAEAAAAAAAAAAAAAAAEAAAAAwAAAAMAAAAAAAAAAAAAAAQAAAAEAAAAAAAAAAAAAAAEAAAABAAAAAAAAAAAAAAABAAAAAAAAAAAAAAABAAAAAAAAAAAAAAAAAAAAAAAAAAAAAAAAAAAAAAAAAADAAAAAAAAAAQAAAAEAAAAAAAAAAQAAAAAAAAABAAAAAAAAAAAAAAAAAAAAAQAAAAAAAAAAAAAAAAAAAAEAAAAAAAAAAAAAAAAAAAAAAAAAAAAAAAAAAAAAAAAAAAAAAAAAAAAAAAAAAAAAAAAAAAAAAAAAAAAAAAAAAAAAAAAAAQAAAAEAAAAAAAAAAAAAAAEAAAAAAAAAAQAAAAEAAAAAAAAAAAAAAAAAAAAAAAAAAQAAAAEAAAAAAAAAAMAAAAAAAAABAAAAAAAAAAAAAAAAAAAAAAAAAAAAAAAAAAAAAQAAAAEAAAAAAAAAAAAAAAAAAAABAAAAAQAAAAAAAAAAAAAAAAAAAAEAAAAAAAAAAMAAAAAAAAAAwAAAAQAAAAAAAAAAAAAAAAAAAAAAAAABAAAAAQAAAAAAAAAAwAAAAAAAAAEAAAABAAAAAAAAAAEAAAABAAAAAMAAAADAAAAAAAAAAMAAAAAAAAABAAAAAAAAAAAAAAAAAAAAAAAAAAEAAAAAAAAAAAAAAAAAAAAAAAAAAQAAAAEAAAAAAAAAAQAAAAAAAAAAAAAAAAAAAAAAAAABAAAAAAAAAAAAAAAAAAAAAQAAAAAAAAAAAAAAAAAAAAEAAAABAAAAAQAAAADAAAAAAAAAAQAAAAEAAAAAAAAAAAAAAAAAAAAAwAAAAAAAAAEAAAABAAAAAAAAAAEAAAABAAAAAAAAAADAAAAAAAAAAAAAAADAAAABAAAAAQAAAAAAAAAAwAAAAQAAAAEAAAAAAAAAAMAAAAEAAAABAAAAAAAAAAEAAAAAAAAAAAAAAAEAAAAAAAAAAMAAAAAAAAABAAAAAMAAAAEAAAABAAAAAAAAAAAAAAABAAAAAAAAAADAAAAAAAAAAQAAAAEAAAABAAAAAQAAAADAAAABAAAAAAAAAAEAAAAAAAAAAQAAAAEAAAAAAAAAAQAAAAEAAAAAAAAAAMAAAAEAAAABAAAAAQAAAAAAAAABAAAAAAAAAAEAAAABAAAAAAAAAAEAAAAAwAAAAQAAAAAAAAABAAAAAQAAAAAAAAAAAAAAAQAAAAAAAAABAAAAAAAAAAEAAAAAwAAAAAAAAAEAAAAAAAAAAAAAAAAAAAAAwAAAAAAAAAAAAAABAAAAAMAAAAEAAAAAwAAAAAAAAADAAAAAwAAAAQAAAAEAAAAAAAAAAMAAAAEAAAABAAAAAQAAAADAAAABAAAAAQAAAAEAAAABAAAAAQAAAADAAAABAAAAAQAAAAEAAAABAAAAAQAAAAEAAAABAAAAAMAAAAEAAAAAAAAAAQAAAAEAAAAAAAAAAQAAAAAAAAAAwAAAAQAAAADAAAABAAAAAMAAAAEAAAABAAAAAQAAAAEAAAABAAAAAQAAAAEAAAABAAAAAAAAAADAAAAAAAAAAQAAAADAAAAAAAAAAAAAAAEAAAAAwAAAAQAAAAAAAAAAwAAAAMAAAAEAAAAAAAAAAMAAAAEAAAAAwAAAAQAAAAAAAAAAAAAAAMAAAAEAAAAAAAAAAMAAAAEAAAABAAAAAQAAAAEAAAAAAAAAAAAAAAEAAAAAAAAAAAAAAAAAAAAAAAAAAMAAAAEAAAABAAAAAQAAAAAAAAAAAAAAAMAAAADAAAAAwAAAAMAAAADAAAAAwAAAAAAAAAEAAAAAAAAAAQAAAAAAAAABAAAAAAAAAAEAAAABAAAAAQAAAAEAAAAAwAAAAQAAAAEAAAAAAAAAAMAAAAAAAAABAAAAAQAAAAAAAAABAAAAAAAAAAAAAAABAAAAAAAAAADAAAAAAAAAAAAAAAAAAAAAAAAAAAAAAAEAAAABAAAAAMAAAAAAAAAAwAAAAQAAAADAAAAAAAAAAQAAAAEAAAAAAAAAAMAAAADAAAABAAAAAQAAAAAAAAAAAAAAAMAAAAEAAAABAAAAAAAAAADAAAABAAAAAQAAAAEAAAAAAAAAAAAAAAEAAAAAAAAAAAAAAADAAAAAAAAAAAAAAADAAAABAAAAAMAAAAAAAAABAAAAAAAAAAEAAAAAwAAAAMAAAADAAAAAwAAAAAAAAAEAAAAAAAAAAMAAAAEAAAABAAAAAAAAAAEAAAABAAAAAMAAAAEAAAABAAAAAAAAAAAAAAAAAAAAAAAAAAEAAAABAAAAAAAAAAEAAAAAAAAAAMAAAAEAAAAAQAAAAMAAAADAAAABAAAAAMAAAAAAAAABAAAAAMAAAADAAAAAAAAAAAAAAADAAAAAwAAAAAAAAADAAAAAAAAAAAAAAAAAAAAAAAAAAAAAAADAAAABAAAAAMAAAADAAAABAAAAAQAAAAAAAAAAAAAAAMAAAAEAAAAAwAAAAAAAAAAAAAAAwAAAAAAAAADAAAABAAAAAQAAAADAAAAAwAAAAAAAAAAAAAAAwAAAAMAAAADAAAABAAAAAQAAAADAAAABAAAAAQAAAAEAAAAAwAAAAMAAAAAAAAABAAAAAAAAAADAAAABAAAAAQAAAAAAAAAAAAAAAMAAAADAAAAAwAAAAQAAAAAAAAAAwAAAAQAAAADAAAABAAAAAAAAAADAAAAAAAAAAAAAAADAAAABAAAAAMAAAAEAAAABAAAAAAAAAAEAAAAAAAAAAQAAAAAAAAAAAAAAAAAAAAEAAAAAwAAAAMAAAAEAAAABAAAAAMAAAAAAAAABAAAAAAAAAADAAAAAwAAAAAAAAAAAAAAAAAAAAAAAAAAAAAABAAAAAQAAAAEAAAABAAAAAQAAAADAAAAAAAAAAMAAAAAAAAAAAAAAAMAAAAAAAAAAwAAAAAAAAAEAAAAAwAAAAMAAAADAAAAAAAAAAQAAAADAAAAAwAAAAMAAAAAAAAAAwAAAAMAAAAAAAAABAAAAAMAAAAEAAAAAwAAAAAAAAAEAAAAAAAAAAAAAAAEAAAAAwAAAAQAAAAEAAAABAAAAAAAAAAAAAAABAAAAAAAAAAEAAAAAwAAAAAAAAAEAAAABAAAAAAAAAAAAAAABAAAAAMAAAAEAAAAAAAAAAQAAAADAAAAAAAAAAQAAAAEAAAABAAAAAAAAAAEAAAAAwAAAAAAAAAEAAAABAAAAAMAAAAEAAAABAAAAAMAAAAAAAAAAAAAAAQAAAAEAAAAAwAAAAAAAAAEAAAAAAAAAAAAAAAEAAAAAwAAAAAAAAAEAAAAAwAAAAMAAAADAAAAAAAAAAMAAAADAAAAAgAAAAAAAAADAAAABAAAAAMAAAADAAAAAAAAAA==\",\"dtype\":\"int32\",\"shape\":[637]}},\"selected\":{\"id\":\"1691\"},\"selection_policy\":{\"id\":\"1725\"}},\"id\":\"1690\",\"type\":\"ColumnDataSource\"},{\"attributes\":{},\"id\":\"1725\",\"type\":\"UnionRenderers\"},{\"attributes\":{},\"id\":\"1713\",\"type\":\"NumberEditor\"},{\"attributes\":{\"source\":{\"id\":\"1690\"}},\"id\":\"1723\",\"type\":\"CDSView\"},{\"attributes\":{},\"id\":\"1703\",\"type\":\"StringEditor\"},{\"attributes\":{\"format\":\"0,0.0[00000]\"},\"id\":\"1712\",\"type\":\"NumberFormatter\"},{\"attributes\":{\"children\":[{\"id\":\"1689\"},{\"id\":\"1722\"},{\"id\":\"1726\"}],\"margin\":[0,0,0,0],\"name\":\"Row03064\",\"tags\":[\"embedded\"]},\"id\":\"1688\",\"type\":\"Row\"},{\"attributes\":{\"editor\":{\"id\":\"1703\"},\"field\":\"ProofType\",\"formatter\":{\"id\":\"1702\"},\"title\":\"ProofType\"},\"id\":\"1704\",\"type\":\"TableColumn\"},{\"attributes\":{\"columns\":[{\"id\":\"1694\"},{\"id\":\"1699\"},{\"id\":\"1704\"},{\"id\":\"1709\"},{\"id\":\"1714\"},{\"id\":\"1719\"}],\"height\":300,\"reorderable\":false,\"source\":{\"id\":\"1690\"},\"view\":{\"id\":\"1723\"},\"width\":1000},\"id\":\"1722\",\"type\":\"DataTable\"},{\"attributes\":{},\"id\":\"1692\",\"type\":\"StringFormatter\"},{\"attributes\":{\"format\":\"0,0.0[00000]\"},\"id\":\"1707\",\"type\":\"NumberFormatter\"}],\"root_ids\":[\"1688\"]},\"title\":\"Bokeh Application\",\"version\":\"2.0.1\"}};\n",
       "  var render_items = [{\"docid\":\"009d8024-65b8-48bc-b4ff-00f880c36176\",\"root_ids\":[\"1688\"],\"roots\":{\"1688\":\"749c4a38-551c-4494-9b7f-39a0c60347f1\"}}];\n",
       "  root.Bokeh.embed.embed_items_notebook(docs_json, render_items);\n",
       "  }\n",
       "if (root.Bokeh !== undefined) {\n",
       "    embed_document(root);\n",
       "  } else {\n",
       "    var attempts = 0;\n",
       "    var timer = setInterval(function(root) {\n",
       "      if (root.Bokeh !== undefined) {\n",
       "        clearInterval(timer);\n",
       "        embed_document(root);\n",
       "      } else if (document.readyState == \"complete\") {\n",
       "        attempts++;\n",
       "        if (attempts > 100) {\n",
       "          clearInterval(timer);\n",
       "          console.log(\"Bokeh: ERROR: Unable to run BokehJS code because BokehJS library is missing\");\n",
       "        }\n",
       "      }\n",
       "    }, 10, root)\n",
       "  }\n",
       "})(window);</script>"
      ],
      "text/plain": [
       ":Table   [CoinName,Algorithm,ProofType,TotalCoinSupply,TotalCoinsMined,class]"
      ]
     },
     "execution_count": 62,
     "metadata": {
      "application/vnd.holoviews_exec.v0+json": {
       "id": "1688"
      }
     },
     "output_type": "execute_result"
    }
   ],
   "source": [
    "#Create hvplot table\n",
    "clustered_df.hvplot.table(columns=['CoinName','Algorithm','ProofType','TotalCoinSupply','TotalCoinsMined','class'],width=1000)"
   ]
  },
  {
   "cell_type": "code",
   "execution_count": 82,
   "metadata": {},
   "outputs": [],
   "source": [
    "#Drop Outlier\n",
    "clustered_df = clustered_df.drop(clustered_df['TotalCoinSupply'].idxmax())\n"
   ]
  },
  {
   "cell_type": "code",
   "execution_count": 83,
   "metadata": {},
   "outputs": [],
   "source": [
    "#Drop outlier\n",
    "clustered_df = clustered_df.drop(clustered_df['TotalCoinsMined'].idxmax())"
   ]
  },
  {
   "cell_type": "code",
   "execution_count": 84,
   "metadata": {},
   "outputs": [
    {
     "data": {},
     "metadata": {},
     "output_type": "display_data"
    },
    {
     "data": {
      "application/vnd.holoviews_exec.v0+json": "",
      "text/html": [
       "<div id='2436'>\n",
       "\n",
       "\n",
       "\n",
       "\n",
       "\n",
       "  <div class=\"bk-root\" id=\"a810a028-af00-46d2-8c36-509e0ad60df6\" data-root-id=\"2436\"></div>\n",
       "</div>\n",
       "<script type=\"application/javascript\">(function(root) {\n",
       "  function embed_document(root) {\n",
       "  var docs_json = {\"73d21760-b0a7-4963-8341-387c5a21bcf4\":{\"roots\":{\"references\":[{\"attributes\":{},\"id\":\"2464\",\"type\":\"ResetTool\"},{\"attributes\":{\"end\":192209034800.94147,\"reset_end\":192209034800.94147,\"reset_start\":-14060183534.909204,\"start\":-14060183534.909204,\"tags\":[[[\"TotalCoinsMined\",\"TotalCoinsMined\",null]]]},\"id\":\"2438\",\"type\":\"Range1d\"},{\"attributes\":{\"data_source\":{\"id\":\"2477\"},\"glyph\":{\"id\":\"2480\"},\"hover_glyph\":null,\"muted_glyph\":{\"id\":\"2482\"},\"nonselection_glyph\":{\"id\":\"2481\"},\"selection_glyph\":null,\"view\":{\"id\":\"2484\"}},\"id\":\"2483\",\"type\":\"GlyphRenderer\"},{\"attributes\":{\"fill_alpha\":{\"value\":0.1},\"fill_color\":{\"value\":\"#ff7e0e\"},\"line_alpha\":{\"value\":0.1},\"line_color\":{\"value\":\"#ff7e0e\"},\"size\":{\"units\":\"screen\",\"value\":5.477225575051661},\"x\":{\"field\":\"TotalCoinsMined\"},\"y\":{\"field\":\"TotalCoinSupply\"}},\"id\":\"2497\",\"type\":\"Scatter\"},{\"attributes\":{},\"id\":\"2462\",\"type\":\"WheelZoomTool\"},{\"attributes\":{\"click_policy\":\"mute\",\"items\":[{\"id\":\"2492\"},{\"id\":\"2509\"},{\"id\":\"2528\"}],\"location\":[0,0],\"title\":\"class\"},\"id\":\"2491\",\"type\":\"Legend\"},{\"attributes\":{\"fill_alpha\":{\"value\":0.1},\"fill_color\":{\"value\":\"#2ba02b\"},\"line_alpha\":{\"value\":0.1},\"line_color\":{\"value\":\"#2ba02b\"},\"size\":{\"units\":\"screen\",\"value\":5.477225575051661},\"x\":{\"field\":\"TotalCoinsMined\"},\"y\":{\"field\":\"TotalCoinSupply\"}},\"id\":\"2514\",\"type\":\"Scatter\"},{\"attributes\":{\"label\":{\"value\":\"3\"},\"renderers\":[{\"id\":\"2499\"}]},\"id\":\"2509\",\"type\":\"LegendItem\"},{\"attributes\":{\"data_source\":{\"id\":\"2510\"},\"glyph\":{\"id\":\"2513\"},\"hover_glyph\":null,\"muted_glyph\":{\"id\":\"2515\"},\"nonselection_glyph\":{\"id\":\"2514\"},\"selection_glyph\":null,\"view\":{\"id\":\"2517\"}},\"id\":\"2516\",\"type\":\"GlyphRenderer\"},{\"attributes\":{\"fill_alpha\":{\"value\":0.1},\"fill_color\":{\"value\":\"#1f77b3\"},\"line_alpha\":{\"value\":0.1},\"line_color\":{\"value\":\"#1f77b3\"},\"size\":{\"units\":\"screen\",\"value\":5.477225575051661},\"x\":{\"field\":\"TotalCoinsMined\"},\"y\":{\"field\":\"TotalCoinSupply\"}},\"id\":\"2481\",\"type\":\"Scatter\"},{\"attributes\":{\"fill_alpha\":{\"value\":0.2},\"fill_color\":{\"value\":\"#1f77b3\"},\"line_alpha\":{\"value\":0.2},\"line_color\":{\"value\":\"#1f77b3\"},\"size\":{\"units\":\"screen\",\"value\":5.477225575051661},\"x\":{\"field\":\"TotalCoinsMined\"},\"y\":{\"field\":\"TotalCoinSupply\"}},\"id\":\"2482\",\"type\":\"Scatter\"},{\"attributes\":{},\"id\":\"2450\",\"type\":\"LinearScale\"},{\"attributes\":{\"align\":null,\"below\":[{\"id\":\"2452\"}],\"center\":[{\"id\":\"2455\"},{\"id\":\"2459\"}],\"left\":[{\"id\":\"2456\"}],\"margin\":null,\"min_border_bottom\":10,\"min_border_left\":10,\"min_border_right\":10,\"min_border_top\":10,\"plot_height\":300,\"plot_width\":700,\"renderers\":[{\"id\":\"2483\"},{\"id\":\"2499\"},{\"id\":\"2516\"}],\"right\":[{\"id\":\"2491\"}],\"sizing_mode\":\"fixed\",\"title\":{\"id\":\"2444\"},\"toolbar\":{\"id\":\"2466\"},\"x_range\":{\"id\":\"2438\"},\"x_scale\":{\"id\":\"2448\"},\"y_range\":{\"id\":\"2439\"},\"y_scale\":{\"id\":\"2450\"}},\"id\":\"2443\",\"subtype\":\"Figure\",\"type\":\"Plot\"},{\"attributes\":{\"axis\":{\"id\":\"2456\"},\"dimension\":1,\"grid_line_color\":null,\"ticker\":null},\"id\":\"2459\",\"type\":\"Grid\"},{\"attributes\":{\"end\":1099999999995.8,\"reset_end\":1099999999995.8,\"reset_start\":-99999999953.8,\"start\":-99999999953.8,\"tags\":[[[\"TotalCoinSupply\",\"TotalCoinSupply\",null]]]},\"id\":\"2439\",\"type\":\"Range1d\"},{\"attributes\":{\"margin\":[5,5,5,5],\"name\":\"HSpacer05279\",\"sizing_mode\":\"stretch_width\"},\"id\":\"2625\",\"type\":\"Spacer\"},{\"attributes\":{\"fill_color\":{\"value\":\"#2ba02b\"},\"line_color\":{\"value\":\"#2ba02b\"},\"size\":{\"units\":\"screen\",\"value\":5.477225575051661},\"x\":{\"field\":\"TotalCoinsMined\"},\"y\":{\"field\":\"TotalCoinSupply\"}},\"id\":\"2513\",\"type\":\"Scatter\"},{\"attributes\":{\"source\":{\"id\":\"2477\"}},\"id\":\"2484\",\"type\":\"CDSView\"},{\"attributes\":{},\"id\":\"2511\",\"type\":\"Selection\"},{\"attributes\":{\"source\":{\"id\":\"2510\"}},\"id\":\"2517\",\"type\":\"CDSView\"},{\"attributes\":{},\"id\":\"2478\",\"type\":\"Selection\"},{\"attributes\":{},\"id\":\"2526\",\"type\":\"UnionRenderers\"},{\"attributes\":{\"text\":\"\",\"text_color\":{\"value\":\"black\"},\"text_font_size\":{\"value\":\"12pt\"}},\"id\":\"2444\",\"type\":\"Title\"},{\"attributes\":{\"source\":{\"id\":\"2493\"}},\"id\":\"2500\",\"type\":\"CDSView\"},{\"attributes\":{\"label\":{\"value\":\"4\"},\"renderers\":[{\"id\":\"2516\"}]},\"id\":\"2528\",\"type\":\"LegendItem\"},{\"attributes\":{\"children\":[{\"id\":\"2437\"},{\"id\":\"2443\"},{\"id\":\"2625\"}],\"margin\":[0,0,0,0],\"name\":\"Row05274\",\"tags\":[\"embedded\"]},\"id\":\"2436\",\"type\":\"Row\"},{\"attributes\":{\"axis_label\":\"TotalCoinsMined\",\"bounds\":\"auto\",\"formatter\":{\"id\":\"2474\"},\"major_label_orientation\":\"horizontal\",\"ticker\":{\"id\":\"2453\"}},\"id\":\"2452\",\"type\":\"LinearAxis\"},{\"attributes\":{},\"id\":\"2460\",\"type\":\"SaveTool\"},{\"attributes\":{},\"id\":\"2448\",\"type\":\"LinearScale\"},{\"attributes\":{\"fill_alpha\":{\"value\":0.2},\"fill_color\":{\"value\":\"#2ba02b\"},\"line_alpha\":{\"value\":0.2},\"line_color\":{\"value\":\"#2ba02b\"},\"size\":{\"units\":\"screen\",\"value\":5.477225575051661},\"x\":{\"field\":\"TotalCoinsMined\"},\"y\":{\"field\":\"TotalCoinSupply\"}},\"id\":\"2515\",\"type\":\"Scatter\"},{\"attributes\":{},\"id\":\"2507\",\"type\":\"UnionRenderers\"},{\"attributes\":{\"margin\":[5,5,5,5],\"name\":\"HSpacer05278\",\"sizing_mode\":\"stretch_width\"},\"id\":\"2437\",\"type\":\"Spacer\"},{\"attributes\":{\"fill_color\":{\"value\":\"#1f77b3\"},\"line_color\":{\"value\":\"#1f77b3\"},\"size\":{\"units\":\"screen\",\"value\":5.477225575051661},\"x\":{\"field\":\"TotalCoinsMined\"},\"y\":{\"field\":\"TotalCoinSupply\"}},\"id\":\"2480\",\"type\":\"Scatter\"},{\"attributes\":{\"fill_color\":{\"value\":\"#ff7e0e\"},\"line_color\":{\"value\":\"#ff7e0e\"},\"size\":{\"units\":\"screen\",\"value\":5.477225575051661},\"x\":{\"field\":\"TotalCoinsMined\"},\"y\":{\"field\":\"TotalCoinSupply\"}},\"id\":\"2496\",\"type\":\"Scatter\"},{\"attributes\":{\"bottom_units\":\"screen\",\"fill_alpha\":0.5,\"fill_color\":\"lightgrey\",\"left_units\":\"screen\",\"level\":\"overlay\",\"line_alpha\":1.0,\"line_color\":\"black\",\"line_dash\":[4,4],\"line_width\":2,\"render_mode\":\"css\",\"right_units\":\"screen\",\"top_units\":\"screen\"},\"id\":\"2465\",\"type\":\"BoxAnnotation\"},{\"attributes\":{},\"id\":\"2461\",\"type\":\"PanTool\"},{\"attributes\":{\"active_drag\":\"auto\",\"active_inspect\":\"auto\",\"active_multi\":null,\"active_scroll\":\"auto\",\"active_tap\":\"auto\",\"tools\":[{\"id\":\"2440\"},{\"id\":\"2460\"},{\"id\":\"2461\"},{\"id\":\"2462\"},{\"id\":\"2463\"},{\"id\":\"2464\"}]},\"id\":\"2466\",\"type\":\"Toolbar\"},{\"attributes\":{},\"id\":\"2476\",\"type\":\"BasicTickFormatter\"},{\"attributes\":{\"data_source\":{\"id\":\"2493\"},\"glyph\":{\"id\":\"2496\"},\"hover_glyph\":null,\"muted_glyph\":{\"id\":\"2498\"},\"nonselection_glyph\":{\"id\":\"2497\"},\"selection_glyph\":null,\"view\":{\"id\":\"2500\"}},\"id\":\"2499\",\"type\":\"GlyphRenderer\"},{\"attributes\":{\"axis_label\":\"TotalCoinSupply\",\"bounds\":\"auto\",\"formatter\":{\"id\":\"2476\"},\"major_label_orientation\":\"horizontal\",\"ticker\":{\"id\":\"2457\"}},\"id\":\"2456\",\"type\":\"LinearAxis\"},{\"attributes\":{\"fill_alpha\":{\"value\":0.2},\"fill_color\":{\"value\":\"#ff7e0e\"},\"line_alpha\":{\"value\":0.2},\"line_color\":{\"value\":\"#ff7e0e\"},\"size\":{\"units\":\"screen\",\"value\":5.477225575051661},\"x\":{\"field\":\"TotalCoinsMined\"},\"y\":{\"field\":\"TotalCoinSupply\"}},\"id\":\"2498\",\"type\":\"Scatter\"},{\"attributes\":{},\"id\":\"2474\",\"type\":\"BasicTickFormatter\"},{\"attributes\":{\"data\":{\"CoinName\":[\"Valorbit\",\"Valorbit\",\"Valorbit\",\"Valorbit\",\"Valorbit\",\"Valorbit\",\"Valorbit\",\"Valorbit\",\"Valorbit\",\"Valorbit\",\"Valorbit\",\"Valorbit\",\"Valorbit\",\"Valorbit\",\"Valorbit\",\"Valorbit\",\"Valorbit\",\"Valorbit\",\"Valorbit\",\"Valorbit\",\"Valorbit\",\"Valorbit\",\"Valorbit\",\"Valorbit\",\"Valorbit\",\"Valorbit\",\"Valorbit\",\"Valorbit\",\"Valorbit\",\"Valorbit\",\"Valorbit\",\"Valorbit\",\"Valorbit\",\"Valorbit\",\"Valorbit\",\"Valorbit\",\"Valorbit\",\"Valorbit\",\"Valorbit\",\"Valorbit\",\"Valorbit\",\"Valorbit\",\"Valorbit\",\"Valorbit\",\"Valorbit\",\"Valorbit\",\"Valorbit\",\"Valorbit\",\"Valorbit\",\"Valorbit\",\"Valorbit\",\"Valorbit\",\"Valorbit\",\"Valorbit\",\"Valorbit\",\"Valorbit\",\"Valorbit\",\"Valorbit\",\"Valorbit\",\"Valorbit\",\"Valorbit\",\"Valorbit\",\"Valorbit\",\"Valorbit\",\"Valorbit\",\"Valorbit\",\"Valorbit\",\"Valorbit\",\"Valorbit\",\"Valorbit\",\"Valorbit\",\"Valorbit\",\"Valorbit\",\"Valorbit\",\"Valorbit\",\"Valorbit\",\"Valorbit\",\"Valorbit\",\"Valorbit\",\"Valorbit\",\"Valorbit\",\"Valorbit\",\"Valorbit\",\"Valorbit\",\"Valorbit\",\"Valorbit\",\"Valorbit\",\"Valorbit\",\"Valorbit\",\"Valorbit\",\"Valorbit\",\"Valorbit\",\"Valorbit\",\"Valorbit\",\"Valorbit\",\"Valorbit\",\"Valorbit\",\"Valorbit\",\"Valorbit\",\"Valorbit\",\"Valorbit\",\"Valorbit\",\"Valorbit\",\"Valorbit\",\"Valorbit\",\"Valorbit\",\"Valorbit\",\"Valorbit\",\"Valorbit\",\"Valorbit\",\"Valorbit\",\"Valorbit\",\"Valorbit\",\"Valorbit\",\"Valorbit\",\"Valorbit\",\"Valorbit\",\"Valorbit\",\"Valorbit\",\"Valorbit\",\"Valorbit\",\"Valorbit\",\"Valorbit\",\"Valorbit\",\"Valorbit\",\"Valorbit\",\"Valorbit\",\"Valorbit\",\"Valorbit\",\"Valorbit\",\"Valorbit\",\"Valorbit\",\"Valorbit\",\"Valorbit\",\"Valorbit\",\"Valorbit\",\"Valorbit\",\"Valorbit\",\"Valorbit\",\"Valorbit\",\"Valorbit\",\"Valorbit\",\"Valorbit\",\"Valorbit\",\"Valorbit\",\"Valorbit\",\"Valorbit\",\"Valorbit\",\"Valorbit\",\"Valorbit\",\"Valorbit\",\"Valorbit\",\"Valorbit\",\"Valorbit\",\"Valorbit\",\"Valorbit\",\"Valorbit\",\"Valorbit\",\"Valorbit\",\"Valorbit\",\"Valorbit\",\"Valorbit\",\"Valorbit\",\"Valorbit\",\"Valorbit\",\"Valorbit\",\"Valorbit\",\"Valorbit\",\"Valorbit\",\"Valorbit\",\"Valorbit\",\"Valorbit\",\"Valorbit\",\"Valorbit\",\"Valorbit\",\"Valorbit\",\"Valorbit\",\"Valorbit\",\"Valorbit\",\"Valorbit\",\"Valorbit\",\"Valorbit\",\"Valorbit\",\"Valorbit\",\"Valorbit\",\"Valorbit\",\"Valorbit\",\"Valorbit\",\"Valorbit\",\"Valorbit\",\"Valorbit\",\"Valorbit\",\"Valorbit\",\"Valorbit\",\"Valorbit\",\"Valorbit\",\"Valorbit\",\"Valorbit\",\"Valorbit\",\"Valorbit\",\"Valorbit\",\"Valorbit\",\"Valorbit\",\"Valorbit\",\"Valorbit\",\"Valorbit\",\"Valorbit\",\"Valorbit\",\"Valorbit\",\"Valorbit\",\"Valorbit\",\"Valorbit\",\"Valorbit\",\"Valorbit\",\"Valorbit\",\"Valorbit\",\"Valorbit\",\"Valorbit\",\"Valorbit\",\"Valorbit\",\"Valorbit\",\"Valorbit\",\"Valorbit\",\"Valorbit\",\"Valorbit\",\"Valorbit\",\"Valorbit\",\"Valorbit\",\"Valorbit\",\"Valorbit\",\"Valorbit\",\"Valorbit\",\"Valorbit\",\"Valorbit\",\"Valorbit\",\"Valorbit\",\"Valorbit\",\"Valorbit\",\"Valorbit\"],\"TotalCoinSupply\":{\"__ndarray__\":\"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\",\"dtype\":\"float64\",\"shape\":[239]},\"TotalCoinsMined\":{\"__ndarray__\":\"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\",\"dtype\":\"float64\",\"shape\":[239]},\"class\":[4,4,4,4,4,4,4,4,4,4,4,4,4,4,4,4,4,4,4,4,4,4,4,4,4,4,4,4,4,4,4,4,4,4,4,4,4,4,4,4,4,4,4,4,4,4,4,4,4,4,4,4,4,4,4,4,4,4,4,4,4,4,4,4,4,4,4,4,4,4,4,4,4,4,4,4,4,4,4,4,4,4,4,4,4,4,4,4,4,4,4,4,4,4,4,4,4,4,4,4,4,4,4,4,4,4,4,4,4,4,4,4,4,4,4,4,4,4,4,4,4,4,4,4,4,4,4,4,4,4,4,4,4,4,4,4,4,4,4,4,4,4,4,4,4,4,4,4,4,4,4,4,4,4,4,4,4,4,4,4,4,4,4,4,4,4,4,4,4,4,4,4,4,4,4,4,4,4,4,4,4,4,4,4,4,4,4,4,4,4,4,4,4,4,4,4,4,4,4,4,4,4,4,4,4,4,4,4,4,4,4,4,4,4,4,4,4,4,4,4,4,4,4,4,4,4,4,4,4,4,4,4,4,4,4,4,4,4,4]},\"selected\":{\"id\":\"2511\"},\"selection_policy\":{\"id\":\"2539\"}},\"id\":\"2510\",\"type\":\"ColumnDataSource\"},{\"attributes\":{},\"id\":\"2457\",\"type\":\"BasicTicker\"},{\"attributes\":{\"label\":{\"value\":\"0\"},\"renderers\":[{\"id\":\"2483\"}]},\"id\":\"2492\",\"type\":\"LegendItem\"},{\"attributes\":{},\"id\":\"2539\",\"type\":\"UnionRenderers\"},{\"attributes\":{\"data\":{\"CoinName\":[\"Valorbit\",\"Valorbit\",\"Valorbit\",\"Valorbit\",\"Valorbit\",\"Valorbit\",\"Valorbit\",\"Valorbit\",\"Valorbit\",\"Valorbit\",\"Valorbit\",\"Valorbit\",\"Valorbit\",\"Valorbit\",\"Valorbit\",\"Valorbit\",\"Valorbit\",\"Valorbit\",\"Valorbit\",\"Valorbit\",\"Valorbit\",\"Valorbit\",\"Valorbit\",\"Valorbit\",\"Valorbit\",\"Valorbit\",\"Valorbit\",\"Valorbit\",\"Valorbit\",\"Valorbit\",\"Valorbit\",\"Valorbit\",\"Valorbit\",\"Valorbit\",\"Valorbit\",\"Valorbit\",\"Valorbit\",\"Valorbit\",\"Valorbit\",\"Valorbit\",\"Valorbit\",\"Valorbit\",\"Valorbit\",\"Valorbit\",\"Valorbit\",\"Valorbit\",\"Valorbit\",\"Valorbit\",\"Valorbit\",\"Valorbit\",\"Valorbit\",\"Valorbit\",\"Valorbit\",\"Valorbit\",\"Valorbit\",\"Valorbit\",\"Valorbit\",\"Valorbit\",\"Valorbit\",\"Valorbit\",\"Valorbit\",\"Valorbit\",\"Valorbit\",\"Valorbit\",\"Valorbit\",\"Valorbit\",\"Valorbit\",\"Valorbit\",\"Valorbit\",\"Valorbit\",\"Valorbit\",\"Valorbit\",\"Valorbit\",\"Valorbit\",\"Valorbit\",\"Valorbit\",\"Valorbit\",\"Valorbit\",\"Valorbit\",\"Valorbit\",\"Valorbit\",\"Valorbit\",\"Valorbit\",\"Valorbit\",\"Valorbit\",\"Valorbit\",\"Valorbit\",\"Valorbit\",\"Valorbit\",\"Valorbit\",\"Valorbit\",\"Valorbit\",\"Valorbit\",\"Valorbit\",\"Valorbit\",\"Valorbit\",\"Valorbit\",\"Valorbit\",\"Valorbit\",\"Valorbit\",\"Valorbit\",\"Valorbit\",\"Valorbit\",\"Valorbit\",\"Valorbit\",\"Valorbit\",\"Valorbit\",\"Valorbit\",\"Valorbit\",\"Valorbit\",\"Valorbit\",\"Valorbit\",\"Valorbit\",\"Valorbit\",\"Valorbit\",\"Valorbit\",\"Valorbit\",\"Valorbit\",\"Valorbit\",\"Valorbit\",\"Valorbit\",\"Valorbit\",\"Valorbit\",\"Valorbit\",\"Valorbit\",\"Valorbit\",\"Valorbit\",\"Valorbit\",\"Valorbit\",\"Valorbit\",\"Valorbit\",\"Valorbit\",\"Valorbit\",\"Valorbit\",\"Valorbit\",\"Valorbit\",\"Valorbit\",\"Valorbit\",\"Valorbit\",\"Valorbit\",\"Valorbit\",\"Valorbit\",\"Valorbit\",\"Valorbit\",\"Valorbit\",\"Valorbit\",\"Valorbit\",\"Valorbit\",\"Valorbit\",\"Valorbit\",\"Valorbit\",\"Valorbit\",\"Valorbit\",\"Valorbit\",\"Valorbit\",\"Valorbit\",\"Valorbit\",\"Valorbit\",\"Valorbit\",\"Valorbit\",\"Valorbit\",\"Valorbit\",\"Valorbit\",\"Valorbit\",\"Valorbit\",\"Valorbit\",\"Valorbit\",\"Valorbit\",\"Valorbit\",\"Valorbit\",\"Valorbit\",\"Valorbit\",\"Valorbit\",\"Valorbit\",\"Valorbit\",\"Valorbit\",\"Valorbit\",\"Valorbit\",\"Valorbit\",\"Valorbit\",\"Valorbit\",\"Valorbit\",\"Valorbit\",\"Valorbit\",\"Valorbit\",\"Valorbit\",\"Valorbit\",\"Valorbit\",\"Valorbit\",\"Valorbit\",\"Valorbit\",\"Valorbit\",\"Valorbit\",\"Valorbit\",\"Valorbit\",\"Valorbit\",\"Valorbit\",\"Valorbit\",\"Valorbit\",\"Valorbit\",\"Valorbit\",\"Valorbit\",\"Valorbit\",\"Valorbit\",\"Valorbit\",\"Valorbit\",\"Valorbit\",\"Valorbit\",\"Valorbit\",\"Valorbit\",\"Valorbit\",\"Valorbit\",\"Valorbit\",\"Valorbit\",\"Valorbit\",\"Valorbit\",\"Valorbit\",\"Valorbit\",\"Valorbit\",\"Valorbit\",\"Valorbit\",\"Valorbit\",\"Valorbit\",\"Valorbit\",\"Valorbit\",\"Valorbit\",\"Valorbit\",\"Valorbit\",\"Valorbit\",\"Valorbit\",\"Valorbit\",\"Valorbit\",\"Valorbit\",\"Valorbit\",\"Valorbit\",\"Valorbit\",\"Valorbit\",\"Valorbit\",\"Valorbit\",\"Valorbit\",\"Valorbit\",\"Valorbit\",\"Valorbit\",\"Valorbit\",\"Valorbit\",\"Valorbit\",\"Valorbit\",\"Valorbit\",\"Valorbit\",\"Valorbit\",\"Valorbit\",\"Valorbit\",\"Valorbit\",\"Valorbit\",\"Valorbit\",\"Valorbit\",\"Valorbit\"],\"TotalCoinSupply\":{\"__ndarray__\":\"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\",\"dtype\":\"float64\",\"shape\":[257]},\"TotalCoinsMined\":{\"__ndarray__\":\"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\",\"dtype\":\"float64\",\"shape\":[257]},\"class\":[0,0,0,0,0,0,0,0,0,0,0,0,0,0,0,0,0,0,0,0,0,0,0,0,0,0,0,0,0,0,0,0,0,0,0,0,0,0,0,0,0,0,0,0,0,0,0,0,0,0,0,0,0,0,0,0,0,0,0,0,0,0,0,0,0,0,0,0,0,0,0,0,0,0,0,0,0,0,0,0,0,0,0,0,0,0,0,0,0,0,0,0,0,0,0,0,0,0,0,0,0,0,0,0,0,0,0,0,0,0,0,0,0,0,0,0,0,0,0,0,0,0,0,0,0,0,0,0,0,0,0,0,0,0,0,0,0,0,0,0,0,0,0,0,0,0,0,0,0,0,0,0,0,0,0,0,0,0,0,0,0,0,0,0,0,0,0,0,0,0,0,0,0,0,0,0,0,0,0,0,0,0,0,0,0,0,0,0,0,0,0,0,0,0,0,0,0,0,0,0,0,0,0,0,0,0,0,0,0,0,0,0,0,0,0,0,0,0,0,0,0,0,0,0,0,0,0,0,0,0,0,0,0,0,0,0,0,0,0,0,0,0,0,0,0,0,0,0,0,0,0,0,0,0,0,0,0]},\"selected\":{\"id\":\"2478\"},\"selection_policy\":{\"id\":\"2507\"}},\"id\":\"2477\",\"type\":\"ColumnDataSource\"},{\"attributes\":{\"overlay\":{\"id\":\"2465\"}},\"id\":\"2463\",\"type\":\"BoxZoomTool\"},{\"attributes\":{\"callback\":null,\"renderers\":[{\"id\":\"2483\"},{\"id\":\"2499\"},{\"id\":\"2516\"}],\"tags\":[\"hv_created\"],\"tooltips\":[[\"class\",\"@{class}\"],[\"TotalCoinsMined\",\"@{TotalCoinsMined}\"],[\"TotalCoinSupply\",\"@{TotalCoinSupply}\"],[\"CoinName\",\"@{CoinName}\"]]},\"id\":\"2440\",\"type\":\"HoverTool\"},{\"attributes\":{},\"id\":\"2494\",\"type\":\"Selection\"},{\"attributes\":{\"data\":{\"CoinName\":[\"Valorbit\",\"Valorbit\",\"Valorbit\",\"Valorbit\",\"Valorbit\",\"Valorbit\",\"Valorbit\",\"Valorbit\",\"Valorbit\",\"Valorbit\",\"Valorbit\",\"Valorbit\",\"Valorbit\",\"Valorbit\",\"Valorbit\",\"Valorbit\",\"Valorbit\",\"Valorbit\",\"Valorbit\",\"Valorbit\",\"Valorbit\",\"Valorbit\",\"Valorbit\",\"Valorbit\",\"Valorbit\",\"Valorbit\",\"Valorbit\",\"Valorbit\",\"Valorbit\",\"Valorbit\",\"Valorbit\",\"Valorbit\",\"Valorbit\",\"Valorbit\",\"Valorbit\",\"Valorbit\",\"Valorbit\",\"Valorbit\",\"Valorbit\",\"Valorbit\",\"Valorbit\",\"Valorbit\",\"Valorbit\",\"Valorbit\",\"Valorbit\",\"Valorbit\",\"Valorbit\",\"Valorbit\",\"Valorbit\",\"Valorbit\",\"Valorbit\",\"Valorbit\",\"Valorbit\",\"Valorbit\",\"Valorbit\",\"Valorbit\",\"Valorbit\",\"Valorbit\",\"Valorbit\",\"Valorbit\",\"Valorbit\",\"Valorbit\",\"Valorbit\",\"Valorbit\",\"Valorbit\",\"Valorbit\",\"Valorbit\",\"Valorbit\",\"Valorbit\",\"Valorbit\",\"Valorbit\",\"Valorbit\",\"Valorbit\",\"Valorbit\",\"Valorbit\",\"Valorbit\",\"Valorbit\",\"Valorbit\",\"Valorbit\",\"Valorbit\",\"Valorbit\",\"Valorbit\",\"Valorbit\",\"Valorbit\",\"Valorbit\",\"Valorbit\",\"Valorbit\",\"Valorbit\",\"Valorbit\",\"Valorbit\",\"Valorbit\",\"Valorbit\",\"Valorbit\",\"Valorbit\",\"Valorbit\",\"Valorbit\",\"Valorbit\",\"Valorbit\",\"Valorbit\",\"Valorbit\",\"Valorbit\",\"Valorbit\",\"Valorbit\",\"Valorbit\",\"Valorbit\",\"Valorbit\",\"Valorbit\",\"Valorbit\",\"Valorbit\",\"Valorbit\",\"Valorbit\",\"Valorbit\",\"Valorbit\",\"Valorbit\",\"Valorbit\",\"Valorbit\",\"Valorbit\",\"Valorbit\",\"Valorbit\",\"Valorbit\",\"Valorbit\",\"Valorbit\",\"Valorbit\",\"Valorbit\",\"Valorbit\",\"Valorbit\",\"Valorbit\",\"Valorbit\",\"Valorbit\",\"Valorbit\",\"Valorbit\",\"Valorbit\",\"Valorbit\",\"Valorbit\",\"Valorbit\",\"Valorbit\",\"Valorbit\",\"Valorbit\",\"Valorbit\"],\"TotalCoinSupply\":{\"__ndarray__\":\"AAAAALEIqUEAAAAA9AZ0QQAAAAD0BpRBAAAAAITXp0EAAAAAhNeXQQAAAODmIuFBAAAAAPQGlEEAgC/ijnlFQgAAACBfoAJCAAAAAGXNvUEAAABg5V6PQQAAANCJH3BBAAAAAPQGdEEAAADQkYqTQQAAAICZl3FBAAAAAGDjZkEAAAAAOJx8QQAAAAAwjHFBAAAAANASc0EAAAAAOJxsQQAAAAC28n9BAAAAANASY0EAAAAAmqSRQQAAANDMEoNBAAAAQOXwsUEAAAAw1v14QQAAAAD0BnRBAAAAAGXNnUEAAAAA9AZ0QQAAAACE14dBAAAAANASc0EAAAAA9AZ0QQAAAACE13dBAAAA4M8SY0EAAAAAhNeXQQAAAIDADaZBAAAAAAtrm0EAAAAAZDZwQQAAAAD0BnRBAAAA2jIdu0EAAACAIglBQQAAAABlmIFBAAAAuJFLmkEAAAAAhNe3QQAAAAA4nHxBAAAAAITXl0EAAAAAsQiZQQAAAOh2SCdCAAAA/0tItEEAAAAAOJx8QQAAAABlzd1BAAAAAMy/iUEAAAAgX6DyQQAAAOiGX41BAAAA4FgxlUEAAAAEa/QkQgAAAEjKjhNCAAAAAGDjdkEAAAAA9AZ0QR+Fa1kaoqJBAAAAAPQGdEEAAAAAdrCwQQAAAACE14dBAAAAAGXNvUEAAAASZcozQgAAAACE12dBAAAAIF+gAkIAAACQoW56QQAAAFZwyc1BAAAABGv0NEIAAAAAPO91QQAAAACE13dBAAAAAHGwOEEAAACilBptQgAAAAD0BrRBAAAAAPQGdEEAAAAAhNeXQQAAAMAqZNBBAAAAQBtf80EAAAAA9AZ0QQAAACDTcXJBAAAAAH4YrkEAAAAQ4jb4QQAAAABlzc1BAAAAAITXd0EAAAAA0AyUQQAAAAB2sJBBAAAAAFZEdUEAAAAAsQipQQAAAAD0BnRBAAAAABj7lEEAAAAAhNeXQQAAAADQEpNBAAAAADCMcUEAAAAABBB5QQAAAAOk4cFBAAAAAKPhoUEAAACYoGtFQgAAAAD0BqRBAAAAAGXNzUEAAACYoGs1QgAAAOCAPnFBAAAAAPQGdEEAAABguBPaQQAAAGCfBpVBAADAaKJ5RUIAAAAAsQipQQAAAICT3KRBAAAAAGXNzUEAAADA7E/8QQAAAOh2SDdCAAAAoPcQakEAAAAAhNeXQQAAAECwGf5BAAAAADzvhUEAAAAA9AaEQVyPwgUEEJlBAAAAAGAPeEEAAAAAsQiZQQAAAAD0BnRBAAAAAAVUr0EAAAAAh3R9QQAAAACE15dBAAAAAGXNzUEAAABguBP6QQAAAAAwjHFBAAAAgJmXcUEAAAAAsQiZQQAAAACIKmFBAAAAgFIQo0EAAAAgX6DyQQAAAEDdSt9BAAAAgIBad0EAAAAAZc3NQQAAAACE15dBAAAAgON3YEEAAAAAZc3dQQAAgORs3dRBAAAAAPQGdEE=\",\"dtype\":\"float64\",\"shape\":[139]},\"TotalCoinsMined\":{\"__ndarray__\":\"AAAAXO0Gm0EAAAAQBCpcQYxdIUlpoIdBMzMzh4dHg0EmvO6+tSKTQbGnnTavLNhBx3eI3spmiEEAAAd1nm1FQnEgpp2iuvlBAAAAwLhmiEEAAABAUjZqQQAAAMClBGRBZImz3Q7FY0EAAACgTtZlQQAAAAAAAAAAAAAAAAAAAAAAAAAAaMBVQQAAAAAAAAAAAAAAANASc0EAAAAAAAAAAPyTU4WrZoJBKodcLhjXXUErDC47qqaRQQAAACB6uqFBeHqlokP+cEEAAAAw1v14QQAAAID7aVVBAAAAkCHMmUEAAAAAAAAAAAAAAACE14dBAAAAANASc0EAAAAAwtktQQAAAADk2GFB6IGPcbKgPEEAAAAAAAAAAAcKvNAc7GRBAAAAAAAAAAAceJZ5bWdaQQAAANjFr3FBAAAAAAAAAAAAAACAIglBQSGPoH1QPWdBBFaOczF/mkEAAABZNO23QWBHLT+iuWVBAAAAAITXl0FlCFbDn3WQQQAA3HtkPBVCAAAApNTEn0GR22qx9Y1xQQAAwMGR9tpBAAAAYPECa0FLH6e/YrLgQQAAAACAhE5BAAAAoHsQYUEAACjNfiUYQgM+oN4favNBAAAAAGDjdkH5hGyRy2dwQQAAACDNNIBB4PPDyeaEZ0EAAADgsVRoQQAAAAAAAAAAYW9+x+krsUE4+JX7JPURQgAAAACIKlFBAAAAhC0Mv0G+7S5cWURpQRKDYLnxTLpBWReqze8FHEJE3QeDpbpmQVYBjViqf3NBAAAAAHGwOEE9ipsSw74oQsWvGM+W7p9BAAAAAAAAAAAlcxxInZaZQdUhxePFL8NB8dd4J/5n2kEAAAAAAAAAAERLA8bRdWVBAAAAfjRgqEEAAABKiIStQXV1n+vOFZNBAAAAAITXd0EAAAAAAAAAAAAAAFQxA5FBAAAAAAAAAAAAAAAAAAAAAH0GlGv1smJBTQWmrfbcdEEAAAAAK8kyQUza+cLWH2VBAAAAALyMbkFEUX1tNnJTQQAAAADAlPRAAAAAAC5EckEAAKK9sDojQoNtFCAxMqBBJcsz4B2xwEFZ5otViSEyQgAAAIAfWnFBOFBexWN9YEHXRuHphLdtQQAAAEBEqFJBXc0A6tMtN0IHVhtzQ8phQQAAAAAAAAAAAAAAAGXNzUEAAACK1Y3vQQAAAAAAAAAAAAAAAAAAAAAAAAAAAAAAAJAsUsY/0ttBAAAAAAAAAAAAAAAAAAAAAJO4O1ApFThBx93xJ6g5bkEAAAAACrRpQTMzM7MvyRhBAAAAAGMEgUEAAAA4VPx3QQAAAAAAAAAAAAAAAGXNzUFIBWRiV0Z2QQAAAAAAAAAAAAAAAAAAAAC6qYxvxHmRQQaJ6d5eJ01BAAAAsPWcnEHSe7+80gv2wQAAAACE15dB+HqIgYBad0EAAAAAAAAAAAAAAACE15dB2arJMci0YUHzjtP+ZM3dQQAAgEGBNs1BAAAAYIbVW0E=\",\"dtype\":\"float64\",\"shape\":[139]},\"class\":[3,3,3,3,3,3,3,3,3,3,3,3,3,3,3,3,3,3,3,3,3,3,3,3,3,3,3,3,3,3,3,3,3,3,3,3,3,3,3,3,3,3,3,3,3,3,3,3,3,3,3,3,3,3,3,3,3,3,3,3,3,3,3,3,3,3,3,3,3,3,3,3,3,3,3,3,3,3,3,3,3,3,3,3,3,3,3,3,3,3,3,3,3,3,3,3,3,3,3,3,3,3,3,3,3,3,3,3,3,3,3,3,3,3,3,3,3,3,3,3,3,3,3,3,3,3,3,3,3,3,3,3,3,3,3,3,3,3,3]},\"selected\":{\"id\":\"2494\"},\"selection_policy\":{\"id\":\"2526\"}},\"id\":\"2493\",\"type\":\"ColumnDataSource\"},{\"attributes\":{},\"id\":\"2453\",\"type\":\"BasicTicker\"},{\"attributes\":{\"axis\":{\"id\":\"2452\"},\"grid_line_color\":null,\"ticker\":null},\"id\":\"2455\",\"type\":\"Grid\"}],\"root_ids\":[\"2436\"]},\"title\":\"Bokeh Application\",\"version\":\"2.0.1\"}};\n",
       "  var render_items = [{\"docid\":\"73d21760-b0a7-4963-8341-387c5a21bcf4\",\"root_ids\":[\"2436\"],\"roots\":{\"2436\":\"a810a028-af00-46d2-8c36-509e0ad60df6\"}}];\n",
       "  root.Bokeh.embed.embed_items_notebook(docs_json, render_items);\n",
       "  }\n",
       "if (root.Bokeh !== undefined) {\n",
       "    embed_document(root);\n",
       "  } else {\n",
       "    var attempts = 0;\n",
       "    var timer = setInterval(function(root) {\n",
       "      if (root.Bokeh !== undefined) {\n",
       "        clearInterval(timer);\n",
       "        embed_document(root);\n",
       "      } else if (document.readyState == \"complete\") {\n",
       "        attempts++;\n",
       "        if (attempts > 100) {\n",
       "          clearInterval(timer);\n",
       "          console.log(\"Bokeh: ERROR: Unable to run BokehJS code because BokehJS library is missing\");\n",
       "        }\n",
       "      }\n",
       "    }, 10, root)\n",
       "  }\n",
       "})(window);</script>"
      ],
      "text/plain": [
       ":NdOverlay   [class]\n",
       "   :Scatter   [TotalCoinsMined]   (TotalCoinSupply,CoinName)"
      ]
     },
     "execution_count": 84,
     "metadata": {
      "application/vnd.holoviews_exec.v0+json": {
       "id": "2436"
      }
     },
     "output_type": "execute_result"
    }
   ],
   "source": [
    "#hvplot scatter\n",
    "clustered_df.hvplot.scatter(x='TotalCoinsMined', y='TotalCoinSupply', by='class', hover_cols=[\"CoinName\"])"
   ]
  },
  {
   "cell_type": "code",
   "execution_count": null,
   "metadata": {},
   "outputs": [],
   "source": []
  }
 ],
 "metadata": {
  "kernelspec": {
   "display_name": "PythonData",
   "language": "python",
   "name": "pythondata"
  },
  "language_info": {
   "codemirror_mode": {
    "name": "ipython",
    "version": 3
   },
   "file_extension": ".py",
   "mimetype": "text/x-python",
   "name": "python",
   "nbconvert_exporter": "python",
   "pygments_lexer": "ipython3",
   "version": "3.7.7"
  }
 },
 "nbformat": 4,
 "nbformat_minor": 4
}
